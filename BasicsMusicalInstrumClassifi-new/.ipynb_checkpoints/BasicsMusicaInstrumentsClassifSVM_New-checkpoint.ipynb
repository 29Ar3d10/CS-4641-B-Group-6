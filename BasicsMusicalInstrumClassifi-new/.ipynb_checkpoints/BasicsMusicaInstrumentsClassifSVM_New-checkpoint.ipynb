{
 "cells": [
  {
   "cell_type": "markdown",
   "metadata": {},
   "source": [
    "# The Very Basics of Musical Instruments Classification using Machine Learning\n",
    "## MFCC, SVM \n",
    "\n",
    "<br>\n",
    "\n"
   ]
  },
  {
   "cell_type": "markdown",
   "metadata": {},
   "source": [
    "## Imports"
   ]
  },
  {
   "cell_type": "code",
   "execution_count": 1,
   "metadata": {},
   "outputs": [
    {
     "name": "stderr",
     "output_type": "stream",
     "text": [
      "/opt/anaconda3/lib/python3.7/site-packages/sklearn/externals/joblib/__init__.py:15: FutureWarning: sklearn.externals.joblib is deprecated in 0.21 and will be removed in 0.23. Please import this functionality directly from joblib, which can be installed with: pip install joblib. If this warning is raised when loading pickled models, you may need to re-serialize those models with scikit-learn 0.21+.\n",
      "  warnings.warn(msg, category=FutureWarning)\n"
     ]
    }
   ],
   "source": [
    "# Imports\n",
    "\n",
    "#General\n",
    "import numpy as np\n",
    "import pickle\n",
    "import itertools\n",
    "\n",
    "# System\n",
    "import os, fnmatch\n",
    "\n",
    "# Visualization\n",
    "import seaborn #visualization library, must be imported before all other plotting libraries\n",
    "import matplotlib.pyplot as plt\n",
    "from IPython.core.display import HTML, display\n",
    "\n",
    "# Machine Learning\n",
    "from sklearn.preprocessing import LabelEncoder\n",
    "from sklearn.preprocessing import StandardScaler\n",
    "from sklearn.model_selection import StratifiedShuffleSplit\n",
    "from sklearn.neighbors import KNeighborsClassifier\n",
    "from sklearn.metrics import recall_score, precision_score, accuracy_score\n",
    "from sklearn.metrics import confusion_matrix, f1_score, classification_report\n",
    "from sklearn.svm import LinearSVC, SVC\n",
    "from sklearn.externals import joblib\n",
    "\n",
    "# Random Seed\n",
    "from numpy.random import seed\n",
    "seed(1)\n",
    "\n",
    "# Audio\n",
    "import librosa.display, librosa\n",
    "\n",
    "# Suppress warnings\n",
    "import warnings\n",
    "warnings.filterwarnings(\"ignore\")\n",
    "\n",
    "# Configurations\n",
    "path='./audio/london_phill_dataset_multi/'"
   ]
  },
  {
   "cell_type": "markdown",
   "metadata": {},
   "source": [
    "## Auxiliary Functions"
   ]
  },
  {
   "cell_type": "code",
   "execution_count": 2,
   "metadata": {},
   "outputs": [],
   "source": [
    "# Function to Display a Website\n",
    "def show_web(url):\n",
    "    html_code='<center><iframe src=\"%s\" width=\"800\" height=\"600\" frameborder=\"0\" marginheight=\"0\" marginwidth=\"0\">Loading...</iframe></center>' \\\n",
    "\t\t% (url)\n",
    "    display(HTML(html_code))"
   ]
  },
  {
   "cell_type": "markdown",
   "metadata": {},
   "source": [
    "## Get filenames"
   ]
  },
  {
   "cell_type": "code",
   "execution_count": 3,
   "metadata": {},
   "outputs": [
    {
     "name": "stdout",
     "output_type": "stream",
     "text": [
      "found 27527 audio files in ./audio/london_phill_dataset_multi/\n"
     ]
    }
   ],
   "source": [
    "# Get files in data path\n",
    "\n",
    "files = []\n",
    "for root, dirnames, filenames in os.walk(path):\n",
    "    for filename in fnmatch.filter(filenames, '*.wav'):\n",
    "        files.append(os.path.join(root, filename))\n",
    "    for filename in fnmatch.filter(filenames, '*.mp3'):\n",
    "        files.append(os.path.join(root, filename))\n",
    "\n",
    "print(\"found %d audio files in %s\"%(len(files),path))"
   ]
  },
  {
   "cell_type": "markdown",
   "metadata": {},
   "source": [
    "## Prepare labels from filenames"
   ]
  },
  {
   "cell_type": "code",
   "execution_count": 4,
   "metadata": {},
   "outputs": [],
   "source": [
    "# Get Labels\n",
    "labels =[]\n",
    "classes=['flute', 'sax', 'oboe', 'cello', 'trumpet', 'viola', 'violin', 'percussion']\n",
    "color_dict={'cello':'blue', 'flute':'red', 'oboe':'green', 'trumpet':'black', 'sax':'magenta', \\\n",
    "            'viola':'yellow', 'violin':'purple', 'percussion':'pink'}\n",
    "color_list=[]\n",
    "for filename in files:\n",
    "    for name in classes:\n",
    "        if fnmatch.fnmatchcase(filename, '*'+name+'*'):\n",
    "            labels.append(name)\n",
    "            color_list.append(color_dict[name])\n",
    "            break\n",
    "    else:\n",
    "        labels.append('other')"
   ]
  },
  {
   "cell_type": "markdown",
   "metadata": {},
   "source": [
    "## Encode Labels"
   ]
  },
  {
   "cell_type": "code",
   "execution_count": 5,
   "metadata": {},
   "outputs": [
    {
     "name": "stdout",
     "output_type": "stream",
     "text": [
      "7 classes: cello, flute, oboe, sax, trumpet, viola, violin\n"
     ]
    }
   ],
   "source": [
    "# Encode Labels\n",
    "labelencoder = LabelEncoder()\n",
    "labelencoder.fit(labels)\n",
    "print(len(labelencoder.classes_), \"classes:\", \", \".join(list(labelencoder.classes_)))\n",
    "classes_num = labelencoder.transform(labels)"
   ]
  },
  {
   "cell_type": "markdown",
   "metadata": {},
   "source": [
    "## Parameters for MFCC"
   ]
  },
  {
   "cell_type": "code",
   "execution_count": 6,
   "metadata": {},
   "outputs": [],
   "source": [
    "# Parameters\n",
    "# Signal Processing Parameters\n",
    "fs = 44100         # Sampling Frequency\n",
    "n_fft = 2048       # length of the FFT window\n",
    "hop_length = 512   # Number of samples between successive frames\n",
    "n_mels = 128       # Number of Mel bands\n",
    "n_mfcc = 13        # Number of MFCCs\n",
    "\n",
    "# Machine Learning Parameters\n",
    "testset_size = 0.25 #Percentage of data for Testing\n",
    "n_neighbors=1       # Number of neighbors for kNN Classifier"
   ]
  },
  {
   "cell_type": "markdown",
   "metadata": {},
   "source": [
    "## Function to Calculate Audio Features: MFCC"
   ]
  },
  {
   "cell_type": "code",
   "execution_count": 7,
   "metadata": {},
   "outputs": [],
   "source": [
    "# Define Function to Calculate MFCC, Delta_MFCC and Delta2_MFCC\n",
    "def get_features(y, sr=fs):\n",
    "    S = librosa.feature.melspectrogram(y, sr=fs, n_mels=n_mels)\n",
    "    mfcc = librosa.feature.mfcc(S=librosa.power_to_db(S), n_mfcc=n_mfcc)\n",
    "    feature_vector = np.mean(mfcc,1)\n",
    "    #feature_vector = (feature_vector-np.mean(feature_vector))/np.std(feature_vector)\n",
    "    return feature_vector"
   ]
  },
  {
   "cell_type": "markdown",
   "metadata": {},
   "source": [
    "## Load audio files, calculate features and create feature vectors"
   ]
  },
  {
   "cell_type": "code",
   "execution_count": 8,
   "metadata": {},
   "outputs": [
    {
     "name": "stdout",
     "output_type": "stream",
     "text": [
      "get 500 of 27527\n",
      "get 1000 of 27527\n",
      "get 1500 of 27527\n",
      "get 2000 of 27527\n",
      "get 2500 of 27527\n",
      "get 3000 of 27527\n",
      "get 3500 of 27527\n",
      "get 4000 of 27527\n",
      "get 4500 of 27527\n",
      "get 5000 of 27527\n",
      "get 5500 of 27527\n",
      "get 6000 of 27527\n",
      "get 6500 of 27527\n",
      "get 7000 of 27527\n",
      "get 7500 of 27527\n",
      "get 8000 of 27527\n",
      "get 8500 of 27527\n",
      "get 9000 of 27527\n",
      "get 9500 of 27527\n",
      "get 10000 of 27527\n",
      "get 10500 of 27527\n",
      "get 11000 of 27527\n",
      "get 11500 of 27527\n",
      "get 12000 of 27527\n",
      "get 12500 of 27527\n",
      "get 13000 of 27527\n",
      "get 13500 of 27527\n",
      "get 14000 of 27527\n",
      "get 14500 of 27527\n",
      "get 15000 of 27527\n",
      "get 15500 of 27527\n",
      "get 16000 of 27527\n",
      "get 16500 of 27527\n",
      "get 17000 of 27527\n",
      "get 17500 of 27527\n",
      "get 18000 of 27527\n",
      "get 18500 of 27527\n",
      "get 19000 of 27527\n",
      "get 19500 of 27527\n",
      "get 20000 of 27527\n",
      "get 20500 of 27527\n",
      "get 21000 of 27527\n",
      "get 21500 of 27527\n",
      "get 22000 of 27527\n",
      "get 22500 of 27527\n",
      "get 23000 of 27527\n",
      "get 23500 of 27527\n",
      "get 24000 of 27527\n",
      "get 24500 of 27527\n",
      "get 25000 of 27527\n",
      "get 25500 of 27527\n",
      "get 26000 of 27527\n",
      "get 26500 of 27527\n",
      "get 27000 of 27527\n",
      "get 27500 of 27527\n",
      "Calculated 27527 feature vectors\n"
     ]
    }
   ],
   "source": [
    "# Load audio files, calculate features and create feature vectors\n",
    "feature_vectors = []\n",
    "sound_paths = []\n",
    "for i,f in enumerate(files):\n",
    "    if np.mod(i, 500) == 499:\n",
    "        # print (\"get %d of %d = %s\"%(i+1, len(files), f))\n",
    "        print (\"get %d of %d\"%(i+1, len(files)))\n",
    "    try:\n",
    "        y, sr = librosa.load(f, sr=fs)\n",
    "        y/=y.max() #Normalize\n",
    "        if len(y) < 2:\n",
    "            print(\"Error loading %s\" % f)\n",
    "            continue\n",
    "        feat = get_features(y, sr)\n",
    "        feature_vectors.append(feat)\n",
    "        sound_paths.append(f)\n",
    "    except Exception as e:\n",
    "        print(\"Error loading %s. Error: %s\" % (f,e))\n",
    "        \n",
    "print(\"Calculated %d feature vectors\"%len(feature_vectors))"
   ]
  },
  {
   "cell_type": "markdown",
   "metadata": {},
   "source": [
    "## Standardization: Zero-Mean and Unit-Variance"
   ]
  },
  {
   "cell_type": "code",
   "execution_count": 9,
   "metadata": {
    "scrolled": true
   },
   "outputs": [
    {
     "name": "stdout",
     "output_type": "stream",
     "text": [
      "Feature vectors 0 shape: (27527, 13)\n",
      "Feature vectors 1 shape: (27527, 13)\n"
     ]
    }
   ],
   "source": [
    "# Scale features using Standard Scaler\n",
    "scaler = StandardScaler()\n",
    "scaled_feature_vectors = scaler.fit_transform(np.array(feature_vectors))\n",
    "scaled_feature_vectors1 = (feature_vectors-np.mean(feature_vectors))/np.std(feature_vectors)\n",
    "print(\"Feature vectors 0 shape:\",scaled_feature_vectors.shape)\n",
    "print(\"Feature vectors 1 shape:\",scaled_feature_vectors1.shape)"
   ]
  },
  {
   "cell_type": "markdown",
   "metadata": {},
   "source": [
    "## Save / Load Feature Vector"
   ]
  },
  {
   "cell_type": "code",
   "execution_count": 10,
   "metadata": {},
   "outputs": [],
   "source": [
    "filename=\"mfcc_feature_vectors.pl\"\n",
    "# Load mfcc features from saved file\n",
    "# with open(filename, \"rb\") as f:\n",
    "#    scaled_feature_vectors = pickle.load( open( filename, \"rb\" ) )\n",
    "\n",
    "# Save feature_vectors for future use\n",
    "with open(filename, \"wb\") as f:\n",
    "    pickle.dump( scaled_feature_vectors, f)"
   ]
  },
  {
   "cell_type": "markdown",
   "metadata": {},
   "source": [
    "## Train and Test Sets"
   ]
  },
  {
   "cell_type": "code",
   "execution_count": 11,
   "metadata": {},
   "outputs": [],
   "source": [
    "# Create Train and Test Set\n",
    "splitter = StratifiedShuffleSplit(n_splits=1, test_size=testset_size, random_state=0)\n",
    "splits = splitter.split(scaled_feature_vectors, classes_num)\n",
    "for train_index, test_index in splits:\n",
    "    train_set = scaled_feature_vectors[train_index]\n",
    "    test_set = scaled_feature_vectors[test_index]\n",
    "    train_classes = classes_num[train_index]\n",
    "    test_classes = classes_num[test_index]"
   ]
  },
  {
   "cell_type": "code",
   "execution_count": 12,
   "metadata": {},
   "outputs": [
    {
     "name": "stdout",
     "output_type": "stream",
     "text": [
      "train_set shape: (20645, 13)\n",
      "test_set shape: (6882, 13)\n",
      "train_classes shape: (20645,)\n",
      "test_classes shape: (6882,)\n",
      "test_classes: [2 2 0 ... 5 4 1]\n"
     ]
    }
   ],
   "source": [
    "# Check Set Shapes\n",
    "print(\"train_set shape:\",train_set.shape)\n",
    "print(\"test_set shape:\",test_set.shape)\n",
    "print(\"train_classes shape:\",train_classes.shape)\n",
    "print(\"test_classes shape:\",test_classes.shape)\n",
    "print(\"test_classes:\",test_classes)"
   ]
  },
  {
   "cell_type": "markdown",
   "metadata": {},
   "source": [
    "## SVM Classification"
   ]
  },
  {
   "cell_type": "code",
   "execution_count": 13,
   "metadata": {},
   "outputs": [],
   "source": [
    "# SVM\n",
    "svclassifier = SVC(kernel='rbf', C = 10.0, gamma=0.1) \n",
    "svclassifier1 = SVC(kernel='rbf', C = 10.0, gamma=0.1) "
   ]
  },
  {
   "cell_type": "code",
   "execution_count": 14,
   "metadata": {},
   "outputs": [],
   "source": [
    "# SVM\n",
    "svclassifier.fit(train_set, train_classes);\n",
    "svclassifier1.fit(scaled_feature_vectors1, classes_num);"
   ]
  },
  {
   "cell_type": "markdown",
   "metadata": {},
   "source": [
    "### Save / Load Trained Model"
   ]
  },
  {
   "cell_type": "markdown",
   "metadata": {},
   "source": [
    "## Evaluation"
   ]
  },
  {
   "cell_type": "code",
   "execution_count": 16,
   "metadata": {},
   "outputs": [
    {
     "name": "stdout",
     "output_type": "stream",
     "text": [
      "Predicted Label:  [2 2 0 ... 5 4 1]\n"
     ]
    }
   ],
   "source": [
    "# Predict using the Test Set\n",
    "#predicted_labels = model_svm.predict(test_set)\n",
    "predicted_labels = svclassifier.predict(test_set)\n",
    "print(\"Predicted Label: \", predicted_labels)"
   ]
  },
  {
   "cell_type": "code",
   "execution_count": 17,
   "metadata": {},
   "outputs": [
    {
     "name": "stdout",
     "output_type": "stream",
     "text": [
      "Recall:  [0.97623239 0.99441341 0.99727149 0.95465686 0.94501718 0.96747289\n",
      " 0.97168405]\n",
      "Precision:  [0.98141593 0.98980538 0.98252688 0.96650124 0.94991364 0.97152429\n",
      " 0.96592593]\n",
      "F1-Score:  [0.9788173  0.99210404 0.98984428 0.96054254 0.94745909 0.96949436\n",
      " 0.96879643]\n",
      "Accuracy: 0.97  , 6701\n",
      "Number of samples: 6882\n"
     ]
    }
   ],
   "source": [
    "# Recall - the ability of the classifier to find all the positive samples\n",
    "print(\"Recall: \", recall_score(test_classes, predicted_labels,average=None))\n",
    "\n",
    "# Precision - The precision is intuitively the ability of the classifier not to \n",
    "#label as positive a sample that is negative\n",
    "print(\"Precision: \", precision_score(test_classes, predicted_labels,average=None))\n",
    "\n",
    "# F1-Score - The F1 score can be interpreted as a weighted average of the precision \n",
    "#and recall\n",
    "print(\"F1-Score: \", f1_score(test_classes, predicted_labels, average=None))\n",
    "\n",
    "# Accuracy - the number of correctly classified samples\n",
    "print(\"Accuracy: %.2f  ,\" % accuracy_score(test_classes, predicted_labels,normalize=True), accuracy_score(test_classes, predicted_labels,normalize=False) )\n",
    "print(\"Number of samples:\",test_classes.shape[0])"
   ]
  },
  {
   "cell_type": "code",
   "execution_count": 18,
   "metadata": {},
   "outputs": [],
   "source": [
    "# Compute confusion matrix\n",
    "cnf_matrix = confusion_matrix(test_classes, predicted_labels)\n",
    "np.set_printoptions(precision=2)"
   ]
  },
  {
   "cell_type": "code",
   "execution_count": 19,
   "metadata": {},
   "outputs": [],
   "source": [
    "# Function to Plot Confusion Matrix\n",
    "# http://scikit-learn.org/stable/auto_examples/model_selection/plot_confusion_matrix.html\n",
    "def plot_confusion_matrix(cm, classes,\n",
    "                          normalize=False,\n",
    "                          title='Confusion matrix',\n",
    "                          cmap=plt.cm.Blues):\n",
    "    \"\"\"\n",
    "    This function prints and plots the confusion matrix.\n",
    "    Normalization can be applied by setting `normalize=True`.\n",
    "    \n",
    "    if normalize:\n",
    "        cm = cm.astype('float') / cm.sum(axis=1)[:, np.newaxis]\n",
    "        print(\"Normalized confusion matrix\")\n",
    "    else:\n",
    "        print('Confusion matrix, without normalization')\n",
    "    \"\"\"\n",
    "    #print(cm)\n",
    "\n",
    "    plt.imshow(cm, interpolation='nearest', cmap=cmap)\n",
    "    plt.title(title)\n",
    "    plt.colorbar()\n",
    "    tick_marks = np.arange(len(classes))\n",
    "    plt.xticks(tick_marks, classes, rotation=45)\n",
    "    plt.yticks(tick_marks, classes)\n",
    "\n",
    "    fmt = '.2f' if normalize else 'd'\n",
    "    thresh = cm.max() / 2.\n",
    "    for i, j in itertools.product(range(cm.shape[0]), range(cm.shape[1])):\n",
    "        plt.text(j, i, format(cm[i, j], fmt),\n",
    "                 horizontalalignment=\"center\",\n",
    "                 color=\"white\" if cm[i, j] > thresh else \"black\")\n",
    "\n",
    "    plt.tight_layout()\n",
    "    plt.ylabel('True label')\n",
    "    plt.xlabel('Predicted label')"
   ]
  },
  {
   "cell_type": "code",
   "execution_count": 20,
   "metadata": {},
   "outputs": [
    {
     "data": {
      "image/png": "[encoded data removed]",
      "text/plain": [
       "<Figure size 576x432 with 2 Axes>"
      ]
     },
     "metadata": {
      "needs_background": "light"
     },
     "output_type": "display_data"
    }
   ],
   "source": [
    "# Plot non-normalized confusion matrix\n",
    "plt.figure(figsize=(8,6))\n",
    "plot_confusion_matrix(cnf_matrix, classes=labelencoder.classes_,\n",
    "                      title='Confusion matrix, without normalization')"
   ]
  },
  {
   "cell_type": "code",
   "execution_count": 21,
   "metadata": {},
   "outputs": [],
   "source": [
    "# Find wrong predicted samples indexes\n",
    "#wrong_predictions = [i for i, (e1, e2) in enumerate(zip(test_classes, predicted_labels)) if e1 != e2]\n",
    "wrong_predictions = [i for i, (e1, e2) in enumerate(zip(predicted_labels,test_classes)) if e1 != e2]"
   ]
  },
  {
   "cell_type": "code",
   "execution_count": 22,
   "metadata": {},
   "outputs": [
    {
     "name": "stdout",
     "output_type": "stream",
     "text": [
      "['viola' 'sax' 'sax' 'viola' 'viola' 'cello' 'violin' 'sax' 'cello'\n",
      " 'viola' 'sax' 'trumpet' 'trumpet' 'violin' 'violin' 'sax' 'viola' 'viola'\n",
      " 'cello' 'trumpet' 'sax' 'violin' 'viola' 'trumpet' 'sax' 'viola' 'cello'\n",
      " 'viola' 'viola' 'cello' 'flute' 'cello' 'violin' 'sax' 'viola' 'viola'\n",
      " 'trumpet' 'viola' 'cello' 'violin' 'viola' 'violin' 'viola' 'violin'\n",
      " 'cello' 'violin' 'viola' 'violin' 'violin' 'violin' 'cello' 'sax'\n",
      " 'trumpet' 'cello' 'violin' 'sax' 'sax' 'sax' 'viola' 'sax' 'flute' 'sax'\n",
      " 'trumpet' 'trumpet' 'violin' 'sax' 'trumpet' 'sax' 'violin' 'trumpet'\n",
      " 'sax' 'trumpet' 'trumpet' 'viola' 'cello' 'violin' 'cello' 'viola' 'sax'\n",
      " 'sax' 'violin' 'viola' 'viola' 'sax' 'violin' 'sax' 'viola' 'cello' 'sax'\n",
      " 'sax' 'cello' 'viola' 'cello' 'violin' 'violin' 'viola' 'violin' 'viola'\n",
      " 'trumpet' 'viola' 'cello' 'trumpet' 'cello' 'violin' 'trumpet' 'violin'\n",
      " 'violin' 'viola' 'violin' 'sax' 'trumpet' 'flute' 'viola' 'cello' 'viola'\n",
      " 'oboe' 'viola' 'cello' 'violin' 'violin' 'sax' 'violin' 'viola' 'trumpet'\n",
      " 'trumpet' 'violin' 'trumpet' 'sax' 'trumpet' 'trumpet' 'trumpet' 'viola'\n",
      " 'trumpet' 'violin' 'viola' 'sax' 'sax' 'sax' 'viola' 'violin' 'viola'\n",
      " 'flute' 'cello' 'trumpet' 'trumpet' 'cello' 'oboe' 'violin' 'violin'\n",
      " 'violin' 'sax' 'trumpet' 'sax' 'viola' 'sax' 'flute' 'trumpet' 'sax'\n",
      " 'violin' 'violin' 'viola' 'trumpet' 'violin' 'sax' 'trumpet' 'cello'\n",
      " 'viola' 'viola' 'sax' 'flute' 'cello' 'cello' 'trumpet' 'cello' 'cello'\n",
      " 'sax' 'sax' 'cello' 'trumpet' 'violin' 'trumpet']\n",
      "[6 4 4 6 6 6 5 4 1 0 2 3 2 0 5 4 6 0 6 6 4 5 6 2 6 6 1 6 1 6 5 5 1 4 2 6 3\n",
      " 6 5 1 4 5 0 5 5 5 0 0 5 5 6 4 3 6 3 5 4 6 0 6 3 4 3 3 5 6 3 6 3 3 4 2 2 6\n",
      " 6 4 5 6 4 4 2 6 6 4 5 4 6 5 6 4 6 6 6 3 0 6 1 0 3 0 5 3 5 5 3 5 3 6 5 4 2\n",
      " 0 4 6 6 4 0 5 0 5 4 5 6 3 3 5 3 4 2 3 1 0 3 0 6 5 6 6 3 5 0 0 6 3 2 6 1 5\n",
      " 0 5 4 3 6 1 4 5 3 6 5 3 0 0 5 4 2 6 0 6 4 4 1 6 2 6 5 4 4 3 3 1 2]\n",
      "['violin' 'trumpet' 'trumpet' 'violin' 'violin' 'violin' 'viola' 'trumpet'\n",
      " 'flute' 'cello' 'oboe' 'sax' 'oboe' 'cello' 'viola' 'trumpet' 'violin'\n",
      " 'cello' 'violin' 'violin' 'trumpet' 'viola' 'violin' 'oboe' 'violin'\n",
      " 'violin' 'flute' 'violin' 'flute' 'violin' 'viola' 'viola' 'flute'\n",
      " 'trumpet' 'oboe' 'violin' 'sax' 'violin' 'viola' 'flute' 'trumpet'\n",
      " 'viola' 'cello' 'viola' 'viola' 'viola' 'cello' 'cello' 'viola' 'viola'\n",
      " 'violin' 'trumpet' 'sax' 'violin' 'sax' 'viola' 'trumpet' 'violin'\n",
      " 'cello' 'violin' 'sax' 'trumpet' 'sax' 'sax' 'viola' 'violin' 'sax'\n",
      " 'violin' 'sax' 'sax' 'trumpet' 'oboe' 'oboe' 'violin' 'violin' 'trumpet'\n",
      " 'viola' 'violin' 'trumpet' 'trumpet' 'oboe' 'violin' 'violin' 'trumpet'\n",
      " 'viola' 'trumpet' 'violin' 'viola' 'violin' 'trumpet' 'violin' 'violin'\n",
      " 'violin' 'sax' 'cello' 'violin' 'flute' 'cello' 'sax' 'cello' 'viola'\n",
      " 'sax' 'viola' 'viola' 'sax' 'viola' 'sax' 'violin' 'viola' 'trumpet'\n",
      " 'oboe' 'cello' 'trumpet' 'violin' 'violin' 'trumpet' 'cello' 'viola'\n",
      " 'cello' 'viola' 'trumpet' 'viola' 'violin' 'sax' 'sax' 'viola' 'sax'\n",
      " 'trumpet' 'oboe' 'sax' 'flute' 'cello' 'sax' 'cello' 'violin' 'viola'\n",
      " 'violin' 'violin' 'sax' 'viola' 'cello' 'cello' 'violin' 'sax' 'oboe'\n",
      " 'violin' 'flute' 'viola' 'cello' 'viola' 'trumpet' 'sax' 'violin' 'flute'\n",
      " 'trumpet' 'viola' 'sax' 'violin' 'viola' 'sax' 'cello' 'cello' 'viola'\n",
      " 'trumpet' 'oboe' 'violin' 'cello' 'violin' 'trumpet' 'trumpet' 'flute'\n",
      " 'violin' 'oboe' 'violin' 'viola' 'trumpet' 'trumpet' 'sax' 'sax' 'flute'\n",
      " 'oboe']\n",
      "['./audio/london_phill_dataset_multi/viola/viola_C5_025_forte_arco-normal.mp3'\n",
      " './audio/london_phill_dataset_multi/sax/combined/sax_234_399.wav'\n",
      " './audio/london_phill_dataset_multi/sax/combined/sax_171_477.wav'\n",
      " './audio/london_phill_dataset_multi/viola/combined/viola_115_459.wav'\n",
      " './audio/london_phill_dataset_multi/viola/combined/viola_870_209.wav'\n",
      " './audio/london_phill_dataset_multi/violin/violin_Ds5_1_piano_arco-sul-ponticello.mp3'\n",
      " './audio/london_phill_dataset_multi/violin/violin_G4_1_pianissimo_arco-normal.mp3'\n",
      " './audio/london_phill_dataset_multi/sax/combined/sax_387_404.wav'\n",
      " './audio/london_phill_dataset_multi/cello/combined/cello_404_540.wav'\n",
      " './audio/london_phill_dataset_multi/viola/combined/viola_468_617.wav'\n",
      " './audio/london_phill_dataset_multi/sax/combined/sax_270_79.wav'\n",
      " './audio/london_phill_dataset_multi/trumpet/combined/trumpet_13_470.wav'\n",
      " './audio/london_phill_dataset_multi/trumpet/combined/trumpet_314_200.wav'\n",
      " './audio/london_phill_dataset_multi/violin/violin_Cs5_1_pianissimo_arco-normal.mp3'\n",
      " './audio/london_phill_dataset_multi/violin/combined/violin_1165_1136.wav'\n",
      " './audio/london_phill_dataset_multi/sax/combined/sax_104_126.wav'\n",
      " './audio/london_phill_dataset_multi/viola/combined/viola_420_516.wav'\n",
      " './audio/london_phill_dataset_multi/viola/combined/viola_386_628.wav'\n",
      " './audio/london_phill_dataset_multi/violin/violin_As4_1_mezzo-forte_arco-sul-ponticello.mp3'\n",
      " './audio/london_phill_dataset_multi/trumpet/combined/trumpet_247_287.wav'\n",
      " './audio/london_phill_dataset_multi/sax/combined/sax_194_259.wav'\n",
      " './audio/london_phill_dataset_multi/violin/combined/violin_732_355.wav'\n",
      " './audio/london_phill_dataset_multi/viola/combined/viola_319_780.wav'\n",
      " './audio/london_phill_dataset_multi/trumpet/trumpet_As5_15_pianissimo_normal.mp3'\n",
      " './audio/london_phill_dataset_multi/sax/combined/sax_593_302.wav'\n",
      " './audio/london_phill_dataset_multi/viola/combined/viola_32_389.wav'\n",
      " './audio/london_phill_dataset_multi/cello/combined/cello_287_554.wav'\n",
      " './audio/london_phill_dataset_multi/viola/combined/viola_469_124.wav'\n",
      " './audio/london_phill_dataset_multi/viola/combined/viola_716_139.wav'\n",
      " './audio/london_phill_dataset_multi/violin/violin_D6_1_mezzo-forte_arco-sul-ponticello.mp3'\n",
      " './audio/london_phill_dataset_multi/flute/combined/flute_788_223.wav'\n",
      " './audio/london_phill_dataset_multi/cello/cello_C4_15_pianissimo_arco-normal.mp3'\n",
      " './audio/london_phill_dataset_multi/violin/combined/violin_819_948.wav'\n",
      " './audio/london_phill_dataset_multi/sax/combined/sax_265_271.wav'\n",
      " './audio/london_phill_dataset_multi/viola/combined/viola_448_780.wav'\n",
      " './audio/london_phill_dataset_multi/viola/combined/viola_240_788.wav'\n",
      " './audio/london_phill_dataset_multi/trumpet/combined/trumpet_68_138.wav'\n",
      " './audio/london_phill_dataset_multi/viola/combined/viola_207_537.wav'\n",
      " './audio/london_phill_dataset_multi/cello/cello_C4_15_mezzo-piano_arco-normal.mp3'\n",
      " './audio/london_phill_dataset_multi/violin/combined/violin_845_447.wav'\n",
      " './audio/london_phill_dataset_multi/viola/combined/viola_521_434.wav'\n",
      " './audio/london_phill_dataset_multi/violin/violin_Fs4_025_piano_arco-normal.mp3'\n",
      " './audio/london_phill_dataset_multi/viola/combined/viola_340_502.wav'\n",
      " './audio/london_phill_dataset_multi/violin/violin_E5_05_pianissimo_arco-normal.mp3'\n",
      " './audio/london_phill_dataset_multi/cello/combined/cello_254_396.wav'\n",
      " './audio/london_phill_dataset_multi/violin/violin_F4_1_piano_arco-col-legno-tratto.mp3'\n",
      " './audio/london_phill_dataset_multi/viola/combined/viola_779_21.wav'\n",
      " './audio/london_phill_dataset_multi/violin/combined/violin_664_113.wav'\n",
      " './audio/london_phill_dataset_multi/violin/combined/violin_628_909.wav'\n",
      " './audio/london_phill_dataset_multi/violin/violin_G6_1_mezzo-forte_natural-harmonic.mp3'\n",
      " './audio/london_phill_dataset_multi/violin/violin_As3_1_piano_arco-sul-ponticello.mp3'\n",
      " './audio/london_phill_dataset_multi/sax/combined/sax_500_302.wav'\n",
      " './audio/london_phill_dataset_multi/trumpet/combined/trumpet_445_110.wav'\n",
      " './audio/london_phill_dataset_multi/violin/violin_Cs6_1_piano_arco-sul-ponticello.mp3'\n",
      " './audio/london_phill_dataset_multi/violin/violin_Fs6_1_piano_natural-harmonic.mp3'\n",
      " './audio/london_phill_dataset_multi/sax/combined/sax_152_540.wav'\n",
      " './audio/london_phill_dataset_multi/sax/combined/sax_39_558.wav'\n",
      " './audio/london_phill_dataset_multi/sax/combined/sax_15_197.wav'\n",
      " './audio/london_phill_dataset_multi/viola/combined/viola_703_210.wav'\n",
      " './audio/london_phill_dataset_multi/sax/combined/sax_319_136.wav'\n",
      " './audio/london_phill_dataset_multi/flute/combined/flute_196_85.wav'\n",
      " './audio/london_phill_dataset_multi/sax/combined/sax_276_275.wav'\n",
      " './audio/london_phill_dataset_multi/trumpet/combined/trumpet_345_110.wav'\n",
      " './audio/london_phill_dataset_multi/trumpet/combined/trumpet_351_331.wav'\n",
      " './audio/london_phill_dataset_multi/violin/combined/violin_989_1213.wav'\n",
      " './audio/london_phill_dataset_multi/sax/combined/sax_136_396.wav'\n",
      " './audio/london_phill_dataset_multi/trumpet/combined/trumpet_303_103.wav'\n",
      " './audio/london_phill_dataset_multi/sax/combined/sax_247_86.wav'\n",
      " './audio/london_phill_dataset_multi/violin/combined/violin_622_703.wav'\n",
      " './audio/london_phill_dataset_multi/trumpet/combined/trumpet_157_438.wav'\n",
      " './audio/london_phill_dataset_multi/sax/combined/sax_272_287.wav'\n",
      " './audio/london_phill_dataset_multi/trumpet/combined/trumpet_443_87.wav'\n",
      " './audio/london_phill_dataset_multi/trumpet/combined/trumpet_261_89.wav'\n",
      " './audio/london_phill_dataset_multi/viola/viola_B4_025_fortissimo_arco-normal.mp3'\n",
      " './audio/london_phill_dataset_multi/violin/violin_G4_1_piano_arco-sul-ponticello.mp3'\n",
      " './audio/london_phill_dataset_multi/violin/combined/violin_244_547.wav'\n",
      " './audio/london_phill_dataset_multi/cello/combined/cello_87_36.wav'\n",
      " './audio/london_phill_dataset_multi/viola/combined/viola_702_667.wav'\n",
      " './audio/london_phill_dataset_multi/sax/combined/sax_539_167.wav'\n",
      " './audio/london_phill_dataset_multi/sax/combined/sax_24_492.wav'\n",
      " './audio/london_phill_dataset_multi/violin/combined/violin_907_808.wav'\n",
      " './audio/london_phill_dataset_multi/viola/viola_C5_05_forte_arco-normal.mp3'\n",
      " './audio/london_phill_dataset_multi/viola/combined/viola_757_638.wav'\n",
      " './audio/london_phill_dataset_multi/sax/combined/sax_307_488.wav'\n",
      " './audio/london_phill_dataset_multi/violin/combined/violin_802_484.wav'\n",
      " './audio/london_phill_dataset_multi/sax/combined/sax_577_602.wav'\n",
      " './audio/london_phill_dataset_multi/viola/combined/viola_129_702.wav'\n",
      " './audio/london_phill_dataset_multi/cello/more_cello_r1232.wav'\n",
      " './audio/london_phill_dataset_multi/sax/combined/sax_378_91.wav'\n",
      " './audio/london_phill_dataset_multi/sax/saxophone_Ds5_1_forte_major-trill.mp3'\n",
      " './audio/london_phill_dataset_multi/cello/cello_Gs4_05_forte_arco-normal.mp3'\n",
      " './audio/london_phill_dataset_multi/viola/combined/viola_386_213.wav'\n",
      " './audio/london_phill_dataset_multi/violin/violin_Fs4_1_mezzo-forte_arco-sul-ponticello.mp3'\n",
      " './audio/london_phill_dataset_multi/violin/combined/violin_793_245.wav'\n",
      " './audio/london_phill_dataset_multi/violin/violin_D6_05_pianissimo_arco-normal.mp3'\n",
      " './audio/london_phill_dataset_multi/viola/viola_As4_025_fortissimo_arco-normal.mp3'\n",
      " './audio/london_phill_dataset_multi/violin/combined/violin_414_941.wav'\n",
      " './audio/london_phill_dataset_multi/viola/viola_A4_15_fortissimo_arco-normal.mp3'\n",
      " './audio/london_phill_dataset_multi/trumpet/combined/trumpet_167_333.wav'\n",
      " './audio/london_phill_dataset_multi/viola/combined/viola_55_220.wav'\n",
      " './audio/london_phill_dataset_multi/cello/combined/cello_602_795.wav'\n",
      " './audio/london_phill_dataset_multi/trumpet/combined/trumpet_309_71.wav'\n",
      " './audio/london_phill_dataset_multi/cello/cello_G4_05_pianissimo_arco-normal.mp3'\n",
      " './audio/london_phill_dataset_multi/violin/combined/violin_727_545.wav'\n",
      " './audio/london_phill_dataset_multi/trumpet/combined/trumpet_441_293.wav'\n",
      " './audio/london_phill_dataset_multi/violin/combined/violin_37_556.wav'\n",
      " './audio/london_phill_dataset_multi/violin/combined/violin_1058_328.wav'\n",
      " './audio/london_phill_dataset_multi/viola/viola_D5_025_fortissimo_arco-normal.mp3'\n",
      " './audio/london_phill_dataset_multi/violin/violin_B3_025_mezzo-piano_arco-normal.mp3'\n",
      " './audio/london_phill_dataset_multi/sax/combined/sax_167_150.wav'\n",
      " './audio/london_phill_dataset_multi/trumpet/trumpet_As5_1_pianissimo_normal.mp3'\n",
      " './audio/london_phill_dataset_multi/flute/combined/flute_554_100.wav'\n",
      " './audio/london_phill_dataset_multi/viola/combined/viola_536_763.wav'\n",
      " './audio/london_phill_dataset_multi/violin/violin_Ds5_1_mezzo-forte_arco-sul-ponticello.mp3'\n",
      " './audio/london_phill_dataset_multi/viola/combined/viola_310_870.wav'\n",
      " './audio/london_phill_dataset_multi/oboe/combined/oboe_232_42.wav'\n",
      " './audio/london_phill_dataset_multi/viola/viola_C3_1_piano_pizz-normal.mp3'\n",
      " './audio/london_phill_dataset_multi/cello/combined/cello_540_340.wav'\n",
      " './audio/london_phill_dataset_multi/violin/combined/violin_892_291.wav'\n",
      " './audio/london_phill_dataset_multi/violin/violin_G6_025_piano_arco-col-legno-battuto.mp3'\n",
      " './audio/london_phill_dataset_multi/sax/saxophone_D6_025_piano_normal.mp3'\n",
      " './audio/london_phill_dataset_multi/violin/violin_Fs4_025_pianissimo_arco-col-legno-battuto.mp3'\n",
      " './audio/london_phill_dataset_multi/viola/viola_A4_1_fortissimo_arco-normal.mp3'\n",
      " './audio/london_phill_dataset_multi/trumpet/combined/trumpet_205_237.wav'\n",
      " './audio/london_phill_dataset_multi/trumpet/combined/trumpet_377_39.wav'\n",
      " './audio/london_phill_dataset_multi/violin/violin_F4_025_mezzo-piano_arco-normal.mp3'\n",
      " './audio/london_phill_dataset_multi/trumpet/combined/trumpet_452_360.wav'\n",
      " './audio/london_phill_dataset_multi/sax/saxophone_C6_025_pianissimo_normal.mp3'\n",
      " './audio/london_phill_dataset_multi/trumpet/trumpet_Ds5_long_pianissimo_normal.mp3'\n",
      " './audio/london_phill_dataset_multi/trumpet/combined/trumpet_21_286.wav'\n",
      " './audio/london_phill_dataset_multi/trumpet/trumpet_Cs5_long_pianissimo_normal.mp3'\n",
      " './audio/london_phill_dataset_multi/viola/combined/viola_234_309.wav'\n",
      " './audio/london_phill_dataset_multi/trumpet/combined/trumpet_260_116.wav'\n",
      " './audio/london_phill_dataset_multi/violin/violin_G5_05_pianissimo_arco-normal.mp3'\n",
      " './audio/london_phill_dataset_multi/viola/combined/viola_485_184.wav'\n",
      " './audio/london_phill_dataset_multi/sax/saxophone_B3_05_forte_normal.mp3'\n",
      " './audio/london_phill_dataset_multi/sax/combined/sax_639_366.wav'\n",
      " './audio/london_phill_dataset_multi/sax/combined/sax_544_207.wav'\n",
      " './audio/london_phill_dataset_multi/viola/combined/viola_541_537.wav'\n",
      " './audio/london_phill_dataset_multi/violin/violin_G4_025_mezzo-piano_arco-normal.mp3'\n",
      " './audio/london_phill_dataset_multi/viola/combined/viola_214_259.wav'\n",
      " './audio/london_phill_dataset_multi/flute/combined/flute_117_82.wav'\n",
      " './audio/london_phill_dataset_multi/violin/violin_As5_1_piano_arco-sul-ponticello.mp3'\n",
      " './audio/london_phill_dataset_multi/trumpet/combined/trumpet_116_146.wav'\n",
      " './audio/london_phill_dataset_multi/trumpet/combined/trumpet_334_204.wav'\n",
      " './audio/london_phill_dataset_multi/violin/violin_C5_1_piano_arco-sul-ponticello.mp3'\n",
      " './audio/london_phill_dataset_multi/oboe/oboe_Cs5_1_fortissimo_normal.mp3'\n",
      " './audio/london_phill_dataset_multi/violin/combined/violin_792_245.wav'\n",
      " './audio/london_phill_dataset_multi/violin/combined/violin_408_534.wav'\n",
      " './audio/london_phill_dataset_multi/violin/combined/violin_734_897.wav'\n",
      " './audio/london_phill_dataset_multi/sax/combined/sax_485_38.wav'\n",
      " './audio/london_phill_dataset_multi/trumpet/combined/trumpet_355_148.wav'\n",
      " './audio/london_phill_dataset_multi/sax/saxophone_E4_025_mezzo-forte_slap-tongue.mp3'\n",
      " './audio/london_phill_dataset_multi/viola/combined/viola_897_567.wav'\n",
      " './audio/london_phill_dataset_multi/sax/saxophone_B4_1_piano_normal.mp3'\n",
      " './audio/london_phill_dataset_multi/flute/combined/flute_375_634.wav'\n",
      " './audio/london_phill_dataset_multi/trumpet/combined/trumpet_273_59.wav'\n",
      " './audio/london_phill_dataset_multi/sax/combined/sax_15_601.wav'\n",
      " './audio/london_phill_dataset_multi/violin/combined/violin_1158_951.wav'\n",
      " './audio/london_phill_dataset_multi/violin/combined/violin_245_930.wav'\n",
      " './audio/london_phill_dataset_multi/viola/combined/viola_515_419.wav'\n",
      " './audio/london_phill_dataset_multi/trumpet/combined/trumpet_73_294.wav'\n",
      " './audio/london_phill_dataset_multi/violin/violin_Cs5_025_pianissimo_arco-normal.mp3'\n",
      " './audio/london_phill_dataset_multi/sax/combined/sax_326_244.wav'\n",
      " './audio/london_phill_dataset_multi/trumpet/trumpet_G5_long_pianissimo_normal.mp3'\n",
      " './audio/london_phill_dataset_multi/violin/violin_A6_1_piano_arco-sul-ponticello.mp3'\n",
      " './audio/london_phill_dataset_multi/viola/viola_B3_025_fortissimo_arco-normal.mp3'\n",
      " './audio/london_phill_dataset_multi/viola/combined/viola_805_419.wav'\n",
      " './audio/london_phill_dataset_multi/sax/combined/sax_419_304.wav'\n",
      " './audio/london_phill_dataset_multi/flute/combined/flute_51_45.wav'\n",
      " './audio/london_phill_dataset_multi/cello/cello_Gs4_025_pianissimo_arco-normal.mp3'\n",
      " './audio/london_phill_dataset_multi/violin/violin_G3_1_piano_arco-sul-ponticello.mp3'\n",
      " './audio/london_phill_dataset_multi/trumpet/trumpet_D6_long_pianissimo_normal.mp3'\n",
      " './audio/london_phill_dataset_multi/violin/violin_B5_1_piano_arco-sul-ponticello.mp3'\n",
      " './audio/london_phill_dataset_multi/cello/more_cello_l1232.wav'\n",
      " './audio/london_phill_dataset_multi/sax/combined/sax_577_301.wav'\n",
      " './audio/london_phill_dataset_multi/sax/combined/sax_141_64.wav'\n",
      " './audio/london_phill_dataset_multi/violin/violin_Fs4_1_piano_arco-sul-ponticello.mp3'\n",
      " './audio/london_phill_dataset_multi/trumpet/combined/trumpet_343_411.wav'\n",
      " './audio/london_phill_dataset_multi/violin/combined/violin_761_439.wav'\n",
      " './audio/london_phill_dataset_multi/trumpet/combined/trumpet_387_478.wav']\n"
     ]
    }
   ],
   "source": [
    "# Find wrong predicted audio files\n",
    "print(np.array(labels)[test_index[wrong_predictions]])\n",
    "print(predicted_labels[wrong_predictions].T)\n",
    "print(labelencoder.inverse_transform(predicted_labels[wrong_predictions]))\n",
    "print(np.array(files)[test_index[wrong_predictions]])"
   ]
  },
  {
   "cell_type": "code",
   "execution_count": 23,
   "metadata": {
    "scrolled": true
   },
   "outputs": [
    {
     "ename": "FileNotFoundError",
     "evalue": "[Errno 2] No such file or directory: '/Users/Michael/OneDrive - Georgia Institute of Technology/GaTech/2020  Summer/CS 4641/BasicsMusicalInstrumClassifi-original/audio/bach4.flac'",
     "output_type": "error",
     "traceback": [
      "\u001b[0;31m---------------------------------------------------------------------------\u001b[0m",
      "\u001b[0;31mRuntimeError\u001b[0m                              Traceback (most recent call last)",
      "\u001b[0;32m/opt/anaconda3/lib/python3.7/site-packages/librosa/core/audio.py\u001b[0m in \u001b[0;36mload\u001b[0;34m(path, sr, mono, offset, duration, dtype, res_type)\u001b[0m\n\u001b[1;32m    128\u001b[0m     \u001b[0;32mtry\u001b[0m\u001b[0;34m:\u001b[0m\u001b[0;34m\u001b[0m\u001b[0;34m\u001b[0m\u001b[0m\n\u001b[0;32m--> 129\u001b[0;31m         \u001b[0;32mwith\u001b[0m \u001b[0msf\u001b[0m\u001b[0;34m.\u001b[0m\u001b[0mSoundFile\u001b[0m\u001b[0;34m(\u001b[0m\u001b[0mpath\u001b[0m\u001b[0;34m)\u001b[0m \u001b[0;32mas\u001b[0m \u001b[0msf_desc\u001b[0m\u001b[0;34m:\u001b[0m\u001b[0;34m\u001b[0m\u001b[0;34m\u001b[0m\u001b[0m\n\u001b[0m\u001b[1;32m    130\u001b[0m             \u001b[0msr_native\u001b[0m \u001b[0;34m=\u001b[0m \u001b[0msf_desc\u001b[0m\u001b[0;34m.\u001b[0m\u001b[0msamplerate\u001b[0m\u001b[0;34m\u001b[0m\u001b[0;34m\u001b[0m\u001b[0m\n",
      "\u001b[0;32m/opt/anaconda3/lib/python3.7/site-packages/soundfile.py\u001b[0m in \u001b[0;36m__init__\u001b[0;34m(self, file, mode, samplerate, channels, subtype, endian, format, closefd)\u001b[0m\n\u001b[1;32m    628\u001b[0m                                          format, subtype, endian)\n\u001b[0;32m--> 629\u001b[0;31m         \u001b[0mself\u001b[0m\u001b[0;34m.\u001b[0m\u001b[0m_file\u001b[0m \u001b[0;34m=\u001b[0m \u001b[0mself\u001b[0m\u001b[0;34m.\u001b[0m\u001b[0m_open\u001b[0m\u001b[0;34m(\u001b[0m\u001b[0mfile\u001b[0m\u001b[0;34m,\u001b[0m \u001b[0mmode_int\u001b[0m\u001b[0;34m,\u001b[0m \u001b[0mclosefd\u001b[0m\u001b[0;34m)\u001b[0m\u001b[0;34m\u001b[0m\u001b[0;34m\u001b[0m\u001b[0m\n\u001b[0m\u001b[1;32m    630\u001b[0m         \u001b[0;32mif\u001b[0m \u001b[0mset\u001b[0m\u001b[0;34m(\u001b[0m\u001b[0mmode\u001b[0m\u001b[0;34m)\u001b[0m\u001b[0;34m.\u001b[0m\u001b[0missuperset\u001b[0m\u001b[0;34m(\u001b[0m\u001b[0;34m'r+'\u001b[0m\u001b[0;34m)\u001b[0m \u001b[0;32mand\u001b[0m \u001b[0mself\u001b[0m\u001b[0;34m.\u001b[0m\u001b[0mseekable\u001b[0m\u001b[0;34m(\u001b[0m\u001b[0;34m)\u001b[0m\u001b[0;34m:\u001b[0m\u001b[0;34m\u001b[0m\u001b[0;34m\u001b[0m\u001b[0m\n",
      "\u001b[0;32m/opt/anaconda3/lib/python3.7/site-packages/soundfile.py\u001b[0m in \u001b[0;36m_open\u001b[0;34m(self, file, mode_int, closefd)\u001b[0m\n\u001b[1;32m   1183\u001b[0m         _error_check(_snd.sf_error(file_ptr),\n\u001b[0;32m-> 1184\u001b[0;31m                      \"Error opening {0!r}: \".format(self.name))\n\u001b[0m\u001b[1;32m   1185\u001b[0m         \u001b[0;32mif\u001b[0m \u001b[0mmode_int\u001b[0m \u001b[0;34m==\u001b[0m \u001b[0m_snd\u001b[0m\u001b[0;34m.\u001b[0m\u001b[0mSFM_WRITE\u001b[0m\u001b[0;34m:\u001b[0m\u001b[0;34m\u001b[0m\u001b[0;34m\u001b[0m\u001b[0m\n",
      "\u001b[0;32m/opt/anaconda3/lib/python3.7/site-packages/soundfile.py\u001b[0m in \u001b[0;36m_error_check\u001b[0;34m(err, prefix)\u001b[0m\n\u001b[1;32m   1356\u001b[0m         \u001b[0merr_str\u001b[0m \u001b[0;34m=\u001b[0m \u001b[0m_snd\u001b[0m\u001b[0;34m.\u001b[0m\u001b[0msf_error_number\u001b[0m\u001b[0;34m(\u001b[0m\u001b[0merr\u001b[0m\u001b[0;34m)\u001b[0m\u001b[0;34m\u001b[0m\u001b[0;34m\u001b[0m\u001b[0m\n\u001b[0;32m-> 1357\u001b[0;31m         \u001b[0;32mraise\u001b[0m \u001b[0mRuntimeError\u001b[0m\u001b[0;34m(\u001b[0m\u001b[0mprefix\u001b[0m \u001b[0;34m+\u001b[0m \u001b[0m_ffi\u001b[0m\u001b[0;34m.\u001b[0m\u001b[0mstring\u001b[0m\u001b[0;34m(\u001b[0m\u001b[0merr_str\u001b[0m\u001b[0;34m)\u001b[0m\u001b[0;34m.\u001b[0m\u001b[0mdecode\u001b[0m\u001b[0;34m(\u001b[0m\u001b[0;34m'utf-8'\u001b[0m\u001b[0;34m,\u001b[0m \u001b[0;34m'replace'\u001b[0m\u001b[0;34m)\u001b[0m\u001b[0;34m)\u001b[0m\u001b[0;34m\u001b[0m\u001b[0;34m\u001b[0m\u001b[0m\n\u001b[0m\u001b[1;32m   1358\u001b[0m \u001b[0;34m\u001b[0m\u001b[0m\n",
      "\u001b[0;31mRuntimeError\u001b[0m: Error opening '/Users/Michael/OneDrive - Georgia Institute of Technology/GaTech/2020  Summer/CS 4641/BasicsMusicalInstrumClassifi-original/audio/bach4.flac': System error.",
      "\nDuring handling of the above exception, another exception occurred:\n",
      "\u001b[0;31mFileNotFoundError\u001b[0m                         Traceback (most recent call last)",
      "\u001b[0;32m<ipython-input-23-4b6161336ab4>\u001b[0m in \u001b[0;36m<module>\u001b[0;34m\u001b[0m\n\u001b[1;32m      1\u001b[0m \u001b[0;31m# Try predicting a real cello music piece\u001b[0m\u001b[0;34m\u001b[0m\u001b[0;34m\u001b[0m\u001b[0;34m\u001b[0m\u001b[0m\n\u001b[1;32m      2\u001b[0m \u001b[0mfilename\u001b[0m \u001b[0;34m=\u001b[0m \u001b[0;34m'/Users/Michael/OneDrive - Georgia Institute of Technology/GaTech/2020  Summer/CS 4641/BasicsMusicalInstrumClassifi-original/audio/bach4.flac'\u001b[0m\u001b[0;34m\u001b[0m\u001b[0;34m\u001b[0m\u001b[0m\n\u001b[0;32m----> 3\u001b[0;31m \u001b[0my\u001b[0m\u001b[0;34m,\u001b[0m \u001b[0msr\u001b[0m \u001b[0;34m=\u001b[0m \u001b[0mlibrosa\u001b[0m\u001b[0;34m.\u001b[0m\u001b[0mload\u001b[0m\u001b[0;34m(\u001b[0m\u001b[0mfilename\u001b[0m\u001b[0;34m,\u001b[0m \u001b[0msr\u001b[0m\u001b[0;34m=\u001b[0m\u001b[0mfs\u001b[0m\u001b[0;34m)\u001b[0m\u001b[0;34m\u001b[0m\u001b[0;34m\u001b[0m\u001b[0m\n\u001b[0m\u001b[1;32m      4\u001b[0m \u001b[0;32mif\u001b[0m \u001b[0mlen\u001b[0m\u001b[0;34m(\u001b[0m\u001b[0my\u001b[0m\u001b[0;34m)\u001b[0m \u001b[0;34m<\u001b[0m \u001b[0;36m2\u001b[0m\u001b[0;34m:\u001b[0m\u001b[0;34m\u001b[0m\u001b[0;34m\u001b[0m\u001b[0m\n\u001b[1;32m      5\u001b[0m     \u001b[0mprint\u001b[0m\u001b[0;34m(\u001b[0m\u001b[0;34m\"Error loading %s\"\u001b[0m \u001b[0;34m%\u001b[0m \u001b[0mf\u001b[0m\u001b[0;34m)\u001b[0m\u001b[0;34m\u001b[0m\u001b[0;34m\u001b[0m\u001b[0m\n",
      "\u001b[0;32m/opt/anaconda3/lib/python3.7/site-packages/librosa/core/audio.py\u001b[0m in \u001b[0;36mload\u001b[0;34m(path, sr, mono, offset, duration, dtype, res_type)\u001b[0m\n\u001b[1;32m    160\u001b[0m         \u001b[0;32mif\u001b[0m \u001b[0misinstance\u001b[0m\u001b[0;34m(\u001b[0m\u001b[0mpath\u001b[0m\u001b[0;34m,\u001b[0m \u001b[0msix\u001b[0m\u001b[0;34m.\u001b[0m\u001b[0mstring_types\u001b[0m\u001b[0;34m)\u001b[0m\u001b[0;34m:\u001b[0m\u001b[0;34m\u001b[0m\u001b[0;34m\u001b[0m\u001b[0m\n\u001b[1;32m    161\u001b[0m             \u001b[0mwarnings\u001b[0m\u001b[0;34m.\u001b[0m\u001b[0mwarn\u001b[0m\u001b[0;34m(\u001b[0m\u001b[0;34m'PySoundFile failed. Trying audioread instead.'\u001b[0m\u001b[0;34m)\u001b[0m\u001b[0;34m\u001b[0m\u001b[0;34m\u001b[0m\u001b[0m\n\u001b[0;32m--> 162\u001b[0;31m             \u001b[0my\u001b[0m\u001b[0;34m,\u001b[0m \u001b[0msr_native\u001b[0m \u001b[0;34m=\u001b[0m \u001b[0m__audioread_load\u001b[0m\u001b[0;34m(\u001b[0m\u001b[0mpath\u001b[0m\u001b[0;34m,\u001b[0m \u001b[0moffset\u001b[0m\u001b[0;34m,\u001b[0m \u001b[0mduration\u001b[0m\u001b[0;34m,\u001b[0m \u001b[0mdtype\u001b[0m\u001b[0;34m)\u001b[0m\u001b[0;34m\u001b[0m\u001b[0;34m\u001b[0m\u001b[0m\n\u001b[0m\u001b[1;32m    163\u001b[0m         \u001b[0;32melse\u001b[0m\u001b[0;34m:\u001b[0m\u001b[0;34m\u001b[0m\u001b[0;34m\u001b[0m\u001b[0m\n\u001b[1;32m    164\u001b[0m             \u001b[0msix\u001b[0m\u001b[0;34m.\u001b[0m\u001b[0mreraise\u001b[0m\u001b[0;34m(\u001b[0m\u001b[0;34m*\u001b[0m\u001b[0msys\u001b[0m\u001b[0;34m.\u001b[0m\u001b[0mexc_info\u001b[0m\u001b[0;34m(\u001b[0m\u001b[0;34m)\u001b[0m\u001b[0;34m)\u001b[0m\u001b[0;34m\u001b[0m\u001b[0;34m\u001b[0m\u001b[0m\n",
      "\u001b[0;32m/opt/anaconda3/lib/python3.7/site-packages/librosa/core/audio.py\u001b[0m in \u001b[0;36m__audioread_load\u001b[0;34m(path, offset, duration, dtype)\u001b[0m\n\u001b[1;32m    184\u001b[0m \u001b[0;34m\u001b[0m\u001b[0m\n\u001b[1;32m    185\u001b[0m     \u001b[0my\u001b[0m \u001b[0;34m=\u001b[0m \u001b[0;34m[\u001b[0m\u001b[0;34m]\u001b[0m\u001b[0;34m\u001b[0m\u001b[0;34m\u001b[0m\u001b[0m\n\u001b[0;32m--> 186\u001b[0;31m     \u001b[0;32mwith\u001b[0m \u001b[0maudioread\u001b[0m\u001b[0;34m.\u001b[0m\u001b[0maudio_open\u001b[0m\u001b[0;34m(\u001b[0m\u001b[0mpath\u001b[0m\u001b[0;34m)\u001b[0m \u001b[0;32mas\u001b[0m \u001b[0minput_file\u001b[0m\u001b[0;34m:\u001b[0m\u001b[0;34m\u001b[0m\u001b[0;34m\u001b[0m\u001b[0m\n\u001b[0m\u001b[1;32m    187\u001b[0m         \u001b[0msr_native\u001b[0m \u001b[0;34m=\u001b[0m \u001b[0minput_file\u001b[0m\u001b[0;34m.\u001b[0m\u001b[0msamplerate\u001b[0m\u001b[0;34m\u001b[0m\u001b[0;34m\u001b[0m\u001b[0m\n\u001b[1;32m    188\u001b[0m         \u001b[0mn_channels\u001b[0m \u001b[0;34m=\u001b[0m \u001b[0minput_file\u001b[0m\u001b[0;34m.\u001b[0m\u001b[0mchannels\u001b[0m\u001b[0;34m\u001b[0m\u001b[0;34m\u001b[0m\u001b[0m\n",
      "\u001b[0;32m/opt/anaconda3/lib/python3.7/site-packages/audioread/__init__.py\u001b[0m in \u001b[0;36maudio_open\u001b[0;34m(path, backends)\u001b[0m\n\u001b[1;32m    109\u001b[0m     \u001b[0;32mfor\u001b[0m \u001b[0mBackendClass\u001b[0m \u001b[0;32min\u001b[0m \u001b[0mbackends\u001b[0m\u001b[0;34m:\u001b[0m\u001b[0;34m\u001b[0m\u001b[0;34m\u001b[0m\u001b[0m\n\u001b[1;32m    110\u001b[0m         \u001b[0;32mtry\u001b[0m\u001b[0;34m:\u001b[0m\u001b[0;34m\u001b[0m\u001b[0;34m\u001b[0m\u001b[0m\n\u001b[0;32m--> 111\u001b[0;31m             \u001b[0;32mreturn\u001b[0m \u001b[0mBackendClass\u001b[0m\u001b[0;34m(\u001b[0m\u001b[0mpath\u001b[0m\u001b[0;34m)\u001b[0m\u001b[0;34m\u001b[0m\u001b[0;34m\u001b[0m\u001b[0m\n\u001b[0m\u001b[1;32m    112\u001b[0m         \u001b[0;32mexcept\u001b[0m \u001b[0mDecodeError\u001b[0m\u001b[0;34m:\u001b[0m\u001b[0;34m\u001b[0m\u001b[0;34m\u001b[0m\u001b[0m\n\u001b[1;32m    113\u001b[0m             \u001b[0;32mpass\u001b[0m\u001b[0;34m\u001b[0m\u001b[0;34m\u001b[0m\u001b[0m\n",
      "\u001b[0;32m/opt/anaconda3/lib/python3.7/site-packages/audioread/rawread.py\u001b[0m in \u001b[0;36m__init__\u001b[0;34m(self, filename)\u001b[0m\n\u001b[1;32m     60\u001b[0m     \"\"\"\n\u001b[1;32m     61\u001b[0m     \u001b[0;32mdef\u001b[0m \u001b[0m__init__\u001b[0m\u001b[0;34m(\u001b[0m\u001b[0mself\u001b[0m\u001b[0;34m,\u001b[0m \u001b[0mfilename\u001b[0m\u001b[0;34m)\u001b[0m\u001b[0;34m:\u001b[0m\u001b[0;34m\u001b[0m\u001b[0;34m\u001b[0m\u001b[0m\n\u001b[0;32m---> 62\u001b[0;31m         \u001b[0mself\u001b[0m\u001b[0;34m.\u001b[0m\u001b[0m_fh\u001b[0m \u001b[0;34m=\u001b[0m \u001b[0mopen\u001b[0m\u001b[0;34m(\u001b[0m\u001b[0mfilename\u001b[0m\u001b[0;34m,\u001b[0m \u001b[0;34m'rb'\u001b[0m\u001b[0;34m)\u001b[0m\u001b[0;34m\u001b[0m\u001b[0;34m\u001b[0m\u001b[0m\n\u001b[0m\u001b[1;32m     63\u001b[0m \u001b[0;34m\u001b[0m\u001b[0m\n\u001b[1;32m     64\u001b[0m         \u001b[0;32mtry\u001b[0m\u001b[0;34m:\u001b[0m\u001b[0;34m\u001b[0m\u001b[0;34m\u001b[0m\u001b[0m\n",
      "\u001b[0;31mFileNotFoundError\u001b[0m: [Errno 2] No such file or directory: '/Users/Michael/OneDrive - Georgia Institute of Technology/GaTech/2020  Summer/CS 4641/BasicsMusicalInstrumClassifi-original/audio/bach4.flac'"
     ]
    }
   ],
   "source": [
    "# Try predicting a real cello music piece\n",
    "filename = '/Users/Michael/OneDrive - Georgia Institute of Technology/GaTech/2020  Summer/CS 4641/BasicsMusicalInstrumClassifi-original/audio/bach4.flac'\n",
    "y, sr = librosa.load(filename, sr=fs)\n",
    "if len(y) < 2:\n",
    "    print(\"Error loading %s\" % f)\n",
    "    \n",
    "feats = []\n",
    "pred_freq = 2\n",
    "for i in range(int(np.ceil(len(y)/sr*pred_freq))):\n",
    "    ind1 = int(i*sr/pred_freq)\n",
    "    ind2 = int((i+1)*sr/pred_freq-1)\n",
    "    loc_y = y[ind1: ind2]\n",
    "    if loc_y.max() > 0:\n",
    "        loc_y /= loc_y.max() # Normalize\n",
    "#     with np.printoptions(threshold=np.inf):\n",
    "#         print(loc_y)\n",
    "    feat = get_features(loc_y, sr)\n",
    "    feats.append(feat)\n",
    "scaled_feats = (feats-np.mean(feature_vectors))/np.std(feature_vectors)\n",
    "\n",
    "label = svclassifier1.predict(scaled_feats)\n",
    "occurrences = np.count_nonzero(labelencoder.inverse_transform(label) == 'cello')\n",
    "# print('occurrences: ', occurrences)\n",
    "print('Accuracy: ', occurrences/label.shape[0]*100, '%')\n",
    "with np.printoptions(threshold=np.inf):\n",
    "    print(labelencoder.inverse_transform(label))"
   ]
  },
  {
   "cell_type": "code",
   "execution_count": 24,
   "metadata": {},
   "outputs": [
    {
     "ename": "FileNotFoundError",
     "evalue": "[Errno 2] No such file or directory: '/Users/Michael/OneDrive - Georgia Institute of Technology/GaTech/2020  Summer/CS 4641/BasicsMusicalInstrumClassifi-original/audio/violin_2.flac'",
     "output_type": "error",
     "traceback": [
      "\u001b[0;31m---------------------------------------------------------------------------\u001b[0m",
      "\u001b[0;31mRuntimeError\u001b[0m                              Traceback (most recent call last)",
      "\u001b[0;32m/opt/anaconda3/lib/python3.7/site-packages/librosa/core/audio.py\u001b[0m in \u001b[0;36mload\u001b[0;34m(path, sr, mono, offset, duration, dtype, res_type)\u001b[0m\n\u001b[1;32m    128\u001b[0m     \u001b[0;32mtry\u001b[0m\u001b[0;34m:\u001b[0m\u001b[0;34m\u001b[0m\u001b[0;34m\u001b[0m\u001b[0m\n\u001b[0;32m--> 129\u001b[0;31m         \u001b[0;32mwith\u001b[0m \u001b[0msf\u001b[0m\u001b[0;34m.\u001b[0m\u001b[0mSoundFile\u001b[0m\u001b[0;34m(\u001b[0m\u001b[0mpath\u001b[0m\u001b[0;34m)\u001b[0m \u001b[0;32mas\u001b[0m \u001b[0msf_desc\u001b[0m\u001b[0;34m:\u001b[0m\u001b[0;34m\u001b[0m\u001b[0;34m\u001b[0m\u001b[0m\n\u001b[0m\u001b[1;32m    130\u001b[0m             \u001b[0msr_native\u001b[0m \u001b[0;34m=\u001b[0m \u001b[0msf_desc\u001b[0m\u001b[0;34m.\u001b[0m\u001b[0msamplerate\u001b[0m\u001b[0;34m\u001b[0m\u001b[0;34m\u001b[0m\u001b[0m\n",
      "\u001b[0;32m/opt/anaconda3/lib/python3.7/site-packages/soundfile.py\u001b[0m in \u001b[0;36m__init__\u001b[0;34m(self, file, mode, samplerate, channels, subtype, endian, format, closefd)\u001b[0m\n\u001b[1;32m    628\u001b[0m                                          format, subtype, endian)\n\u001b[0;32m--> 629\u001b[0;31m         \u001b[0mself\u001b[0m\u001b[0;34m.\u001b[0m\u001b[0m_file\u001b[0m \u001b[0;34m=\u001b[0m \u001b[0mself\u001b[0m\u001b[0;34m.\u001b[0m\u001b[0m_open\u001b[0m\u001b[0;34m(\u001b[0m\u001b[0mfile\u001b[0m\u001b[0;34m,\u001b[0m \u001b[0mmode_int\u001b[0m\u001b[0;34m,\u001b[0m \u001b[0mclosefd\u001b[0m\u001b[0;34m)\u001b[0m\u001b[0;34m\u001b[0m\u001b[0;34m\u001b[0m\u001b[0m\n\u001b[0m\u001b[1;32m    630\u001b[0m         \u001b[0;32mif\u001b[0m \u001b[0mset\u001b[0m\u001b[0;34m(\u001b[0m\u001b[0mmode\u001b[0m\u001b[0;34m)\u001b[0m\u001b[0;34m.\u001b[0m\u001b[0missuperset\u001b[0m\u001b[0;34m(\u001b[0m\u001b[0;34m'r+'\u001b[0m\u001b[0;34m)\u001b[0m \u001b[0;32mand\u001b[0m \u001b[0mself\u001b[0m\u001b[0;34m.\u001b[0m\u001b[0mseekable\u001b[0m\u001b[0;34m(\u001b[0m\u001b[0;34m)\u001b[0m\u001b[0;34m:\u001b[0m\u001b[0;34m\u001b[0m\u001b[0;34m\u001b[0m\u001b[0m\n",
      "\u001b[0;32m/opt/anaconda3/lib/python3.7/site-packages/soundfile.py\u001b[0m in \u001b[0;36m_open\u001b[0;34m(self, file, mode_int, closefd)\u001b[0m\n\u001b[1;32m   1183\u001b[0m         _error_check(_snd.sf_error(file_ptr),\n\u001b[0;32m-> 1184\u001b[0;31m                      \"Error opening {0!r}: \".format(self.name))\n\u001b[0m\u001b[1;32m   1185\u001b[0m         \u001b[0;32mif\u001b[0m \u001b[0mmode_int\u001b[0m \u001b[0;34m==\u001b[0m \u001b[0m_snd\u001b[0m\u001b[0;34m.\u001b[0m\u001b[0mSFM_WRITE\u001b[0m\u001b[0;34m:\u001b[0m\u001b[0;34m\u001b[0m\u001b[0;34m\u001b[0m\u001b[0m\n",
      "\u001b[0;32m/opt/anaconda3/lib/python3.7/site-packages/soundfile.py\u001b[0m in \u001b[0;36m_error_check\u001b[0;34m(err, prefix)\u001b[0m\n\u001b[1;32m   1356\u001b[0m         \u001b[0merr_str\u001b[0m \u001b[0;34m=\u001b[0m \u001b[0m_snd\u001b[0m\u001b[0;34m.\u001b[0m\u001b[0msf_error_number\u001b[0m\u001b[0;34m(\u001b[0m\u001b[0merr\u001b[0m\u001b[0;34m)\u001b[0m\u001b[0;34m\u001b[0m\u001b[0;34m\u001b[0m\u001b[0m\n\u001b[0;32m-> 1357\u001b[0;31m         \u001b[0;32mraise\u001b[0m \u001b[0mRuntimeError\u001b[0m\u001b[0;34m(\u001b[0m\u001b[0mprefix\u001b[0m \u001b[0;34m+\u001b[0m \u001b[0m_ffi\u001b[0m\u001b[0;34m.\u001b[0m\u001b[0mstring\u001b[0m\u001b[0;34m(\u001b[0m\u001b[0merr_str\u001b[0m\u001b[0;34m)\u001b[0m\u001b[0;34m.\u001b[0m\u001b[0mdecode\u001b[0m\u001b[0;34m(\u001b[0m\u001b[0;34m'utf-8'\u001b[0m\u001b[0;34m,\u001b[0m \u001b[0;34m'replace'\u001b[0m\u001b[0;34m)\u001b[0m\u001b[0;34m)\u001b[0m\u001b[0;34m\u001b[0m\u001b[0;34m\u001b[0m\u001b[0m\n\u001b[0m\u001b[1;32m   1358\u001b[0m \u001b[0;34m\u001b[0m\u001b[0m\n",
      "\u001b[0;31mRuntimeError\u001b[0m: Error opening '/Users/Michael/OneDrive - Georgia Institute of Technology/GaTech/2020  Summer/CS 4641/BasicsMusicalInstrumClassifi-original/audio/violin_2.flac': System error.",
      "\nDuring handling of the above exception, another exception occurred:\n",
      "\u001b[0;31mFileNotFoundError\u001b[0m                         Traceback (most recent call last)",
      "\u001b[0;32m<ipython-input-24-a13c7de14542>\u001b[0m in \u001b[0;36m<module>\u001b[0;34m\u001b[0m\n\u001b[1;32m      1\u001b[0m \u001b[0;31m# Try predicting a real violin music piece\u001b[0m\u001b[0;34m\u001b[0m\u001b[0;34m\u001b[0m\u001b[0;34m\u001b[0m\u001b[0m\n\u001b[1;32m      2\u001b[0m \u001b[0mfilename\u001b[0m \u001b[0;34m=\u001b[0m \u001b[0;34m'/Users/Michael/OneDrive - Georgia Institute of Technology/GaTech/2020  Summer/CS 4641/BasicsMusicalInstrumClassifi-original/audio/violin_2.flac'\u001b[0m\u001b[0;34m\u001b[0m\u001b[0;34m\u001b[0m\u001b[0m\n\u001b[0;32m----> 3\u001b[0;31m \u001b[0my\u001b[0m\u001b[0;34m,\u001b[0m \u001b[0msr\u001b[0m \u001b[0;34m=\u001b[0m \u001b[0mlibrosa\u001b[0m\u001b[0;34m.\u001b[0m\u001b[0mload\u001b[0m\u001b[0;34m(\u001b[0m\u001b[0mfilename\u001b[0m\u001b[0;34m,\u001b[0m \u001b[0msr\u001b[0m\u001b[0;34m=\u001b[0m\u001b[0mfs\u001b[0m\u001b[0;34m)\u001b[0m\u001b[0;34m\u001b[0m\u001b[0;34m\u001b[0m\u001b[0m\n\u001b[0m\u001b[1;32m      4\u001b[0m \u001b[0;32mif\u001b[0m \u001b[0mlen\u001b[0m\u001b[0;34m(\u001b[0m\u001b[0my\u001b[0m\u001b[0;34m)\u001b[0m \u001b[0;34m<\u001b[0m \u001b[0;36m2\u001b[0m\u001b[0;34m:\u001b[0m\u001b[0;34m\u001b[0m\u001b[0;34m\u001b[0m\u001b[0m\n\u001b[1;32m      5\u001b[0m     \u001b[0mprint\u001b[0m\u001b[0;34m(\u001b[0m\u001b[0;34m\"Error loading %s\"\u001b[0m \u001b[0;34m%\u001b[0m \u001b[0mf\u001b[0m\u001b[0;34m)\u001b[0m\u001b[0;34m\u001b[0m\u001b[0;34m\u001b[0m\u001b[0m\n",
      "\u001b[0;32m/opt/anaconda3/lib/python3.7/site-packages/librosa/core/audio.py\u001b[0m in \u001b[0;36mload\u001b[0;34m(path, sr, mono, offset, duration, dtype, res_type)\u001b[0m\n\u001b[1;32m    160\u001b[0m         \u001b[0;32mif\u001b[0m \u001b[0misinstance\u001b[0m\u001b[0;34m(\u001b[0m\u001b[0mpath\u001b[0m\u001b[0;34m,\u001b[0m \u001b[0msix\u001b[0m\u001b[0;34m.\u001b[0m\u001b[0mstring_types\u001b[0m\u001b[0;34m)\u001b[0m\u001b[0;34m:\u001b[0m\u001b[0;34m\u001b[0m\u001b[0;34m\u001b[0m\u001b[0m\n\u001b[1;32m    161\u001b[0m             \u001b[0mwarnings\u001b[0m\u001b[0;34m.\u001b[0m\u001b[0mwarn\u001b[0m\u001b[0;34m(\u001b[0m\u001b[0;34m'PySoundFile failed. Trying audioread instead.'\u001b[0m\u001b[0;34m)\u001b[0m\u001b[0;34m\u001b[0m\u001b[0;34m\u001b[0m\u001b[0m\n\u001b[0;32m--> 162\u001b[0;31m             \u001b[0my\u001b[0m\u001b[0;34m,\u001b[0m \u001b[0msr_native\u001b[0m \u001b[0;34m=\u001b[0m \u001b[0m__audioread_load\u001b[0m\u001b[0;34m(\u001b[0m\u001b[0mpath\u001b[0m\u001b[0;34m,\u001b[0m \u001b[0moffset\u001b[0m\u001b[0;34m,\u001b[0m \u001b[0mduration\u001b[0m\u001b[0;34m,\u001b[0m \u001b[0mdtype\u001b[0m\u001b[0;34m)\u001b[0m\u001b[0;34m\u001b[0m\u001b[0;34m\u001b[0m\u001b[0m\n\u001b[0m\u001b[1;32m    163\u001b[0m         \u001b[0;32melse\u001b[0m\u001b[0;34m:\u001b[0m\u001b[0;34m\u001b[0m\u001b[0;34m\u001b[0m\u001b[0m\n\u001b[1;32m    164\u001b[0m             \u001b[0msix\u001b[0m\u001b[0;34m.\u001b[0m\u001b[0mreraise\u001b[0m\u001b[0;34m(\u001b[0m\u001b[0;34m*\u001b[0m\u001b[0msys\u001b[0m\u001b[0;34m.\u001b[0m\u001b[0mexc_info\u001b[0m\u001b[0;34m(\u001b[0m\u001b[0;34m)\u001b[0m\u001b[0;34m)\u001b[0m\u001b[0;34m\u001b[0m\u001b[0;34m\u001b[0m\u001b[0m\n",
      "\u001b[0;32m/opt/anaconda3/lib/python3.7/site-packages/librosa/core/audio.py\u001b[0m in \u001b[0;36m__audioread_load\u001b[0;34m(path, offset, duration, dtype)\u001b[0m\n\u001b[1;32m    184\u001b[0m \u001b[0;34m\u001b[0m\u001b[0m\n\u001b[1;32m    185\u001b[0m     \u001b[0my\u001b[0m \u001b[0;34m=\u001b[0m \u001b[0;34m[\u001b[0m\u001b[0;34m]\u001b[0m\u001b[0;34m\u001b[0m\u001b[0;34m\u001b[0m\u001b[0m\n\u001b[0;32m--> 186\u001b[0;31m     \u001b[0;32mwith\u001b[0m \u001b[0maudioread\u001b[0m\u001b[0;34m.\u001b[0m\u001b[0maudio_open\u001b[0m\u001b[0;34m(\u001b[0m\u001b[0mpath\u001b[0m\u001b[0;34m)\u001b[0m \u001b[0;32mas\u001b[0m \u001b[0minput_file\u001b[0m\u001b[0;34m:\u001b[0m\u001b[0;34m\u001b[0m\u001b[0;34m\u001b[0m\u001b[0m\n\u001b[0m\u001b[1;32m    187\u001b[0m         \u001b[0msr_native\u001b[0m \u001b[0;34m=\u001b[0m \u001b[0minput_file\u001b[0m\u001b[0;34m.\u001b[0m\u001b[0msamplerate\u001b[0m\u001b[0;34m\u001b[0m\u001b[0;34m\u001b[0m\u001b[0m\n\u001b[1;32m    188\u001b[0m         \u001b[0mn_channels\u001b[0m \u001b[0;34m=\u001b[0m \u001b[0minput_file\u001b[0m\u001b[0;34m.\u001b[0m\u001b[0mchannels\u001b[0m\u001b[0;34m\u001b[0m\u001b[0;34m\u001b[0m\u001b[0m\n",
      "\u001b[0;32m/opt/anaconda3/lib/python3.7/site-packages/audioread/__init__.py\u001b[0m in \u001b[0;36maudio_open\u001b[0;34m(path, backends)\u001b[0m\n\u001b[1;32m    109\u001b[0m     \u001b[0;32mfor\u001b[0m \u001b[0mBackendClass\u001b[0m \u001b[0;32min\u001b[0m \u001b[0mbackends\u001b[0m\u001b[0;34m:\u001b[0m\u001b[0;34m\u001b[0m\u001b[0;34m\u001b[0m\u001b[0m\n\u001b[1;32m    110\u001b[0m         \u001b[0;32mtry\u001b[0m\u001b[0;34m:\u001b[0m\u001b[0;34m\u001b[0m\u001b[0;34m\u001b[0m\u001b[0m\n\u001b[0;32m--> 111\u001b[0;31m             \u001b[0;32mreturn\u001b[0m \u001b[0mBackendClass\u001b[0m\u001b[0;34m(\u001b[0m\u001b[0mpath\u001b[0m\u001b[0;34m)\u001b[0m\u001b[0;34m\u001b[0m\u001b[0;34m\u001b[0m\u001b[0m\n\u001b[0m\u001b[1;32m    112\u001b[0m         \u001b[0;32mexcept\u001b[0m \u001b[0mDecodeError\u001b[0m\u001b[0;34m:\u001b[0m\u001b[0;34m\u001b[0m\u001b[0;34m\u001b[0m\u001b[0m\n\u001b[1;32m    113\u001b[0m             \u001b[0;32mpass\u001b[0m\u001b[0;34m\u001b[0m\u001b[0;34m\u001b[0m\u001b[0m\n",
      "\u001b[0;32m/opt/anaconda3/lib/python3.7/site-packages/audioread/rawread.py\u001b[0m in \u001b[0;36m__init__\u001b[0;34m(self, filename)\u001b[0m\n\u001b[1;32m     60\u001b[0m     \"\"\"\n\u001b[1;32m     61\u001b[0m     \u001b[0;32mdef\u001b[0m \u001b[0m__init__\u001b[0m\u001b[0;34m(\u001b[0m\u001b[0mself\u001b[0m\u001b[0;34m,\u001b[0m \u001b[0mfilename\u001b[0m\u001b[0;34m)\u001b[0m\u001b[0;34m:\u001b[0m\u001b[0;34m\u001b[0m\u001b[0;34m\u001b[0m\u001b[0m\n\u001b[0;32m---> 62\u001b[0;31m         \u001b[0mself\u001b[0m\u001b[0;34m.\u001b[0m\u001b[0m_fh\u001b[0m \u001b[0;34m=\u001b[0m \u001b[0mopen\u001b[0m\u001b[0;34m(\u001b[0m\u001b[0mfilename\u001b[0m\u001b[0;34m,\u001b[0m \u001b[0;34m'rb'\u001b[0m\u001b[0;34m)\u001b[0m\u001b[0;34m\u001b[0m\u001b[0;34m\u001b[0m\u001b[0m\n\u001b[0m\u001b[1;32m     63\u001b[0m \u001b[0;34m\u001b[0m\u001b[0m\n\u001b[1;32m     64\u001b[0m         \u001b[0;32mtry\u001b[0m\u001b[0;34m:\u001b[0m\u001b[0;34m\u001b[0m\u001b[0;34m\u001b[0m\u001b[0m\n",
      "\u001b[0;31mFileNotFoundError\u001b[0m: [Errno 2] No such file or directory: '/Users/Michael/OneDrive - Georgia Institute of Technology/GaTech/2020  Summer/CS 4641/BasicsMusicalInstrumClassifi-original/audio/violin_2.flac'"
     ]
    }
   ],
   "source": [
    "# Try predicting a real violin music piece\n",
    "filename = '/Users/Michael/OneDrive - Georgia Institute of Technology/GaTech/2020  Summer/CS 4641/BasicsMusicalInstrumClassifi-original/audio/violin_2.flac'\n",
    "y, sr = librosa.load(filename, sr=fs)\n",
    "if len(y) < 2:\n",
    "    print(\"Error loading %s\" % f)\n",
    "    \n",
    "feats = []\n",
    "pred_freq = 2\n",
    "for i in range(int(np.ceil(len(y)/sr*pred_freq))):\n",
    "    ind1 = int(i*sr/pred_freq)\n",
    "    ind2 = int((i+1)*sr/pred_freq-1)\n",
    "    loc_y = y[ind1: ind2]\n",
    "    if loc_y.max() > 0:\n",
    "        loc_y /= loc_y.max() # Normalize\n",
    "#     with np.printoptions(threshold=np.inf):\n",
    "#         print(loc_y)\n",
    "    feat = get_features(loc_y, sr)\n",
    "    feats.append(feat)\n",
    "scaled_feats = (feats-np.mean(feature_vectors))/np.std(feature_vectors)\n",
    "\n",
    "label = svclassifier1.predict(scaled_feats)\n",
    "occurrences = np.count_nonzero(labelencoder.inverse_transform(label) == 'violin')\n",
    "# print('occurrences: ', occurrences)\n",
    "print('Accuracy: ', occurrences/label.shape[0]*100, '%')\n",
    "with np.printoptions(threshold=np.inf):\n",
    "    print(labelencoder.inverse_transform(label))"
   ]
  },
  {
   "cell_type": "code",
   "execution_count": null,
   "metadata": {},
   "outputs": [],
   "source": []
  }
 ],
 "metadata": {
  "kernelspec": {
   "display_name": "Python 3",
   "language": "python",
   "name": "python3"
  },
  "language_info": {
   "codemirror_mode": {
    "name": "ipython",
    "version": 3
   },
   "file_extension": ".py",
   "mimetype": "text/x-python",
   "name": "python",
   "nbconvert_exporter": "python",
   "pygments_lexer": "ipython3",
   "version": "3.7.6"
  }
 },
 "nbformat": 4,
 "nbformat_minor": 2
}

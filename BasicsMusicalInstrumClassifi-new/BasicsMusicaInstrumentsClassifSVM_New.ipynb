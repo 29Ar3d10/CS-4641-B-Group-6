{
 "cells": [
  {
   "cell_type": "markdown",
   "metadata": {},
   "source": [
    "# The Very Basics of Musical Instruments Classification using Machine Learning\n",
    "## MFCC, SVM \n",
    "\n",
    "<br>"
   ]
  },
  {
   "cell_type": "markdown",
   "metadata": {},
   "source": [
    "## Imports"
   ]
  },
  {
   "cell_type": "code",
   "execution_count": 43,
   "metadata": {},
   "outputs": [],
   "source": [
    "# Imports\n",
    "\n",
    "#General\n",
    "import numpy as np\n",
    "import pickle\n",
    "import itertools\n",
    "\n",
    "# System\n",
    "import os, fnmatch\n",
    "\n",
    "# Visualization\n",
    "import seaborn #visualization library, must be imported before all other plotting libraries\n",
    "import matplotlib.pyplot as plt\n",
    "from IPython.core.display import HTML, display\n",
    "\n",
    "# Machine Learning\n",
    "from sklearn.preprocessing import LabelEncoder\n",
    "from sklearn.preprocessing import StandardScaler\n",
    "from sklearn.model_selection import StratifiedShuffleSplit\n",
    "from sklearn.neighbors import KNeighborsClassifier\n",
    "from sklearn.metrics import recall_score, precision_score, accuracy_score\n",
    "from sklearn.metrics import confusion_matrix, f1_score, classification_report\n",
    "from sklearn.svm import LinearSVC, SVC\n",
    "from sklearn.externals import joblib\n",
    "\n",
    "# Random Seed\n",
    "from numpy.random import seed\n",
    "seed(1)\n",
    "\n",
    "# Audio\n",
    "import librosa.display, librosa\n",
    "\n",
    "# Suppress warnings\n",
    "import warnings\n",
    "warnings.filterwarnings(\"ignore\")\n",
    "\n",
    "# Configurations\n",
    "path='./audio/london_phill_dataset_multi/'"
   ]
  },
  {
   "cell_type": "markdown",
   "metadata": {},
   "source": [
    "## Auxiliary Functions"
   ]
  },
  {
   "cell_type": "code",
   "execution_count": 44,
   "metadata": {},
   "outputs": [],
   "source": [
    "# Function to Display a Website\n",
    "def show_web(url):\n",
    "    html_code='<center><iframe src=\"%s\" width=\"800\" height=\"600\" frameborder=\"0\" marginheight=\"0\" marginwidth=\"0\">Loading...</iframe></center>' \\\n",
    "\t\t% (url)\n",
    "    display(HTML(html_code))"
   ]
  },
  {
   "cell_type": "markdown",
   "metadata": {},
   "source": [
    "## Get filenames"
   ]
  },
  {
   "cell_type": "code",
   "execution_count": 45,
   "metadata": {},
   "outputs": [
    {
     "name": "stdout",
     "output_type": "stream",
     "text": [
      "found 27527 audio files in ./audio/london_phill_dataset_multi/\n"
     ]
    }
   ],
   "source": [
    "# Get files in data path\n",
    "\n",
    "files = []\n",
    "for root, dirnames, filenames in os.walk(path):\n",
    "    for filename in fnmatch.filter(filenames, '*.wav'):\n",
    "        files.append(os.path.join(root, filename))\n",
    "    for filename in fnmatch.filter(filenames, '*.mp3'):\n",
    "        files.append(os.path.join(root, filename))\n",
    "\n",
    "print(\"found %d audio files in %s\"%(len(files),path))"
   ]
  },
  {
   "cell_type": "markdown",
   "metadata": {},
   "source": [
    "## Prepare labels from filenames"
   ]
  },
  {
   "cell_type": "code",
   "execution_count": 46,
   "metadata": {},
   "outputs": [],
   "source": [
    "# Get Labels\n",
    "labels =[]\n",
    "classes=['flute', 'sax', 'oboe', 'cello', 'trumpet', 'viola', 'violin', 'percussion']\n",
    "color_dict={'cello':'blue', 'flute':'red', 'oboe':'green', 'trumpet':'black', 'sax':'magenta', \\\n",
    "            'viola':'yellow', 'violin':'purple', 'percussion':'pink'}\n",
    "color_list=[]\n",
    "for filename in files:\n",
    "    for name in classes:\n",
    "        if fnmatch.fnmatchcase(filename, '*'+name+'*'):\n",
    "            labels.append(name)\n",
    "            color_list.append(color_dict[name])\n",
    "            break\n",
    "    else:\n",
    "        labels.append('other')"
   ]
  },
  {
   "cell_type": "markdown",
   "metadata": {},
   "source": [
    "## Encode Labels"
   ]
  },
  {
   "cell_type": "code",
   "execution_count": 47,
   "metadata": {},
   "outputs": [
    {
     "name": "stdout",
     "output_type": "stream",
     "text": [
      "7 classes: cello, flute, oboe, sax, trumpet, viola, violin\n"
     ]
    }
   ],
   "source": [
    "# Encode Labels\n",
    "labelencoder = LabelEncoder()\n",
    "labelencoder.fit(labels)\n",
    "print(len(labelencoder.classes_), \"classes:\", \", \".join(list(labelencoder.classes_)))\n",
    "classes_num = labelencoder.transform(labels)"
   ]
  },
  {
   "cell_type": "markdown",
   "metadata": {},
   "source": [
    "## Load audio files"
   ]
  },
  {
   "cell_type": "code",
   "execution_count": 48,
   "metadata": {},
   "outputs": [
    {
     "name": "stdout",
     "output_type": "stream",
     "text": [
      "get 500 of 27527\n",
      "get 1000 of 27527\n",
      "get 1500 of 27527\n",
      "get 2000 of 27527\n",
      "get 2500 of 27527\n",
      "get 3000 of 27527\n",
      "get 3500 of 27527\n",
      "get 4000 of 27527\n",
      "get 4500 of 27527\n",
      "get 5000 of 27527\n",
      "get 5500 of 27527\n",
      "get 6000 of 27527\n",
      "get 6500 of 27527\n",
      "get 7000 of 27527\n",
      "get 7500 of 27527\n",
      "get 8000 of 27527\n",
      "get 8500 of 27527\n",
      "get 9000 of 27527\n",
      "get 9500 of 27527\n",
      "get 10000 of 27527\n",
      "get 10500 of 27527\n",
      "get 11000 of 27527\n",
      "get 11500 of 27527\n",
      "get 12000 of 27527\n",
      "get 12500 of 27527\n",
      "get 13000 of 27527\n",
      "get 13500 of 27527\n",
      "get 14000 of 27527\n",
      "get 14500 of 27527\n",
      "get 15000 of 27527\n",
      "get 15500 of 27527\n",
      "get 16000 of 27527\n",
      "get 16500 of 27527\n",
      "get 17000 of 27527\n",
      "get 17500 of 27527\n",
      "get 18000 of 27527\n",
      "get 18500 of 27527\n",
      "get 19000 of 27527\n",
      "get 19500 of 27527\n",
      "get 20000 of 27527\n",
      "get 20500 of 27527\n",
      "get 21000 of 27527\n",
      "get 21500 of 27527\n",
      "get 22000 of 27527\n",
      "get 22500 of 27527\n",
      "get 23000 of 27527\n",
      "get 23500 of 27527\n",
      "get 24000 of 27527\n",
      "get 24500 of 27527\n",
      "get 25000 of 27527\n",
      "get 25500 of 27527\n",
      "get 26000 of 27527\n",
      "get 26500 of 27527\n",
      "get 27000 of 27527\n",
      "get 27500 of 27527\n"
     ]
    }
   ],
   "source": [
    "# Load audio files, calculate features and create feature vectors\n",
    "data = []\n",
    "for i,f in enumerate(files):\n",
    "    if np.mod(i, 500) == 499:\n",
    "        print (\"get %d of %d\"%(i+1, len(files)))\n",
    "    y, sr = librosa.load(f, sr=fs)\n",
    "    y /= y.max() #Normalize\n",
    "    if len(y) < 2:\n",
    "        error(\"Error loading %s\" % f)\n",
    "        continue\n",
    "    data.append((y, sr))\n",
    "print (\"Loaded %d audio files\"%len(files))"
   ]
  },
  {
   "cell_type": "markdown",
   "metadata": {},
   "source": [
    "## Function to Calculate Audio Features: MFCC"
   ]
  },
  {
   "cell_type": "code",
   "execution_count": 49,
   "metadata": {},
   "outputs": [],
   "source": [
    "# Define Function to Calculate MFCC, Delta_MFCC and Delta2_MFCC\n",
    "def get_features(y, sr=fs):\n",
    "    S = librosa.feature.melspectrogram(y, sr=fs, n_mels=n_mels)\n",
    "    mfcc = librosa.feature.mfcc(S=librosa.power_to_db(S), n_mfcc=n_mfcc)\n",
    "    feature_vector = np.mean(mfcc,1)\n",
    "    #feature_vector = (feature_vector-np.mean(feature_vector))/np.std(feature_vector)\n",
    "    return feature_vector"
   ]
  },
  {
   "cell_type": "markdown",
   "metadata": {},
   "source": [
    "## Parameters for MFCC"
   ]
  },
  {
   "cell_type": "code",
   "execution_count": 50,
   "metadata": {},
   "outputs": [],
   "source": [
    "# Parameters\n",
    "# Signal Processing Parameters\n",
    "fs = 44100         # Sampling Frequency\n",
    "n_fft = 2048       # length of the FFT window\n",
    "hop_length = 512   # Number of samples between successive frames\n",
    "n_mels = 128       # Number of Mel bands\n",
    "n_mfcc = 16        # Number of MFCCs"
   ]
  },
  {
   "cell_type": "markdown",
   "metadata": {},
   "source": [
    "## Calculate Feature Vectors"
   ]
  },
  {
   "cell_type": "code",
   "execution_count": 51,
   "metadata": {},
   "outputs": [
    {
     "name": "stdout",
     "output_type": "stream",
     "text": [
      "Calculated 500 feature vectors\n",
      "Calculated 1000 feature vectors\n",
      "Calculated 1500 feature vectors\n",
      "Calculated 2000 feature vectors\n",
      "Calculated 2500 feature vectors\n",
      "Calculated 3000 feature vectors\n",
      "Calculated 3500 feature vectors\n",
      "Calculated 4000 feature vectors\n",
      "Calculated 4500 feature vectors\n",
      "Calculated 5000 feature vectors\n",
      "Calculated 5500 feature vectors\n",
      "Calculated 6000 feature vectors\n",
      "Calculated 6500 feature vectors\n",
      "Calculated 7000 feature vectors\n",
      "Calculated 7500 feature vectors\n",
      "Calculated 8000 feature vectors\n",
      "Calculated 8500 feature vectors\n",
      "Calculated 9000 feature vectors\n",
      "Calculated 9500 feature vectors\n",
      "Calculated 10000 feature vectors\n",
      "Calculated 10500 feature vectors\n",
      "Calculated 11000 feature vectors\n",
      "Calculated 11500 feature vectors\n",
      "Calculated 12000 feature vectors\n",
      "Calculated 12500 feature vectors\n",
      "Calculated 13000 feature vectors\n",
      "Calculated 13500 feature vectors\n",
      "Calculated 14000 feature vectors\n",
      "Calculated 14500 feature vectors\n",
      "Calculated 15000 feature vectors\n",
      "Calculated 15500 feature vectors\n",
      "Calculated 16000 feature vectors\n",
      "Calculated 16500 feature vectors\n",
      "Calculated 17000 feature vectors\n",
      "Calculated 17500 feature vectors\n",
      "Calculated 18000 feature vectors\n",
      "Calculated 18500 feature vectors\n",
      "Calculated 19000 feature vectors\n",
      "Calculated 19500 feature vectors\n",
      "Calculated 20000 feature vectors\n",
      "Calculated 20500 feature vectors\n",
      "Calculated 21000 feature vectors\n",
      "Calculated 21500 feature vectors\n",
      "Calculated 22000 feature vectors\n",
      "Calculated 22500 feature vectors\n",
      "Calculated 23000 feature vectors\n",
      "Calculated 23500 feature vectors\n",
      "Calculated 24000 feature vectors\n",
      "Calculated 24500 feature vectors\n",
      "Calculated 25000 feature vectors\n",
      "Calculated 25500 feature vectors\n",
      "Calculated 26000 feature vectors\n",
      "Calculated 26500 feature vectors\n",
      "Calculated 27000 feature vectors\n",
      "Calculated 27500 feature vectors\n",
      "Calculated 27527 feature vectors\n"
     ]
    }
   ],
   "source": [
    "feature_vectors = []\n",
    "# sound_paths = []\n",
    "for i in range(len(data)):\n",
    "    y = data[i][0]\n",
    "    feat = get_features(y, sr)\n",
    "    feature_vectors.append(feat)\n",
    "    if np.mod(i, 500) == 499:\n",
    "        print(\"Calculated %d feature vectors\"%(i+1))\n",
    "    # sound_paths.append(f)\n",
    "print(\"Done. Calculated %d feature vectors\"%len(feature_vectors))"
   ]
  },
  {
   "cell_type": "markdown",
   "metadata": {},
   "source": [
    "## Standardization: Zero-Mean and Unit-Variance"
   ]
  },
  {
   "cell_type": "code",
   "execution_count": 52,
   "metadata": {
    "scrolled": true
   },
   "outputs": [
    {
     "name": "stdout",
     "output_type": "stream",
     "text": [
      "Feature vectors 0 shape: (27527, 16)\n",
      "Feature vectors 1 shape: (27527, 16)\n"
     ]
    }
   ],
   "source": [
    "# Scale features using Standard Scaler\n",
    "scaler = StandardScaler()\n",
    "scaled_feature_vectors = scaler.fit_transform(np.array(feature_vectors))\n",
    "scaled_feature_vectors1 = (feature_vectors-np.mean(feature_vectors))/np.std(feature_vectors)\n",
    "print(\"Feature vectors 0 shape:\",scaled_feature_vectors.shape)\n",
    "print(\"Feature vectors 1 shape:\",scaled_feature_vectors1.shape)"
   ]
  },
  {
   "cell_type": "markdown",
   "metadata": {},
   "source": [
    "## Save / Load Feature Vector"
   ]
  },
  {
   "cell_type": "code",
   "execution_count": 53,
   "metadata": {},
   "outputs": [],
   "source": [
    "filename=\"mfcc_feature_vectors.pl\"\n",
    "# Load mfcc features from saved file\n",
    "# with open(filename, \"rb\") as f:\n",
    "#    scaled_feature_vectors = pickle.load( open( filename, \"rb\" ) )\n",
    "\n",
    "# Save feature_vectors for future use\n",
    "with open(filename, \"wb\") as f:\n",
    "    pickle.dump( scaled_feature_vectors, f)"
   ]
  },
  {
   "cell_type": "markdown",
   "metadata": {},
   "source": [
    "## Machine Learning Parameters"
   ]
  },
  {
   "cell_type": "code",
   "execution_count": 54,
   "metadata": {},
   "outputs": [],
   "source": [
    "# Machine Learning Parameters\n",
    "testset_size = 0.25 #Percentage of data for Testing\n",
    "n_neighbors=1       # Number of neighbors for kNN Classifier"
   ]
  },
  {
   "cell_type": "markdown",
   "metadata": {},
   "source": [
    "## Train and Test Sets"
   ]
  },
  {
   "cell_type": "code",
   "execution_count": 55,
   "metadata": {},
   "outputs": [],
   "source": [
    "# Create Train and Test Set\n",
    "splitter = StratifiedShuffleSplit(n_splits=1, test_size=testset_size, random_state=0)\n",
    "splits = splitter.split(scaled_feature_vectors, classes_num)\n",
    "for train_index, test_index in splits:\n",
    "    train_set = scaled_feature_vectors[train_index]\n",
    "    test_set = scaled_feature_vectors[test_index]\n",
    "    train_classes = classes_num[train_index]\n",
    "    test_classes = classes_num[test_index]"
   ]
  },
  {
   "cell_type": "code",
   "execution_count": 56,
   "metadata": {},
   "outputs": [
    {
     "name": "stdout",
     "output_type": "stream",
     "text": [
      "train_set shape: (20645, 16)\n",
      "test_set shape: (6882, 16)\n",
      "train_classes shape: (20645,)\n",
      "test_classes shape: (6882,)\n",
      "test_classes: [2 2 0 ... 5 4 1]\n"
     ]
    }
   ],
   "source": [
    "# Check Set Shapes\n",
    "print(\"train_set shape:\",train_set.shape)\n",
    "print(\"test_set shape:\",test_set.shape)\n",
    "print(\"train_classes shape:\",train_classes.shape)\n",
    "print(\"test_classes shape:\",test_classes.shape)\n",
    "print(\"test_classes:\",test_classes)"
   ]
  },
  {
   "cell_type": "markdown",
   "metadata": {},
   "source": [
    "## SVM Classification"
   ]
  },
  {
   "cell_type": "code",
   "execution_count": 57,
   "metadata": {},
   "outputs": [],
   "source": [
    "# SVM\n",
    "svclassifier = SVC(kernel='rbf', C = 10.0, gamma=0.1) \n",
    "svclassifier1 = SVC(kernel='rbf', C = 10.0, gamma=0.1) "
   ]
  },
  {
   "cell_type": "code",
   "execution_count": 58,
   "metadata": {},
   "outputs": [],
   "source": [
    "# SVM\n",
    "svclassifier.fit(train_set, train_classes);\n",
    "svclassifier1.fit(scaled_feature_vectors1, classes_num);"
   ]
  },
  {
   "cell_type": "markdown",
   "metadata": {},
   "source": [
    "## Evaluation"
   ]
  },
  {
   "cell_type": "code",
   "execution_count": 59,
   "metadata": {},
   "outputs": [
    {
     "name": "stdout",
     "output_type": "stream",
     "text": [
      "Predicted Label:  [2 2 0 ... 5 4 1]\n"
     ]
    }
   ],
   "source": [
    "# Predict using the Test Set\n",
    "#predicted_labels = model_svm.predict(test_set)\n",
    "predicted_labels = svclassifier.predict(test_set)\n",
    "print(\"Predicted Label: \", predicted_labels)"
   ]
  },
  {
   "cell_type": "code",
   "execution_count": 60,
   "metadata": {},
   "outputs": [
    {
     "name": "stdout",
     "output_type": "stream",
     "text": [
      "Recall:  [0.98 1.   1.   0.98 0.97 0.97 0.99]\n",
      "Precision:  [0.99 0.99 0.99 0.98 0.96 0.98 0.98]\n",
      "F1-Score:  [0.98 1.   1.   0.98 0.97 0.98 0.98]\n",
      "Accuracy: 0.98  , 6768\n",
      "Number of samples: 6882\n"
     ]
    }
   ],
   "source": [
    "# Recall - the ability of the classifier to find all the positive samples\n",
    "print(\"Recall: \", recall_score(test_classes, predicted_labels,average=None))\n",
    "\n",
    "# Precision - The precision is intuitively the ability of the classifier not to \n",
    "#label as positive a sample that is negative\n",
    "print(\"Precision: \", precision_score(test_classes, predicted_labels,average=None))\n",
    "\n",
    "# F1-Score - The F1 score can be interpreted as a weighted average of the precision \n",
    "#and recall\n",
    "print(\"F1-Score: \", f1_score(test_classes, predicted_labels, average=None))\n",
    "\n",
    "# Accuracy - the number of correctly classified samples\n",
    "print(\"Accuracy: %.2f  ,\" % accuracy_score(test_classes, predicted_labels,normalize=True), accuracy_score(test_classes, predicted_labels,normalize=False) )\n",
    "print(\"Number of samples:\",test_classes.shape[0])"
   ]
  },
  {
   "cell_type": "code",
   "execution_count": 61,
   "metadata": {},
   "outputs": [],
   "source": [
    "# Compute confusion matrix\n",
    "cnf_matrix = confusion_matrix(test_classes, predicted_labels)\n",
    "np.set_printoptions(precision=2)"
   ]
  },
  {
   "cell_type": "code",
   "execution_count": 62,
   "metadata": {},
   "outputs": [],
   "source": [
    "# Function to Plot Confusion Matrix\n",
    "# http://scikit-learn.org/stable/auto_examples/model_selection/plot_confusion_matrix.html\n",
    "def plot_confusion_matrix(cm, classes,\n",
    "                          normalize=False,\n",
    "                          title='Confusion matrix',\n",
    "                          cmap=plt.cm.Blues):\n",
    "    \"\"\"\n",
    "    This function prints and plots the confusion matrix.\n",
    "    Normalization can be applied by setting `normalize=True`.\n",
    "    \n",
    "    if normalize:\n",
    "        cm = cm.astype('float') / cm.sum(axis=1)[:, np.newaxis]\n",
    "        print(\"Normalized confusion matrix\")\n",
    "    else:\n",
    "        print('Confusion matrix, without normalization')\n",
    "    \"\"\"\n",
    "    #print(cm)\n",
    "\n",
    "    plt.imshow(cm, interpolation='nearest', cmap=cmap)\n",
    "    plt.title(title)\n",
    "    plt.colorbar()\n",
    "    tick_marks = np.arange(len(classes))\n",
    "    plt.xticks(tick_marks, classes, rotation=45)\n",
    "    plt.yticks(tick_marks, classes)\n",
    "\n",
    "    fmt = '.2f' if normalize else 'd'\n",
    "    thresh = cm.max() / 2.\n",
    "    for i, j in itertools.product(range(cm.shape[0]), range(cm.shape[1])):\n",
    "        plt.text(j, i, format(cm[i, j], fmt),\n",
    "                 horizontalalignment=\"center\",\n",
    "                 color=\"white\" if cm[i, j] > thresh else \"black\")\n",
    "\n",
    "    plt.tight_layout()\n",
    "    plt.ylabel('True label')\n",
    "    plt.xlabel('Predicted label')"
   ]
  },
  {
   "cell_type": "code",
   "execution_count": 63,
   "metadata": {},
   "outputs": [
    {
     "data": {
      "image/png": "[encoded data removed]",
      "text/plain": [
       "<Figure size 576x432 with 2 Axes>"
      ]
     },
     "metadata": {
      "needs_background": "light"
     },
     "output_type": "display_data"
    }
   ],
   "source": [
    "# Plot non-normalized confusion matrix\n",
    "plt.figure(figsize=(8,6))\n",
    "plot_confusion_matrix(cnf_matrix, classes=labelencoder.classes_,\n",
    "                      title='Confusion matrix, without normalization')"
   ]
  },
  {
   "cell_type": "code",
   "execution_count": 64,
   "metadata": {},
   "outputs": [],
   "source": [
    "# Find wrong predicted samples indexes\n",
    "#wrong_predictions = [i for i, (e1, e2) in enumerate(zip(test_classes, predicted_labels)) if e1 != e2]\n",
    "wrong_predictions = [i for i, (e1, e2) in enumerate(zip(predicted_labels,test_classes)) if e1 != e2]"
   ]
  },
  {
   "cell_type": "code",
   "execution_count": 65,
   "metadata": {},
   "outputs": [
    {
     "name": "stdout",
     "output_type": "stream",
     "text": [
      "['sax' 'sax' 'sax' 'cello' 'trumpet' 'trumpet' 'sax' 'viola' 'viola'\n",
      " 'cello' 'trumpet' 'sax' 'viola' 'cello' 'viola' 'cello' 'trumpet'\n",
      " 'violin' 'sax' 'viola' 'viola' 'trumpet' 'viola' 'cello' 'violin' 'viola'\n",
      " 'violin' 'violin' 'cello' 'oboe' 'violin' 'viola' 'sax' 'violin' 'cello'\n",
      " 'trumpet' 'viola' 'cello' 'violin' 'sax' 'viola' 'trumpet' 'viola'\n",
      " 'trumpet' 'cello' 'viola' 'viola' 'viola' 'sax' 'violin' 'sax' 'oboe'\n",
      " 'viola' 'trumpet' 'viola' 'trumpet' 'violin' 'cello' 'violin' 'violin'\n",
      " 'viola' 'viola' 'cello' 'cello' 'sax' 'trumpet' 'violin' 'sax' 'viola'\n",
      " 'viola' 'cello' 'sax' 'cello' 'viola' 'violin' 'sax' 'violin' 'trumpet'\n",
      " 'trumpet' 'sax' 'viola' 'trumpet' 'viola' 'flute' 'viola' 'viola' 'sax'\n",
      " 'cello' 'trumpet' 'cello' 'cello' 'violin' 'violin' 'viola' 'violin'\n",
      " 'sax' 'violin' 'viola' 'viola' 'violin' 'trumpet' 'cello' 'viola' 'sax'\n",
      " 'cello' 'cello' 'trumpet' 'cello' 'cello' 'sax' 'cello' 'trumpet'\n",
      " 'violin' 'trumpet']\n",
      "[4 4 4 6 3 2 4 6 0 6 6 4 6 5 6 6 3 1 4 6 2 3 6 5 1 1 4 5 5 5 5 0 4 5 6 3 0\n",
      " 6 5 5 0 3 6 3 6 6 6 6 4 5 4 4 6 3 6 3 5 6 5 1 0 0 6 5 4 3 5 4 6 4 6 4 5 6\n",
      " 5 4 5 3 3 4 0 1 0 0 6 3 4 6 3 5 6 5 0 6 5 4 5 0 0 5 2 6 0 4 1 6 2 6 5 4 6\n",
      " 3 1 2]\n",
      "['trumpet' 'trumpet' 'trumpet' 'violin' 'sax' 'oboe' 'trumpet' 'violin'\n",
      " 'cello' 'violin' 'violin' 'trumpet' 'violin' 'viola' 'violin' 'violin'\n",
      " 'sax' 'flute' 'trumpet' 'violin' 'oboe' 'sax' 'violin' 'viola' 'flute'\n",
      " 'flute' 'trumpet' 'viola' 'viola' 'viola' 'viola' 'cello' 'trumpet'\n",
      " 'viola' 'violin' 'sax' 'cello' 'violin' 'viola' 'viola' 'cello' 'sax'\n",
      " 'violin' 'sax' 'violin' 'violin' 'violin' 'violin' 'trumpet' 'viola'\n",
      " 'trumpet' 'trumpet' 'violin' 'sax' 'violin' 'sax' 'viola' 'violin'\n",
      " 'viola' 'flute' 'cello' 'cello' 'violin' 'viola' 'trumpet' 'sax' 'viola'\n",
      " 'trumpet' 'violin' 'trumpet' 'violin' 'trumpet' 'viola' 'violin' 'viola'\n",
      " 'trumpet' 'viola' 'sax' 'sax' 'trumpet' 'cello' 'flute' 'cello' 'cello'\n",
      " 'violin' 'sax' 'trumpet' 'violin' 'sax' 'viola' 'violin' 'viola' 'cello'\n",
      " 'violin' 'viola' 'trumpet' 'viola' 'cello' 'cello' 'viola' 'oboe'\n",
      " 'violin' 'cello' 'trumpet' 'flute' 'violin' 'oboe' 'violin' 'viola'\n",
      " 'trumpet' 'violin' 'sax' 'flute' 'oboe']\n",
      "['./audio/london_phill_dataset_multi/sax/combined/sax_234_399.wav'\n",
      " './audio/london_phill_dataset_multi/sax/combined/sax_171_477.wav'\n",
      " './audio/london_phill_dataset_multi/sax/combined/sax_604_293.wav'\n",
      " './audio/london_phill_dataset_multi/violin/violin_Ds5_1_piano_arco-sul-ponticello.mp3'\n",
      " './audio/london_phill_dataset_multi/trumpet/combined/trumpet_13_470.wav'\n",
      " './audio/london_phill_dataset_multi/trumpet/combined/trumpet_314_200.wav'\n",
      " './audio/london_phill_dataset_multi/sax/combined/sax_104_126.wav'\n",
      " './audio/london_phill_dataset_multi/viola/combined/viola_420_516.wav'\n",
      " './audio/london_phill_dataset_multi/viola/combined/viola_386_628.wav'\n",
      " './audio/london_phill_dataset_multi/violin/violin_As4_1_mezzo-forte_arco-sul-ponticello.mp3'\n",
      " './audio/london_phill_dataset_multi/trumpet/combined/trumpet_247_287.wav'\n",
      " './audio/london_phill_dataset_multi/sax/combined/sax_589_221.wav'\n",
      " './audio/london_phill_dataset_multi/viola/combined/viola_319_780.wav'\n",
      " './audio/london_phill_dataset_multi/cello/combined/cello_275_608.wav'\n",
      " './audio/london_phill_dataset_multi/viola/combined/viola_32_389.wav'\n",
      " './audio/london_phill_dataset_multi/violin/violin_D6_1_mezzo-forte_arco-sul-ponticello.mp3'\n",
      " './audio/london_phill_dataset_multi/trumpet/combined/trumpet_329_127.wav'\n",
      " './audio/london_phill_dataset_multi/violin/combined/violin_819_948.wav'\n",
      " './audio/london_phill_dataset_multi/sax/combined/sax_178_19.wav'\n",
      " './audio/london_phill_dataset_multi/viola/combined/viola_321_26.wav'\n",
      " './audio/london_phill_dataset_multi/viola/combined/viola_448_780.wav'\n",
      " './audio/london_phill_dataset_multi/trumpet/combined/trumpet_68_138.wav'\n",
      " './audio/london_phill_dataset_multi/viola/combined/viola_207_537.wav'\n",
      " './audio/london_phill_dataset_multi/cello/cello_C4_15_mezzo-piano_arco-normal.mp3'\n",
      " './audio/london_phill_dataset_multi/violin/combined/violin_845_447.wav'\n",
      " './audio/london_phill_dataset_multi/viola/combined/viola_521_434.wav'\n",
      " './audio/london_phill_dataset_multi/violin/more_violin_l2219.wav'\n",
      " './audio/london_phill_dataset_multi/violin/violin_E5_05_pianissimo_arco-normal.mp3'\n",
      " './audio/london_phill_dataset_multi/cello/combined/cello_254_396.wav'\n",
      " './audio/london_phill_dataset_multi/oboe/oboe_B3_025_mezzo-forte_normal.mp3'\n",
      " './audio/london_phill_dataset_multi/violin/violin_F4_1_piano_arco-col-legno-tratto.mp3'\n",
      " './audio/london_phill_dataset_multi/viola/combined/viola_779_21.wav'\n",
      " './audio/london_phill_dataset_multi/sax/combined/sax_127_481.wav'\n",
      " './audio/london_phill_dataset_multi/violin/combined/violin_984_762.wav'\n",
      " './audio/london_phill_dataset_multi/violin/violin_As3_1_piano_arco-sul-ponticello.mp3'\n",
      " './audio/london_phill_dataset_multi/trumpet/combined/trumpet_445_110.wav'\n",
      " './audio/london_phill_dataset_multi/viola/combined/viola_10_34.wav'\n",
      " './audio/london_phill_dataset_multi/violin/violin_Cs6_1_piano_arco-sul-ponticello.mp3'\n",
      " './audio/london_phill_dataset_multi/violin/violin_Fs6_1_piano_natural-harmonic.mp3'\n",
      " './audio/london_phill_dataset_multi/sax/combined/sax_152_540.wav'\n",
      " './audio/london_phill_dataset_multi/viola/combined/viola_703_210.wav'\n",
      " './audio/london_phill_dataset_multi/trumpet/combined/trumpet_345_110.wav'\n",
      " './audio/london_phill_dataset_multi/viola/viola_B4_025_fortissimo_arco-normal.mp3'\n",
      " './audio/london_phill_dataset_multi/trumpet/combined/trumpet_126_151.wav'\n",
      " './audio/london_phill_dataset_multi/violin/violin_G4_1_piano_arco-sul-ponticello.mp3'\n",
      " './audio/london_phill_dataset_multi/viola/combined/viola_702_667.wav'\n",
      " './audio/london_phill_dataset_multi/viola/viola_C5_05_forte_arco-normal.mp3'\n",
      " './audio/london_phill_dataset_multi/viola/combined/viola_757_638.wav'\n",
      " './audio/london_phill_dataset_multi/sax/combined/sax_307_488.wav'\n",
      " './audio/london_phill_dataset_multi/violin/combined/violin_802_484.wav'\n",
      " './audio/london_phill_dataset_multi/sax/combined/sax_230_545.wav'\n",
      " './audio/london_phill_dataset_multi/oboe/combined/oboe_144_42.wav'\n",
      " './audio/london_phill_dataset_multi/viola/combined/viola_129_702.wav'\n",
      " './audio/london_phill_dataset_multi/trumpet/combined/trumpet_90_158.wav'\n",
      " './audio/london_phill_dataset_multi/viola/combined/viola_386_213.wav'\n",
      " './audio/london_phill_dataset_multi/trumpet/combined/trumpet_364_125.wav'\n",
      " './audio/london_phill_dataset_multi/violin/violin_E5_025_piano_arco-col-legno-battuto.mp3'\n",
      " './audio/london_phill_dataset_multi/violin/violin_Fs4_1_mezzo-forte_arco-sul-ponticello.mp3'\n",
      " './audio/london_phill_dataset_multi/violin/combined/violin_1211_64.wav'\n",
      " './audio/london_phill_dataset_multi/violin/combined/violin_414_941.wav'\n",
      " './audio/london_phill_dataset_multi/viola/viola_A4_15_fortissimo_arco-normal.mp3'\n",
      " './audio/london_phill_dataset_multi/viola/combined/viola_946_860.wav'\n",
      " './audio/london_phill_dataset_multi/cello/combined/cello_280_163.wav'\n",
      " './audio/london_phill_dataset_multi/cello/cello_G4_05_pianissimo_arco-normal.mp3'\n",
      " './audio/london_phill_dataset_multi/sax/saxophone_B5_025_forte_normal.mp3'\n",
      " './audio/london_phill_dataset_multi/trumpet/combined/trumpet_313_154.wav'\n",
      " './audio/london_phill_dataset_multi/violin/violin_B3_025_mezzo-piano_arco-normal.mp3'\n",
      " './audio/london_phill_dataset_multi/sax/combined/sax_167_150.wav'\n",
      " './audio/london_phill_dataset_multi/viola/combined/viola_712_301.wav'\n",
      " './audio/london_phill_dataset_multi/viola/combined/viola_536_763.wav'\n",
      " './audio/london_phill_dataset_multi/violin/violin_Ds5_1_mezzo-forte_arco-sul-ponticello.mp3'\n",
      " './audio/london_phill_dataset_multi/sax/combined/sax_448_404.wav'\n",
      " './audio/london_phill_dataset_multi/cello/combined/cello_613_101.wav'\n",
      " './audio/london_phill_dataset_multi/viola/viola_B4_025_forte_arco-normal.mp3'\n",
      " './audio/london_phill_dataset_multi/violin/violin_G6_025_piano_arco-col-legno-battuto.mp3'\n",
      " './audio/london_phill_dataset_multi/sax/saxophone_D6_025_piano_normal.mp3'\n",
      " './audio/london_phill_dataset_multi/violin/combined/violin_758_409.wav'\n",
      " './audio/london_phill_dataset_multi/trumpet/combined/trumpet_205_237.wav'\n",
      " './audio/london_phill_dataset_multi/trumpet/combined/trumpet_377_39.wav'\n",
      " './audio/london_phill_dataset_multi/sax/saxophone_C6_025_pianissimo_normal.mp3'\n",
      " './audio/london_phill_dataset_multi/viola/combined/viola_139_20.wav'\n",
      " './audio/london_phill_dataset_multi/trumpet/trumpet_Cs5_long_pianissimo_normal.mp3'\n",
      " './audio/london_phill_dataset_multi/viola/combined/viola_234_309.wav'\n",
      " './audio/london_phill_dataset_multi/flute/combined/flute_205_4.wav'\n",
      " './audio/london_phill_dataset_multi/viola/combined/viola_485_184.wav'\n",
      " './audio/london_phill_dataset_multi/viola/combined/viola_541_537.wav'\n",
      " './audio/london_phill_dataset_multi/sax/combined/sax_135_481.wav'\n",
      " './audio/london_phill_dataset_multi/violin/violin_As5_1_piano_arco-sul-ponticello.mp3'\n",
      " './audio/london_phill_dataset_multi/trumpet/combined/trumpet_116_146.wav'\n",
      " './audio/london_phill_dataset_multi/cello/cello_Gs3_15_fortissimo_arco-normal.mp3'\n",
      " './audio/london_phill_dataset_multi/violin/violin_C5_1_piano_arco-sul-ponticello.mp3'\n",
      " './audio/london_phill_dataset_multi/violin/combined/violin_792_245.wav'\n",
      " './audio/london_phill_dataset_multi/violin/combined/violin_408_534.wav'\n",
      " './audio/london_phill_dataset_multi/viola/combined/viola_505_325.wav'\n",
      " './audio/london_phill_dataset_multi/violin/combined/violin_734_897.wav'\n",
      " './audio/london_phill_dataset_multi/sax/combined/sax_485_38.wav'\n",
      " './audio/london_phill_dataset_multi/violin/combined/violin_245_930.wav'\n",
      " './audio/london_phill_dataset_multi/viola/combined/viola_248_768.wav'\n",
      " './audio/london_phill_dataset_multi/viola/combined/viola_515_419.wav'\n",
      " './audio/london_phill_dataset_multi/violin/combined/violin_318_839.wav'\n",
      " './audio/london_phill_dataset_multi/trumpet/trumpet_G5_long_pianissimo_normal.mp3'\n",
      " './audio/london_phill_dataset_multi/violin/violin_A6_1_piano_arco-sul-ponticello.mp3'\n",
      " './audio/london_phill_dataset_multi/viola/viola_B3_025_fortissimo_arco-normal.mp3'\n",
      " './audio/london_phill_dataset_multi/sax/combined/sax_419_304.wav'\n",
      " './audio/london_phill_dataset_multi/cello/cello_Gs4_025_pianissimo_arco-normal.mp3'\n",
      " './audio/london_phill_dataset_multi/violin/violin_G3_1_piano_arco-sul-ponticello.mp3'\n",
      " './audio/london_phill_dataset_multi/trumpet/trumpet_D6_long_pianissimo_normal.mp3'\n",
      " './audio/london_phill_dataset_multi/violin/violin_B5_1_piano_arco-sul-ponticello.mp3'\n",
      " './audio/london_phill_dataset_multi/cello/more_cello_l1232.wav'\n",
      " './audio/london_phill_dataset_multi/sax/combined/sax_141_64.wav'\n",
      " './audio/london_phill_dataset_multi/violin/violin_Fs4_1_piano_arco-sul-ponticello.mp3'\n",
      " './audio/london_phill_dataset_multi/trumpet/combined/trumpet_343_411.wav'\n",
      " './audio/london_phill_dataset_multi/violin/combined/violin_761_439.wav'\n",
      " './audio/london_phill_dataset_multi/trumpet/combined/trumpet_387_478.wav']\n"
     ]
    }
   ],
   "source": [
    "# Find wrong predicted audio files\n",
    "print(np.array(labels)[test_index[wrong_predictions]])\n",
    "print(predicted_labels[wrong_predictions].T)\n",
    "print(labelencoder.inverse_transform(predicted_labels[wrong_predictions]))\n",
    "print(np.array(files)[test_index[wrong_predictions]])"
   ]
  },
  {
   "cell_type": "code",
   "execution_count": 66,
   "metadata": {
    "scrolled": true
   },
   "outputs": [
    {
     "name": "stdout",
     "output_type": "stream",
     "text": [
      "Accuracy:  89.75741239892183 %\n",
      "Labels:  ['violin' 'violin' 'cello' 'cello' 'cello' 'cello' 'cello' 'cello' 'cello'\n",
      " 'viola' 'viola' 'viola' 'cello' 'cello' 'cello' 'cello' 'cello' 'cello'\n",
      " 'cello' 'cello' 'cello' 'cello' 'cello' 'cello' 'cello' 'cello' 'cello'\n",
      " 'cello' 'cello' 'cello' 'cello' 'cello' 'cello' 'cello' 'cello' 'cello'\n",
      " 'cello' 'cello' 'cello' 'cello' 'cello' 'cello' 'cello' 'cello' 'cello'\n",
      " 'cello' 'cello' 'cello' 'cello' 'cello' 'cello' 'cello' 'cello' 'cello'\n",
      " 'cello' 'cello' 'cello' 'cello' 'cello' 'cello' 'cello' 'cello' 'viola'\n",
      " 'oboe' 'cello' 'cello' 'cello' 'cello' 'cello' 'cello' 'cello' 'cello'\n",
      " 'cello' 'cello' 'cello' 'cello' 'cello' 'cello' 'cello' 'cello' 'cello'\n",
      " 'cello' 'viola' 'cello' 'cello' 'cello' 'cello' 'cello' 'cello' 'cello'\n",
      " 'viola' 'viola' 'viola' 'cello' 'cello' 'cello' 'cello' 'cello' 'cello'\n",
      " 'cello' 'cello' 'cello' 'cello' 'cello' 'cello' 'cello' 'cello' 'cello'\n",
      " 'cello' 'cello' 'cello' 'cello' 'cello' 'cello' 'cello' 'cello' 'cello'\n",
      " 'cello' 'cello' 'cello' 'cello' 'cello' 'cello' 'cello' 'cello' 'cello'\n",
      " 'cello' 'cello' 'cello' 'cello' 'cello' 'cello' 'cello' 'cello' 'cello'\n",
      " 'cello' 'cello' 'cello' 'cello' 'cello' 'cello' 'cello' 'cello' 'cello'\n",
      " 'cello' 'viola' 'viola' 'viola' 'cello' 'cello' 'cello' 'cello' 'cello'\n",
      " 'cello' 'cello' 'cello' 'cello' 'trumpet' 'trumpet' 'cello' 'cello'\n",
      " 'cello' 'cello' 'cello' 'cello' 'cello' 'cello' 'cello' 'cello' 'cello'\n",
      " 'cello' 'cello' 'cello' 'cello' 'cello' 'cello' 'viola' 'sax' 'cello'\n",
      " 'cello' 'cello' 'cello' 'cello' 'cello' 'cello' 'cello' 'cello' 'cello'\n",
      " 'cello' 'cello' 'cello' 'cello' 'cello' 'sax' 'cello' 'cello' 'cello'\n",
      " 'cello' 'cello' 'cello' 'cello' 'cello' 'cello' 'cello' 'cello' 'cello'\n",
      " 'cello' 'cello' 'cello' 'cello' 'cello' 'cello' 'cello' 'cello' 'viola'\n",
      " 'cello' 'cello' 'cello' 'cello' 'cello' 'cello' 'cello' 'cello' 'cello'\n",
      " 'cello' 'cello' 'cello' 'cello' 'cello' 'cello' 'oboe' 'cello' 'cello'\n",
      " 'viola' 'oboe' 'cello' 'cello' 'cello' 'cello' 'cello' 'cello' 'cello'\n",
      " 'cello' 'cello' 'cello' 'cello' 'cello' 'cello' 'cello' 'oboe' 'cello'\n",
      " 'cello' 'cello' 'cello' 'cello' 'cello' 'cello' 'cello' 'cello' 'cello'\n",
      " 'cello' 'cello' 'cello' 'oboe' 'cello' 'cello' 'cello' 'cello' 'cello'\n",
      " 'cello' 'cello' 'cello' 'viola' 'cello' 'viola' 'cello' 'cello' 'cello'\n",
      " 'cello' 'cello' 'cello' 'cello' 'cello' 'cello' 'cello' 'cello' 'cello'\n",
      " 'cello' 'cello' 'cello' 'cello' 'oboe' 'cello' 'cello' 'cello' 'cello'\n",
      " 'cello' 'cello' 'cello' 'cello' 'cello' 'cello' 'cello' 'cello' 'cello'\n",
      " 'cello' 'cello' 'cello' 'cello' 'cello' 'cello' 'cello' 'viola' 'viola'\n",
      " 'cello' 'cello' 'cello' 'cello' 'cello' 'cello' 'cello' 'cello' 'cello'\n",
      " 'sax' 'cello' 'cello' 'cello' 'viola' 'cello' 'cello' 'cello' 'cello'\n",
      " 'oboe' 'viola' 'oboe' 'cello' 'cello' 'cello' 'cello' 'cello' 'cello'\n",
      " 'cello' 'cello' 'cello' 'cello' 'cello' 'cello' 'cello' 'cello' 'cello'\n",
      " 'cello' 'cello' 'cello' 'cello' 'cello' 'cello' 'cello' 'cello' 'cello'\n",
      " 'cello' 'cello' 'cello' 'cello' 'cello' 'cello' 'cello' 'cello' 'cello'\n",
      " 'violin' 'violin' 'violin']\n"
     ]
    }
   ],
   "source": [
    "# Try predicting a real cello music piece\n",
    "filename = '/Users/Michael/OneDrive - Georgia Institute of Technology/GaTech/2020  Summer/CS 4641/CS-4641-B-Group-6/BasicsMusicalInstrumClassifi-new/audio/Real-world_test_data/bach4.flac'\n",
    "y, sr = librosa.load(filename, sr=fs)\n",
    "if len(y) < 2:\n",
    "    print(\"Error loading %s\" % f)\n",
    "    \n",
    "feats = []\n",
    "pred_freq = 2\n",
    "for i in range(int(np.ceil(len(y)/sr*pred_freq))):\n",
    "    ind1 = int(i*sr/pred_freq)\n",
    "    ind2 = int((i+1)*sr/pred_freq-1)\n",
    "    loc_y = y[ind1: ind2]\n",
    "    if loc_y.max() > 0:\n",
    "        loc_y /= loc_y.max() # Normalize\n",
    "#     with np.printoptions(threshold=np.inf):\n",
    "#         print(loc_y)\n",
    "    feat = get_features(loc_y, sr)\n",
    "    feats.append(feat)\n",
    "scaled_feats = (feats-np.mean(feature_vectors))/np.std(feature_vectors)\n",
    "\n",
    "label = svclassifier1.predict(scaled_feats)\n",
    "occurrences = np.count_nonzero(labelencoder.inverse_transform(label) == 'cello')\n",
    "# print('occurrences: ', occurrences)\n",
    "print('Accuracy: ', occurrences/label.shape[0]*100, '%')\n",
    "with np.printoptions(threshold=np.inf):\n",
    "    print(\"Labels: \", labelencoder.inverse_transform(label))"
   ]
  },
  {
   "cell_type": "code",
   "execution_count": 70,
   "metadata": {},
   "outputs": [
    {
     "name": "stdout",
     "output_type": "stream",
     "text": [
      "Accuracy:  90.41533546325878 %\n",
      "Labels:  ['violin' 'violin' 'violin' 'violin' 'violin' 'oboe' 'oboe' 'oboe' 'viola'\n",
      " 'viola' 'violin' 'violin' 'violin' 'violin' 'violin' 'violin' 'violin'\n",
      " 'viola' 'violin' 'violin' 'violin' 'viola' 'violin' 'violin' 'violin'\n",
      " 'viola' 'viola' 'violin' 'oboe' 'violin' 'viola' 'violin' 'violin'\n",
      " 'violin' 'violin' 'violin' 'violin' 'violin' 'violin' 'violin' 'violin'\n",
      " 'violin' 'violin' 'violin' 'violin' 'violin' 'violin' 'violin' 'violin'\n",
      " 'violin' 'violin' 'violin' 'viola' 'violin' 'viola' 'violin' 'violin'\n",
      " 'viola' 'viola' 'violin' 'violin' 'violin' 'violin' 'viola' 'violin'\n",
      " 'violin' 'violin' 'violin' 'violin' 'violin' 'violin' 'violin' 'violin'\n",
      " 'violin' 'violin' 'violin' 'violin' 'violin' 'violin' 'violin' 'trumpet'\n",
      " 'violin' 'violin' 'sax' 'trumpet' 'sax' 'violin' 'sax' 'violin' 'violin'\n",
      " 'violin' 'violin' 'violin' 'violin' 'violin' 'violin' 'violin' 'violin'\n",
      " 'violin' 'violin' 'sax' 'violin' 'violin' 'violin' 'violin' 'violin'\n",
      " 'violin' 'violin' 'violin' 'violin' 'violin' 'violin' 'violin' 'violin'\n",
      " 'violin' 'violin' 'violin' 'violin' 'violin' 'violin' 'violin' 'violin'\n",
      " 'violin' 'violin' 'violin' 'violin' 'violin' 'violin' 'violin' 'violin'\n",
      " 'violin' 'violin' 'violin' 'violin' 'violin' 'violin' 'violin' 'violin'\n",
      " 'violin' 'violin' 'violin' 'violin' 'violin' 'violin' 'violin' 'violin'\n",
      " 'violin' 'violin' 'violin' 'violin' 'violin' 'violin' 'violin' 'violin'\n",
      " 'violin' 'violin' 'violin' 'violin' 'violin' 'violin' 'violin' 'violin'\n",
      " 'violin' 'violin' 'violin' 'violin' 'violin' 'violin' 'violin' 'violin'\n",
      " 'violin' 'violin' 'violin' 'violin' 'violin' 'violin' 'violin' 'oboe'\n",
      " 'violin' 'violin' 'violin' 'violin' 'violin' 'violin' 'violin' 'violin'\n",
      " 'violin' 'violin' 'violin' 'violin' 'violin' 'violin' 'violin' 'violin'\n",
      " 'violin' 'violin' 'violin' 'violin' 'violin' 'violin' 'violin' 'violin'\n",
      " 'violin' 'violin' 'violin' 'violin' 'violin' 'violin' 'violin' 'violin'\n",
      " 'violin' 'violin' 'violin' 'violin' 'violin' 'violin' 'oboe' 'violin'\n",
      " 'violin' 'violin' 'oboe' 'violin' 'violin' 'violin' 'violin' 'violin'\n",
      " 'violin' 'violin' 'violin' 'violin' 'violin' 'violin' 'violin' 'violin'\n",
      " 'violin' 'violin' 'violin' 'sax' 'violin' 'violin' 'violin' 'violin'\n",
      " 'violin' 'violin' 'violin' 'violin' 'violin' 'violin' 'violin' 'violin'\n",
      " 'violin' 'violin' 'violin' 'violin' 'violin' 'violin' 'violin' 'violin'\n",
      " 'violin' 'violin' 'violin' 'violin' 'violin' 'violin' 'violin' 'violin'\n",
      " 'violin' 'violin' 'violin' 'violin' 'violin' 'violin' 'violin' 'violin'\n",
      " 'violin' 'violin' 'violin' 'violin' 'violin' 'violin' 'violin' 'violin'\n",
      " 'violin' 'viola' 'violin' 'viola' 'viola' 'viola' 'violin' 'violin'\n",
      " 'violin' 'violin' 'violin' 'violin' 'violin' 'violin' 'violin' 'violin'\n",
      " 'violin' 'violin' 'violin' 'violin' 'violin' 'violin' 'violin' 'violin'\n",
      " 'violin' 'violin' 'violin' 'violin' 'violin' 'violin' 'violin']\n"
     ]
    }
   ],
   "source": [
    "# Try predicting a real violin music piece\n",
    "filename = '/Users/Michael/OneDrive - Georgia Institute of Technology/GaTech/2020  Summer/CS 4641/CS-4641-B-Group-6/BasicsMusicalInstrumClassifi-new/audio/Real-world_test_data/violin_4.flac'\n",
    "y, sr = librosa.load(filename, sr=fs)\n",
    "if len(y) < 2:\n",
    "    print(\"Error loading %s\" % f)\n",
    "    \n",
    "feats = []\n",
    "pred_freq = 2\n",
    "for i in range(int(np.ceil(len(y)/sr*pred_freq))):\n",
    "    ind1 = int(i*sr/pred_freq)\n",
    "    ind2 = int((i+1)*sr/pred_freq-1)\n",
    "    loc_y = y[ind1: ind2]\n",
    "    if loc_y.max() > 0:\n",
    "        loc_y /= loc_y.max() # Normalize\n",
    "#     with np.printoptions(threshold=np.inf):\n",
    "#         print(loc_y)\n",
    "    feat = get_features(loc_y, sr)\n",
    "    feats.append(feat)\n",
    "scaled_feats = (feats-np.mean(feature_vectors))/np.std(feature_vectors)\n",
    "\n",
    "label = svclassifier1.predict(scaled_feats)\n",
    "occurrences = np.count_nonzero(labelencoder.inverse_transform(label) == 'violin')\n",
    "# print('occurrences: ', occurrences)\n",
    "print('Accuracy: ', occurrences/label.shape[0]*100, '%')\n",
    "with np.printoptions(threshold=np.inf):\n",
    "    print(\"Labels: \", labelencoder.inverse_transform(label))"
   ]
  },
  {
   "cell_type": "code",
   "execution_count": null,
   "metadata": {},
   "outputs": [],
   "source": []
  }
 ],
 "metadata": {
  "kernelspec": {
   "display_name": "Python 3",
   "language": "python",
   "name": "python3"
  },
  "language_info": {
   "codemirror_mode": {
    "name": "ipython",
    "version": 3
   },
   "file_extension": ".py",
   "mimetype": "text/x-python",
   "name": "python",
   "nbconvert_exporter": "python",
   "pygments_lexer": "ipython3",
   "version": "3.7.6"
  }
 },
 "nbformat": 4,
 "nbformat_minor": 2
}

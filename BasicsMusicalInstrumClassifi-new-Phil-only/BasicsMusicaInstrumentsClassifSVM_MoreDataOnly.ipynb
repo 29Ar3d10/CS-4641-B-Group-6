{
 "cells": [
  {
   "cell_type": "markdown",
   "metadata": {},
   "source": [
    "# The Very Basics of Musical Instruments Classification using Machine Learning\n",
    "## MFCC, SVM \n"
   ]
  },
  {
   "cell_type": "markdown",
   "metadata": {},
   "source": [
    "## Imports"
   ]
  },
  {
   "cell_type": "code",
   "execution_count": 1,
   "metadata": {},
   "outputs": [],
   "source": [
    "# Imports\n",
    "\n",
    "#General\n",
    "import numpy as np\n",
    "import pickle\n",
    "import itertools\n",
    "\n",
    "# System\n",
    "import os, fnmatch\n",
    "\n",
    "# Visualization\n",
    "import seaborn #visualization library, must be imported before all other plotting libraries\n",
    "import matplotlib.pyplot as plt\n",
    "from IPython.core.display import HTML, display\n",
    "\n",
    "# Machine Learning\n",
    "from sklearn.preprocessing import LabelEncoder\n",
    "from sklearn.preprocessing import StandardScaler\n",
    "from sklearn.model_selection import StratifiedShuffleSplit\n",
    "from sklearn.neighbors import KNeighborsClassifier\n",
    "from sklearn.metrics import recall_score, precision_score, accuracy_score\n",
    "from sklearn.metrics import confusion_matrix, f1_score, classification_report\n",
    "from sklearn.svm import LinearSVC, SVC\n",
    "# from sklearn.externals \n",
    "import joblib\n",
    "\n",
    "# Random Seed\n",
    "from numpy.random import seed\n",
    "seed(1)\n",
    "\n",
    "# Audio\n",
    "import librosa.display, librosa\n",
    "\n",
    "# Suppress warnings\n",
    "import warnings\n",
    "warnings.filterwarnings(\"ignore\")\n",
    "\n",
    "# Configurations\n",
    "path='./audio/london_phill_dataset_multi/'\n",
    "\n",
    "# Sampling rate\n",
    "fs = 44100"
   ]
  },
  {
   "cell_type": "markdown",
   "metadata": {},
   "source": [
    "## Get filenames"
   ]
  },
  {
   "cell_type": "code",
   "execution_count": 2,
   "metadata": {},
   "outputs": [
    {
     "name": "stdout",
     "output_type": "stream",
     "text": [
      "found 23778 audio files in ./audio/london_phill_dataset_multi/\n"
     ]
    }
   ],
   "source": [
    "# Get files in data path\n",
    "files = []\n",
    "for root, dirnames, filenames in os.walk(path):\n",
    "    for filename in fnmatch.filter(filenames, '*.wav'):\n",
    "        files.append(os.path.join(root, filename))\n",
    "    for filename in fnmatch.filter(filenames, '*.mp3'):\n",
    "        files.append(os.path.join(root, filename))\n",
    "\n",
    "print(\"found %d audio files in %s\"%(len(files),path))"
   ]
  },
  {
   "cell_type": "markdown",
   "metadata": {},
   "source": [
    "## Prepare labels from filenames"
   ]
  },
  {
   "cell_type": "code",
   "execution_count": 3,
   "metadata": {},
   "outputs": [],
   "source": [
    "# Get Labels\n",
    "labels =[]\n",
    "classes=['flute', 'sax', 'oboe', 'cello', 'trumpet', 'viola', 'violin', 'percussion']\n",
    "color_dict={'cello':'blue', 'flute':'red', 'oboe':'green', 'trumpet':'black', 'sax':'magenta', \\\n",
    "            'viola':'yellow', 'violin':'purple', 'percussion':'pink'}\n",
    "color_list=[]\n",
    "for filename in files:\n",
    "    for name in classes:\n",
    "        if fnmatch.fnmatchcase(filename, '*'+name+'*'):\n",
    "            labels.append(name)\n",
    "            color_list.append(color_dict[name])\n",
    "            break\n",
    "    else:\n",
    "        labels.append('other')"
   ]
  },
  {
   "cell_type": "markdown",
   "metadata": {},
   "source": [
    "## Encode Labels"
   ]
  },
  {
   "cell_type": "code",
   "execution_count": 4,
   "metadata": {},
   "outputs": [
    {
     "name": "stdout",
     "output_type": "stream",
     "text": [
      "7 classes: cello, flute, oboe, sax, trumpet, viola, violin\n"
     ]
    }
   ],
   "source": [
    "# Encode Labels\n",
    "labelencoder = LabelEncoder()\n",
    "labelencoder.fit(labels)\n",
    "print(len(labelencoder.classes_), \"classes:\", \", \".join(list(labelencoder.classes_)))\n",
    "classes_num = labelencoder.transform(labels)"
   ]
  },
  {
   "cell_type": "markdown",
   "metadata": {},
   "source": [
    "## Load audio files"
   ]
  },
  {
   "cell_type": "code",
   "execution_count": 5,
   "metadata": {},
   "outputs": [
    {
     "name": "stdout",
     "output_type": "stream",
     "text": [
      "get 500 of 23778\n",
      "get 1000 of 23778\n",
      "get 1500 of 23778\n",
      "get 2000 of 23778\n",
      "get 2500 of 23778\n",
      "get 3000 of 23778\n",
      "get 3500 of 23778\n",
      "get 4000 of 23778\n",
      "get 4500 of 23778\n",
      "get 5000 of 23778\n",
      "get 5500 of 23778\n",
      "get 6000 of 23778\n",
      "get 6500 of 23778\n",
      "get 7000 of 23778\n",
      "get 7500 of 23778\n",
      "get 8000 of 23778\n",
      "get 8500 of 23778\n",
      "get 9000 of 23778\n",
      "get 9500 of 23778\n",
      "get 10000 of 23778\n",
      "get 10500 of 23778\n",
      "get 11000 of 23778\n",
      "get 11500 of 23778\n",
      "get 12000 of 23778\n",
      "get 12500 of 23778\n",
      "get 13000 of 23778\n",
      "get 13500 of 23778\n",
      "get 14000 of 23778\n",
      "get 14500 of 23778\n",
      "get 15000 of 23778\n",
      "get 15500 of 23778\n",
      "get 16000 of 23778\n",
      "get 16500 of 23778\n",
      "get 17000 of 23778\n",
      "get 17500 of 23778\n",
      "get 18000 of 23778\n",
      "get 18500 of 23778\n",
      "get 19000 of 23778\n",
      "get 19500 of 23778\n",
      "get 20000 of 23778\n",
      "get 20500 of 23778\n",
      "get 21000 of 23778\n",
      "get 21500 of 23778\n",
      "get 22000 of 23778\n",
      "get 22500 of 23778\n",
      "get 23000 of 23778\n",
      "get 23500 of 23778\n",
      "Loaded 23778 audio files\n"
     ]
    }
   ],
   "source": [
    "# Load audio files, calculate features and create feature vectors\n",
    "data = []\n",
    "for i,f in enumerate(files):\n",
    "    if np.mod(i, 500) == 499:\n",
    "        print (\"get %d of %d\"%(i+1, len(files)))\n",
    "    y, sr = librosa.load(f, sr=fs)\n",
    "    y /= y.max() #Normalize\n",
    "    if len(y) < 2:\n",
    "        error(\"Error loading %s\" % f)\n",
    "        continue\n",
    "    data.append((y, sr))\n",
    "print (\"Loaded %d audio files\"%len(files))"
   ]
  },
  {
   "cell_type": "markdown",
   "metadata": {},
   "source": [
    "## Function to Calculate Audio Features: MFCC"
   ]
  },
  {
   "cell_type": "code",
   "execution_count": 6,
   "metadata": {},
   "outputs": [],
   "source": [
    "# Define Function to Calculate MFCC, Delta_MFCC and Delta2_MFCC\n",
    "def get_features(y, sr=fs):\n",
    "    S = librosa.feature.melspectrogram(y, sr=fs, n_mels=n_mels)\n",
    "    mfcc = librosa.feature.mfcc(S=librosa.power_to_db(S), n_mfcc=n_mfcc)\n",
    "    feature_vector = np.mean(mfcc,1)\n",
    "    return feature_vector"
   ]
  },
  {
   "cell_type": "markdown",
   "metadata": {},
   "source": [
    "## Parameters for MFCC"
   ]
  },
  {
   "cell_type": "code",
   "execution_count": 7,
   "metadata": {},
   "outputs": [],
   "source": [
    "# Signal Processing Parameters\n",
    "n_fft = 2048       # length of the FFT window\n",
    "hop_length = 512   # Number of samples between successive frames\n",
    "n_mels = 128       # Number of Mel bands\n",
    "n_mfcc = 13        # Number of MFCCs"
   ]
  },
  {
   "cell_type": "markdown",
   "metadata": {},
   "source": [
    "## Calculate Feature Vectors"
   ]
  },
  {
   "cell_type": "code",
   "execution_count": 8,
   "metadata": {},
   "outputs": [
    {
     "name": "stdout",
     "output_type": "stream",
     "text": [
      "Calculated 500 feature vectors\n",
      "Calculated 1000 feature vectors\n",
      "Calculated 1500 feature vectors\n",
      "Calculated 2000 feature vectors\n",
      "Calculated 2500 feature vectors\n",
      "Calculated 3000 feature vectors\n",
      "Calculated 3500 feature vectors\n",
      "Calculated 4000 feature vectors\n",
      "Calculated 4500 feature vectors\n",
      "Calculated 5000 feature vectors\n",
      "Calculated 5500 feature vectors\n",
      "Calculated 6000 feature vectors\n",
      "Calculated 6500 feature vectors\n",
      "Calculated 7000 feature vectors\n",
      "Calculated 7500 feature vectors\n",
      "Calculated 8000 feature vectors\n",
      "Calculated 8500 feature vectors\n",
      "Calculated 9000 feature vectors\n",
      "Calculated 9500 feature vectors\n",
      "Calculated 10000 feature vectors\n",
      "Calculated 10500 feature vectors\n",
      "Calculated 11000 feature vectors\n",
      "Calculated 11500 feature vectors\n",
      "Calculated 12000 feature vectors\n",
      "Calculated 12500 feature vectors\n",
      "Calculated 13000 feature vectors\n",
      "Calculated 13500 feature vectors\n",
      "Calculated 14000 feature vectors\n",
      "Calculated 14500 feature vectors\n",
      "Calculated 15000 feature vectors\n",
      "Calculated 15500 feature vectors\n",
      "Calculated 16000 feature vectors\n",
      "Calculated 16500 feature vectors\n",
      "Calculated 17000 feature vectors\n",
      "Calculated 17500 feature vectors\n",
      "Calculated 18000 feature vectors\n",
      "Calculated 18500 feature vectors\n",
      "Calculated 19000 feature vectors\n",
      "Calculated 19500 feature vectors\n",
      "Calculated 20000 feature vectors\n",
      "Calculated 20500 feature vectors\n",
      "Calculated 21000 feature vectors\n",
      "Calculated 21500 feature vectors\n",
      "Calculated 22000 feature vectors\n",
      "Calculated 22500 feature vectors\n",
      "Calculated 23000 feature vectors\n",
      "Calculated 23500 feature vectors\n",
      "Done. Calculated 23778 feature vectors\n"
     ]
    }
   ],
   "source": [
    "feature_vectors = []\n",
    "# sound_paths = []\n",
    "for i in range(len(data)):\n",
    "    y = data[i][0]\n",
    "    feat = get_features(y, sr)\n",
    "    feature_vectors.append(feat)\n",
    "    if np.mod(i, 500) == 499:\n",
    "        print(\"Calculated %d feature vectors\"%(i+1))\n",
    "    # sound_paths.append(f)\n",
    "print(\"Done. Calculated %d feature vectors\"%len(feature_vectors))"
   ]
  },
  {
   "cell_type": "markdown",
   "metadata": {},
   "source": [
    "## Standardization: Zero-Mean and Unit-Variance"
   ]
  },
  {
   "cell_type": "code",
   "execution_count": 9,
   "metadata": {
    "scrolled": true
   },
   "outputs": [
    {
     "name": "stdout",
     "output_type": "stream",
     "text": [
      "Feature vectors shape: (23778, 13)\n"
     ]
    }
   ],
   "source": [
    "# Scale features using Standard Scaler\n",
    "scaled_feature_vectors = (feature_vectors-np.mean(feature_vectors))/np.std(feature_vectors)\n",
    "print(\"Feature vectors shape:\",scaled_feature_vectors.shape)"
   ]
  },
  {
   "cell_type": "markdown",
   "metadata": {},
   "source": [
    "## Save / Load Feature Vector"
   ]
  },
  {
   "cell_type": "code",
   "execution_count": 10,
   "metadata": {},
   "outputs": [],
   "source": [
    "filename=\"mfcc_feature_vectors_128_13.pl\"\n",
    "filename2=\"mfcc_raw_feature_vectors_128_13.pl\"\n",
    "\n",
    "# Load mfcc features from saved file\n",
    "# with open(filename, \"rb\") as f:\n",
    "#    scaled_feature_vectors = pickle.load( open( filename, \"rb\" ) )\n",
    "# with open(filename2, \"rb\") as f:\n",
    "#    feature_vectors = pickle.load( open( filename2, \"rb\" ) )\n",
    "\n",
    "# Save feature_vectors for future use\n",
    "with open(filename, \"wb\") as f:\n",
    "    pickle.dump( scaled_feature_vectors, f )\n",
    "with open(filename2, \"wb\") as f:\n",
    "    pickle.dump( feature_vectors, f )"
   ]
  },
  {
   "cell_type": "markdown",
   "metadata": {},
   "source": [
    "## Machine Learning Parameters"
   ]
  },
  {
   "cell_type": "code",
   "execution_count": 11,
   "metadata": {},
   "outputs": [],
   "source": [
    "# Machine Learning Parameters\n",
    "testset_size = 0.25 # Percentage of data for Testing\n",
    "n_neighbors = 1     # Number of neighbors for kNN Classifier"
   ]
  },
  {
   "cell_type": "markdown",
   "metadata": {},
   "source": [
    "## Train and Test Sets"
   ]
  },
  {
   "cell_type": "code",
   "execution_count": 12,
   "metadata": {},
   "outputs": [],
   "source": [
    "# Create Train and Test Set\n",
    "splitter = StratifiedShuffleSplit(n_splits=1, test_size=testset_size, random_state=0)\n",
    "splits = splitter.split(scaled_feature_vectors, classes_num)\n",
    "for train_index, test_index in splits:\n",
    "    train_set = scaled_feature_vectors[train_index]\n",
    "    test_set = scaled_feature_vectors[test_index]\n",
    "    train_classes = classes_num[train_index]\n",
    "    test_classes = classes_num[test_index]"
   ]
  },
  {
   "cell_type": "code",
   "execution_count": 13,
   "metadata": {},
   "outputs": [
    {
     "name": "stdout",
     "output_type": "stream",
     "text": [
      "train_set shape: (17833, 13)\n",
      "test_set shape: (5945, 13)\n",
      "train_classes shape: (17833,)\n",
      "test_classes shape: (5945,)\n",
      "test_classes: [0 5 3 ... 5 2 2]\n"
     ]
    }
   ],
   "source": [
    "# Check Set Shapes\n",
    "print(\"train_set shape:\",train_set.shape)\n",
    "print(\"test_set shape:\",test_set.shape)\n",
    "print(\"train_classes shape:\",train_classes.shape)\n",
    "print(\"test_classes shape:\",test_classes.shape)\n",
    "print(\"test_classes:\",test_classes)"
   ]
  },
  {
   "cell_type": "markdown",
   "metadata": {},
   "source": [
    "## SVM Classification"
   ]
  },
  {
   "cell_type": "code",
   "execution_count": 14,
   "metadata": {},
   "outputs": [],
   "source": [
    "# SVM\n",
    "svclassifier = SVC(kernel='rbf', C=10.0, gamma=0.07) \n",
    "svclassifier1 = SVC(kernel='rbf', C=10.0, gamma=0.07) "
   ]
  },
  {
   "cell_type": "code",
   "execution_count": 15,
   "metadata": {},
   "outputs": [],
   "source": [
    "# SVM\n",
    "svclassifier.fit(train_set, train_classes);\n",
    "svclassifier1.fit(scaled_feature_vectors, classes_num);"
   ]
  },
  {
   "cell_type": "markdown",
   "metadata": {},
   "source": [
    "## Evaluation"
   ]
  },
  {
   "cell_type": "code",
   "execution_count": 16,
   "metadata": {},
   "outputs": [
    {
     "name": "stdout",
     "output_type": "stream",
     "text": [
      "Predicted Label:  [0 5 3 ... 5 2 2]\n"
     ]
    }
   ],
   "source": [
    "# Predict using the Test Set\n",
    "#predicted_labels = model_svm.predict(test_set)\n",
    "predicted_labels = svclassifier.predict(test_set)\n",
    "print(\"Predicted Label: \", predicted_labels)"
   ]
  },
  {
   "cell_type": "code",
   "execution_count": 17,
   "metadata": {},
   "outputs": [
    {
     "name": "stdout",
     "output_type": "stream",
     "text": [
      "Recall:  [0.9410828  0.97299814 0.9781719  0.88602941 0.84020619 0.95996664\n",
      " 0.91456736]\n",
      "Precision:  [0.9410828  0.97028784 0.98624484 0.88929889 0.88586957 0.92524116\n",
      " 0.92367257]\n",
      "F1-Score:  [0.9410828  0.9716411  0.98219178 0.88766114 0.86243386 0.94228408\n",
      " 0.91909741]\n",
      "Accuracy: 0.9337  , 5551\n",
      "Number of samples: 5945\n"
     ]
    }
   ],
   "source": [
    "# Recall - the ability of the classifier to find all the positive samples\n",
    "print(\"Recall: \", recall_score(test_classes, predicted_labels,average=None))\n",
    "\n",
    "# Precision - The precision is intuitively the ability of the classifier not to \n",
    "#label as positive a sample that is negative\n",
    "print(\"Precision: \", precision_score(test_classes, predicted_labels,average=None))\n",
    "\n",
    "# F1-Score - The F1 score can be interpreted as a weighted average of the precision \n",
    "#and recall\n",
    "print(\"F1-Score: \", f1_score(test_classes, predicted_labels, average=None))\n",
    "\n",
    "# Accuracy - the number of correctly classified samples\n",
    "print(\"Accuracy: %.4f  ,\" % accuracy_score(test_classes, predicted_labels,normalize=True), accuracy_score(test_classes, predicted_labels,normalize=False) )\n",
    "print(\"Number of samples:\",test_classes.shape[0])"
   ]
  },
  {
   "cell_type": "code",
   "execution_count": 18,
   "metadata": {},
   "outputs": [],
   "source": [
    "# Compute confusion matrix\n",
    "cnf_matrix = confusion_matrix(test_classes, predicted_labels)\n",
    "np.set_printoptions(precision=2)"
   ]
  },
  {
   "cell_type": "code",
   "execution_count": 19,
   "metadata": {},
   "outputs": [],
   "source": [
    "# Function to Plot Confusion Matrix\n",
    "# http://scikit-learn.org/stable/auto_examples/model_selection/plot_confusion_matrix.html\n",
    "def plot_confusion_matrix(cm, classes,\n",
    "                          normalize=False,\n",
    "                          title='Confusion matrix',\n",
    "                          cmap=plt.cm.Blues):\n",
    "    \"\"\"\n",
    "    This function prints and plots the confusion matrix.\n",
    "    Normalization can be applied by setting `normalize=True`.\n",
    "    \n",
    "    if normalize:\n",
    "        cm = cm.astype('float') / cm.sum(axis=1)[:, np.newaxis]\n",
    "        print(\"Normalized confusion matrix\")\n",
    "    else:\n",
    "        print('Confusion matrix, without normalization')\n",
    "    \"\"\"\n",
    "\n",
    "    plt.imshow(cm, interpolation='nearest', cmap=cmap)\n",
    "    plt.title(title)\n",
    "    plt.colorbar()\n",
    "    tick_marks = np.arange(len(classes))\n",
    "    plt.xticks(tick_marks, classes, rotation=45)\n",
    "    plt.yticks(tick_marks, classes)\n",
    "\n",
    "    fmt = '.2f' if normalize else 'd'\n",
    "    thresh = cm.max() / 2.\n",
    "    for i, j in itertools.product(range(cm.shape[0]), range(cm.shape[1])):\n",
    "        plt.text(j, i, format(cm[i, j], fmt),\n",
    "                 horizontalalignment=\"center\",\n",
    "                 color=\"white\" if cm[i, j] > thresh else \"black\")\n",
    "\n",
    "    plt.tight_layout()\n",
    "    plt.ylabel('True label')\n",
    "    plt.xlabel('Predicted label')"
   ]
  },
  {
   "cell_type": "code",
   "execution_count": 20,
   "metadata": {},
   "outputs": [
    {
     "data": {
      "image/png": "[encoded data removed]",
      "text/plain": [
       "<Figure size 576x432 with 2 Axes>"
      ]
     },
     "metadata": {
      "needs_background": "light"
     },
     "output_type": "display_data"
    }
   ],
   "source": [
    "# Plot non-normalized confusion matrix\n",
    "plt.figure(figsize=(8,6))\n",
    "plot_confusion_matrix(cnf_matrix, classes=labelencoder.classes_,\n",
    "                      title='Confusion matrix, without normalization')"
   ]
  },
  {
   "cell_type": "code",
   "execution_count": 21,
   "metadata": {},
   "outputs": [],
   "source": [
    "# Find wrong predicted samples indexes\n",
    "# wrong_predictions = [i for i, (e1, e2) in enumerate(zip(test_classes, predicted_labels)) if e1 != e2]\n",
    "# wrong_predictions = [i for i, (e1, e2) in enumerate(zip(predicted_labels,test_classes)) if e1 != e2]"
   ]
  },
  {
   "cell_type": "code",
   "execution_count": 22,
   "metadata": {},
   "outputs": [],
   "source": [
    "# Find wrong predicted audio files\n",
    "# print(np.array(labels)[test_index[wrong_predictions]])\n",
    "# print(predicted_labels[wrong_predictions].T)\n",
    "# print(labelencoder.inverse_transform(predicted_labels[wrong_predictions]))\n",
    "# print(np.array(files)[test_index[wrong_predictions]])"
   ]
  },
  {
   "cell_type": "markdown",
   "metadata": {},
   "source": [
    "## Evaluate the performance for real-world music pieces"
   ]
  },
  {
   "cell_type": "code",
   "execution_count": 23,
   "metadata": {},
   "outputs": [],
   "source": [
    "# Plot histogram of predicted labels:\n",
    "\n",
    "def plot_hist(label, answer, title):\n",
    "    # calculate percentage\n",
    "    num_flute = 100*np.count_nonzero(labelencoder.inverse_transform(label) == 'flute')/len(label)\n",
    "    num_sax = 100*np.count_nonzero(labelencoder.inverse_transform(label) == 'sax')/len(label)\n",
    "    num_oboe = 100*np.count_nonzero(labelencoder.inverse_transform(label) == 'oboe')/len(label)\n",
    "    num_cello = 100*np.count_nonzero(labelencoder.inverse_transform(label) == 'cello')/len(label)\n",
    "    num_trumpet = 100*np.count_nonzero(labelencoder.inverse_transform(label) == 'trumpet')/len(label)\n",
    "    num_viola = 100*np.count_nonzero(labelencoder.inverse_transform(label) == 'viola')/len(label)\n",
    "    num_violin  = 100*np.count_nonzero(labelencoder.inverse_transform(label) == 'violin')/len(label)\n",
    "\n",
    "    # create tuple for sorting\n",
    "    num_tuples = [('Flute', num_flute,'lightsalmon'), ('Sax',num_sax,'lightsalmon'), ('Oboe', num_oboe,'lightsalmon'),\n",
    "              ('Cello', num_cello,'lightsalmon'),('Trumpet', num_trumpet,'lightsalmon'),\n",
    "              ('Viola', num_viola,'lightsalmon'),('Violin', num_violin,'lightsalmon')]\n",
    "\n",
    "    # sort tumple\n",
    "    num_tuples = sorted(num_tuples, key=lambda num: num[1], reverse=True)\n",
    "\n",
    "    # separate tuple into num and name\n",
    "    num_list = np.array(num_tuples)[:,1]\n",
    "    num_list = num_list.astype(np.float)\n",
    "    name_list = np.array(num_tuples)[:,0]\n",
    "    color_list = np.array(num_tuples)[:,2]\n",
    "    # highlight the answer with color green\n",
    "    mask= name_list == answer \n",
    "    loc = [i for i, val in enumerate(mask) if val] [0]\n",
    "    color_list[loc]= 'palegreen'\n",
    "\n",
    "    # initialize the plot\n",
    "    fig, ax = plt.subplots(figsize=(9, 4)) \n",
    "    font = {'family' : 'Calibri',\n",
    "            'weight' : 'normal',\n",
    "            'size'   : 20}\n",
    "    plt.rc('font', **font)\n",
    "\n",
    "    # plot bar chart: set the max as correct with color green\n",
    "    rect1 = plt.bar(range(len(num_list)), num_list, width=0.8, color=color_list, tick_label=name_list)\n",
    "\n",
    "    # add % on each bar \n",
    "    for rect in rect1:\n",
    "        height = rect.get_height()\n",
    "        ax.text(rect.get_x()+rect.get_width()/2.0, 1.1*height,'%.1f'%float(height)+ '%', ha='center', va='bottom')\n",
    "\n",
    "    # edit title & axis \n",
    "    plt.title(title)\n",
    "    plt.xticks(fontweight='bold')\n",
    "    plt.ylabel(\"% of Labels\")\n",
    "    plt.ylim(0,120)\n",
    "    plt.yticks([])\n",
    "    plt.savefig(answer+'_MoreDataOnly.png', bbox_inches='tight')\n",
    "    plt.show()"
   ]
  },
  {
   "cell_type": "code",
   "execution_count": 24,
   "metadata": {
    "scrolled": true
   },
   "outputs": [
    {
     "name": "stdout",
     "output_type": "stream",
     "text": [
      "Accuracy:  10.781671159029651 %\n"
     ]
    },
    {
     "data": {
      "image/png": "[encoded data removed]",
      "text/plain": [
       "<Figure size 648x288 with 1 Axes>"
      ]
     },
     "metadata": {
      "needs_background": "light"
     },
     "output_type": "display_data"
    }
   ],
   "source": [
    "# Try predicting a real cello music piece\n",
    "filename = './audio/Real-world_test_data/bach4.flac'\n",
    "\n",
    "y, sr = librosa.load(filename, sr=fs)\n",
    "if len(y) < 2:\n",
    "    print(\"Error loading %s\" % f)\n",
    "    \n",
    "feats = []\n",
    "pred_freq = 2\n",
    "for i in range(int(np.ceil(len(y)/sr*pred_freq))):\n",
    "    ind1 = int(i*sr/pred_freq)\n",
    "    ind2 = int((i+1)*sr/pred_freq-1)\n",
    "    loc_y = y[ind1: ind2]\n",
    "    if loc_y.max() > 0:\n",
    "        loc_y /= loc_y.max() # Normalize\n",
    "    feat = get_features(loc_y, sr)\n",
    "    feats.append(feat)\n",
    "scaled_feats = (feats-np.mean(feature_vectors))/np.std(feature_vectors)\n",
    "\n",
    "# Save feature vectors\n",
    "filename=\"bach4_feature_vectors.pl\"\n",
    "# with open(filename, \"rb\") as f:\n",
    "#    scaled_feats = pickle.load( open( filename, \"rb\" ) )\n",
    "with open(filename, \"wb\") as f:\n",
    "    pickle.dump( scaled_feats, f )\n",
    "\n",
    "# Predict instruments\n",
    "label = svclassifier1.predict(scaled_feats)\n",
    "\n",
    "# Calculate accuracy\n",
    "occurrences = np.count_nonzero(labelencoder.inverse_transform(label) == 'cello')\n",
    "# print('occurrences: ', occurrences)\n",
    "print('Accuracy: ', occurrences/label.shape[0]*100, '%')\n",
    "\n",
    "# with np.printoptions(threshold=np.inf):\n",
    "#     print(\"Labels: \", labelencoder.inverse_transform(label))\n",
    "\n",
    "# Plot histogram\n",
    "# plot_hist(label, 'Cello', \"Prediction Results for a Cello Music Piece \\n More Training Data + New MFCC Parameters\")\n",
    "plot_hist(label, 'Cello', \"Prediction Results for a Cello Music Piece \\n More Training Data\")"
   ]
  },
  {
   "cell_type": "code",
   "execution_count": 25,
   "metadata": {
    "scrolled": true
   },
   "outputs": [
    {
     "name": "stdout",
     "output_type": "stream",
     "text": [
      "Accuracy:  21.08626198083067 %\n"
     ]
    },
    {
     "data": {
      "image/png": "[encoded data removed]",
      "text/plain": [
       "<Figure size 648x288 with 1 Axes>"
      ]
     },
     "metadata": {
      "needs_background": "light"
     },
     "output_type": "display_data"
    }
   ],
   "source": [
    "# Try predicting a real violin music piece\n",
    "filename = './audio/Real-world_test_data/violin_4.flac'\n",
    "\n",
    "y, sr = librosa.load(filename, sr=fs)\n",
    "if len(y) < 2:\n",
    "    print(\"Error loading %s\" % f)\n",
    "    \n",
    "feats = []\n",
    "pred_freq = 2\n",
    "for i in range(int(np.ceil(len(y)/sr*pred_freq))):\n",
    "    ind1 = int(i*sr/pred_freq)\n",
    "    ind2 = int((i+1)*sr/pred_freq-1)\n",
    "    loc_y = y[ind1: ind2]\n",
    "    if loc_y.max() > 0:\n",
    "        loc_y /= loc_y.max() # Normalize\n",
    "#     with np.printoptions(threshold=np.inf):\n",
    "#         print(loc_y)\n",
    "    feat = get_features(loc_y, sr)\n",
    "    feats.append(feat)\n",
    "scaled_feats = (feats-np.mean(feature_vectors))/np.std(feature_vectors)\n",
    "\n",
    "# Save feature vectors\n",
    "filename = \"violin_4_feature_vectors.pl\"\n",
    "# with open(filename, \"rb\") as f:\n",
    "#    scaled_feats = pickle.load( open( filename, \"rb\" ) )\n",
    "with open(filename, \"wb\") as f:\n",
    "    pickle.dump( scaled_feats, f )\n",
    "\n",
    "# Predict instruments\n",
    "label = svclassifier1.predict(scaled_feats)\n",
    "\n",
    "# Calculate accuracy\n",
    "occurrences = np.count_nonzero(labelencoder.inverse_transform(label) == 'violin')\n",
    "# print('occurrences: ', occurrences)\n",
    "print('Accuracy: ', occurrences/label.shape[0]*100, '%')\n",
    "\n",
    "# with np.printoptions(threshold=np.inf):\n",
    "#     print(\"Labels: \", labelencoder.inverse_transform(label))\n",
    "\n",
    "# Plot histogram\n",
    "# plot_hist(label, 'Violin', \"Prediction Results for a Violin Music Piece \\n More Training Data + New MFCC Parameters\")\n",
    "plot_hist(label, 'Violin', \"Prediction Results for a Violin Music Piece \\n More Training Data\")"
   ]
  },
  {
   "cell_type": "code",
   "execution_count": null,
   "metadata": {},
   "outputs": [],
   "source": []
  }
 ],
 "metadata": {
  "kernelspec": {
   "display_name": "Python 3",
   "language": "python",
   "name": "python3"
  },
  "language_info": {
   "codemirror_mode": {
    "name": "ipython",
    "version": 3
   },
   "file_extension": ".py",
   "mimetype": "text/x-python",
   "name": "python",
   "nbconvert_exporter": "python",
   "pygments_lexer": "ipython3",
   "version": "3.7.6"
  }
 },
 "nbformat": 4,
 "nbformat_minor": 2
}

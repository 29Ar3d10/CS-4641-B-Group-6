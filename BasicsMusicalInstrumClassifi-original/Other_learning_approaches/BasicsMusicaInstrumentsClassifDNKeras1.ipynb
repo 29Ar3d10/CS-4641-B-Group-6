{
 "cells": [
  {
   "cell_type": "markdown",
   "metadata": {},
   "source": [
    "# The Very Basics of Musical Instruments Classification using Machine Learning\n",
    "## MFCC, Deep Learning (Gentle introduction using Keras)\n",
    "\n",
    "<br>\n",
    "\n",
    "<p align=\"left\">\n",
    "<img src=\"./img/businesscard.jpg\" width=\"300px\" alt=\"Business Card\" align=\"left\" >\n",
    "</p>\n",
    "<br>\n",
    "\n"
   ]
  },
  {
   "cell_type": "code",
   "execution_count": 1,
   "metadata": {},
   "outputs": [
    {
     "data": {
      "text/html": [
       "<iframe width=\"560\" height=\"315\" src=\"https://www.youtube.com/embed/0R-kTc5PjDM\" frameborder=\"0\" \n",
       "allow=\"accelerometer; encrypted-media; gyroscope; picture-in-picture\"></iframe>\n"
      ],
      "text/plain": [
       "<IPython.core.display.HTML object>"
      ]
     },
     "metadata": {},
     "output_type": "display_data"
    }
   ],
   "source": [
    "%%html\n",
    "<iframe width=\"560\" height=\"315\" src=\"https://www.youtube.com/embed/0R-kTc5PjDM\" frameborder=\"0\" \n",
    "allow=\"accelerometer; encrypted-media; gyroscope; picture-in-picture\"></iframe>"
   ]
  },
  {
   "cell_type": "markdown",
   "metadata": {},
   "source": [
    "## Imports"
   ]
  },
  {
   "cell_type": "code",
   "execution_count": 2,
   "metadata": {},
   "outputs": [
    {
     "name": "stderr",
     "output_type": "stream",
     "text": [
      "Using TensorFlow backend.\n"
     ]
    }
   ],
   "source": [
    "# Imports\n",
    "\n",
    "#General\n",
    "import numpy as np\n",
    "import pickle\n",
    "import itertools\n",
    "\n",
    "# System\n",
    "import os, fnmatch\n",
    "\n",
    "# Visualization\n",
    "import seaborn #visualization library, must be imported before all other plotting libraries\n",
    "import matplotlib.pyplot as plt\n",
    "from IPython.core.display import HTML, display, Image\n",
    "\n",
    "\n",
    "# Machine Learning\n",
    "from sklearn.preprocessing import LabelEncoder, OneHotEncoder\n",
    "from sklearn.model_selection import StratifiedShuffleSplit, GridSearchCV\n",
    "from sklearn.neighbors import KNeighborsClassifier\n",
    "from sklearn.metrics import recall_score, precision_score, accuracy_score\n",
    "from sklearn.metrics import confusion_matrix, f1_score, classification_report\n",
    "from sklearn.metrics import classification_report\n",
    "\n",
    "# Deep Learning\n",
    "from keras import backend as K\n",
    "from keras.layers import Input, Dense\n",
    "from keras.models import Model, Sequential\n",
    "from keras.optimizers import SGD\n",
    "from keras.callbacks import History\n",
    "from keras.wrappers.scikit_learn import KerasClassifier\n",
    "from keras.utils import plot_model\n",
    "\n",
    "# Random Seed\n",
    "# from tensorflow import set_random_seed\n",
    "import tensorflow\n",
    "from numpy.random import seed\n",
    "seed(1)\n",
    "tensorflow.random.set_seed(2)\n",
    "\n",
    "# Audio\n",
    "import librosa.display, librosa\n",
    "\n",
    "# Configurations\n",
    "path='./audio/london_phill_dataset_multi/'"
   ]
  },
  {
   "cell_type": "markdown",
   "metadata": {},
   "source": [
    "## Auxiliary Functions"
   ]
  },
  {
   "cell_type": "code",
   "execution_count": 3,
   "metadata": {},
   "outputs": [],
   "source": [
    "# Function to Display a Website\n",
    "def show_web(url):\n",
    "    html_code='<center><iframe src=\"%s\" width=\"800\" height=\"600\" frameborder=\"0\" marginheight=\"0\" marginwidth=\"0\">Loading...</iframe></center>' \\\n",
    "\t\t% (url)\n",
    "    display(HTML(html_code))"
   ]
  },
  {
   "cell_type": "markdown",
   "metadata": {},
   "source": [
    "## Get filenames"
   ]
  },
  {
   "cell_type": "code",
   "execution_count": 4,
   "metadata": {},
   "outputs": [
    {
     "name": "stdout",
     "output_type": "stream",
     "text": [
      "found 600 audio files in ./audio/london_phill_dataset_multi/\n"
     ]
    }
   ],
   "source": [
    "# Get files in data path\n",
    "\n",
    "files = []\n",
    "for root, dirnames, filenames in os.walk(path):\n",
    "    for filename in fnmatch.filter(filenames, '*.mp3'):\n",
    "        files.append(os.path.join(root, filename))\n",
    "\n",
    "print(\"found %d audio files in %s\"%(len(files),path))"
   ]
  },
  {
   "cell_type": "markdown",
   "metadata": {},
   "source": [
    "## Load Labels"
   ]
  },
  {
   "cell_type": "code",
   "execution_count": 5,
   "metadata": {},
   "outputs": [],
   "source": [
    "filename=\"inst_labels.pl\"\n",
    "# Load labels\n",
    "with open(filename, \"rb\") as f:\n",
    "    labels = pickle.load( open( filename, \"rb\" ) )"
   ]
  },
  {
   "cell_type": "code",
   "execution_count": 6,
   "metadata": {},
   "outputs": [
    {
     "name": "stdout",
     "output_type": "stream",
     "text": [
      "6 classes: cello, flute, oboe, sax, trumpet, viola\n"
     ]
    }
   ],
   "source": [
    "# Encode Labels\n",
    "labelencoder = LabelEncoder()\n",
    "labelencoder.fit(labels)\n",
    "print(len(labelencoder.classes_), \"classes:\", \", \".join(list(labelencoder.classes_)))\n",
    "classes_num = labelencoder.transform(labels)"
   ]
  },
  {
   "cell_type": "code",
   "execution_count": 7,
   "metadata": {},
   "outputs": [
    {
     "name": "stdout",
     "output_type": "stream",
     "text": [
      "Labels: ['oboe', 'oboe', 'oboe']\n",
      "Encoded Classes:  [2 2 2]\n"
     ]
    }
   ],
   "source": [
    "print('Labels:', labels[:3])\n",
    "print('Encoded Classes: ', classes_num[0:3])"
   ]
  },
  {
   "cell_type": "markdown",
   "metadata": {},
   "source": [
    "## Parameters for Train/Test Set"
   ]
  },
  {
   "cell_type": "code",
   "execution_count": 8,
   "metadata": {},
   "outputs": [],
   "source": [
    "# Machine Learning Parameters\n",
    "testset_size = 0.25 #Percentage of data for Testing"
   ]
  },
  {
   "cell_type": "markdown",
   "metadata": {},
   "source": [
    "## Save / Load Feature Vector"
   ]
  },
  {
   "cell_type": "code",
   "execution_count": 9,
   "metadata": {},
   "outputs": [],
   "source": [
    "filename=\"mfcc_feature_vectors.pl\"\n",
    "# Load mfcc features from saved file\n",
    "with open(filename, \"rb\") as f:\n",
    "    scaled_feature_vectors = pickle.load( open( filename, \"rb\" ) )"
   ]
  },
  {
   "cell_type": "markdown",
   "metadata": {},
   "source": [
    "## Train and Test Sets"
   ]
  },
  {
   "cell_type": "code",
   "execution_count": 10,
   "metadata": {},
   "outputs": [],
   "source": [
    "# Create Train and Test Set\n",
    "splitter = StratifiedShuffleSplit(n_splits=1, test_size=testset_size, random_state=0)\n",
    "splits = splitter.split(scaled_feature_vectors, classes_num)\n",
    "for train_index, test_index in splits:\n",
    "    train_set = scaled_feature_vectors[train_index]\n",
    "    test_set = scaled_feature_vectors[test_index]\n",
    "    train_classes = classes_num[train_index]\n",
    "    test_classes = classes_num[test_index]"
   ]
  },
  {
   "cell_type": "code",
   "execution_count": 11,
   "metadata": {},
   "outputs": [
    {
     "name": "stdout",
     "output_type": "stream",
     "text": [
      "train_set shape: (450, 13)\n",
      "test_set shape: (150, 13)\n",
      "train_classes shape: (450,)\n",
      "test_classes shape: (150,)\n"
     ]
    }
   ],
   "source": [
    "# Check Set Shapes\n",
    "print(\"train_set shape:\",train_set.shape)\n",
    "print(\"test_set shape:\",test_set.shape)\n",
    "print(\"train_classes shape:\",train_classes.shape)\n",
    "print(\"test_classes shape:\",test_classes.shape)"
   ]
  },
  {
   "cell_type": "markdown",
   "metadata": {},
   "source": [
    "## Keras"
   ]
  },
  {
   "cell_type": "code",
   "execution_count": 12,
   "metadata": {},
   "outputs": [
    {
     "data": {
      "text/html": [
       "<center><iframe src=\"https://keras.io/\" width=\"800\" height=\"600\" frameborder=\"0\" marginheight=\"0\" marginwidth=\"0\">Loading...</iframe></center>"
      ],
      "text/plain": [
       "<IPython.core.display.HTML object>"
      ]
     },
     "metadata": {},
     "output_type": "display_data"
    }
   ],
   "source": [
    "show_web(\"https://keras.io/\")"
   ]
  },
  {
   "cell_type": "code",
   "execution_count": 13,
   "metadata": {},
   "outputs": [],
   "source": [
    "# DNN\n",
    "# Use Keras Backend Type\n",
    "train_set_d=train_set.astype(K.floatx())\n",
    "test_set_d=test_set.astype(K.floatx())"
   ]
  },
  {
   "cell_type": "markdown",
   "metadata": {},
   "source": [
    "## One Hot Encoding"
   ]
  },
  {
   "cell_type": "code",
   "execution_count": 14,
   "metadata": {},
   "outputs": [],
   "source": [
    "# One Hot encode\n",
    "onehot_encoder = OneHotEncoder(sparse=False, categories='auto')\n",
    "integer_encoded_train_classes =  train_classes.reshape(len( train_classes), 1)\n",
    "onehot_encoded_train_classes = onehot_encoder.fit_transform(integer_encoded_train_classes,1)\n",
    "integer_encoded_test_classes =  test_classes.reshape(len( test_classes),1)\n",
    "onehot_encoded_test_classes = onehot_encoder.fit_transform(integer_encoded_test_classes,1)"
   ]
  },
  {
   "cell_type": "code",
   "execution_count": 15,
   "metadata": {},
   "outputs": [
    {
     "name": "stdout",
     "output_type": "stream",
     "text": [
      "Integer Encoded: [[0]\n",
      " [2]\n",
      " [1]]\n",
      "One-hot Encoded:  [[1. 0. 0. 0. 0. 0.]\n",
      " [0. 0. 1. 0. 0. 0.]\n",
      " [0. 1. 0. 0. 0. 0.]]\n"
     ]
    }
   ],
   "source": [
    "print('Integer Encoded:', integer_encoded_train_classes[:3] )\n",
    "print('One-hot Encoded: ', onehot_encoded_train_classes[:3] )"
   ]
  },
  {
   "cell_type": "code",
   "execution_count": 16,
   "metadata": {},
   "outputs": [
    {
     "name": "stdout",
     "output_type": "stream",
     "text": [
      "train_set shape: (450, 13)\n",
      "test_set shape: (150, 13)\n",
      "train_classes shape: (450, 6)\n",
      "test_classes shape: (150, 6)\n"
     ]
    }
   ],
   "source": [
    "# Check Set Shapes\n",
    "print(\"train_set shape:\",train_set_d.shape)\n",
    "print(\"test_set shape:\",test_set_d.shape)\n",
    "print(\"train_classes shape:\",onehot_encoded_train_classes.shape)\n",
    "print(\"test_classes shape:\",onehot_encoded_test_classes.shape)"
   ]
  },
  {
   "cell_type": "code",
   "execution_count": 17,
   "metadata": {},
   "outputs": [],
   "source": [
    "# Reshape Sets for Keras\n",
    "train_set_d=train_set.reshape(train_set_d.shape[0],1,train_set_d.shape[1])\n",
    "test_set_d=test_set.reshape(test_set_d.shape[0],1,test_set_d.shape[1])\n",
    "train_classes_d_hot=onehot_encoded_train_classes.reshape(onehot_encoded_train_classes.shape[0],1,\n",
    "                                                         onehot_encoded_train_classes.shape[1])\n",
    "test_classes_d_hot=onehot_encoded_test_classes.reshape(onehot_encoded_test_classes.shape[0],1,\n",
    "                                                       onehot_encoded_test_classes.shape[1])"
   ]
  },
  {
   "cell_type": "code",
   "execution_count": 18,
   "metadata": {},
   "outputs": [
    {
     "name": "stdout",
     "output_type": "stream",
     "text": [
      "train_set shape: (450, 1, 13)\n",
      "test_set shape: (450, 1, 13)\n",
      "train_classes shape: (450, 1, 6)\n",
      "test_classes shape: (150, 1, 6)\n"
     ]
    }
   ],
   "source": [
    "# Check Set Shapes\n",
    "print(\"train_set shape:\",train_set_d.shape)\n",
    "print(\"test_set shape:\",train_set_d.shape)\n",
    "print(\"train_classes shape:\",train_classes_d_hot.shape)\n",
    "print(\"test_classes shape:\",test_classes_d_hot.shape)"
   ]
  },
  {
   "cell_type": "code",
   "execution_count": 19,
   "metadata": {},
   "outputs": [
    {
     "data": {
      "text/html": [
       "<center><iframe src=\"https://keras.io/models/model/\" width=\"800\" height=\"600\" frameborder=\"0\" marginheight=\"0\" marginwidth=\"0\">Loading...</iframe></center>"
      ],
      "text/plain": [
       "<IPython.core.display.HTML object>"
      ]
     },
     "metadata": {},
     "output_type": "display_data"
    }
   ],
   "source": [
    "show_web(\"https://keras.io/models/model/\")"
   ]
  },
  {
   "cell_type": "markdown",
   "metadata": {},
   "source": [
    "## Create a Model"
   ]
  },
  {
   "cell_type": "code",
   "execution_count": 20,
   "metadata": {
    "scrolled": true
   },
   "outputs": [
    {
     "name": "stdout",
     "output_type": "stream",
     "text": [
      "Model: \"model\"\n",
      "_________________________________________________________________\n",
      "Layer (type)                 Output Shape              Param #   \n",
      "=================================================================\n",
      "input_1 (InputLayer)         [(None, 1, 13)]           0         \n",
      "_________________________________________________________________\n",
      "dense (Dense)                (None, 1, 12)             168       \n",
      "_________________________________________________________________\n",
      "dense_1 (Dense)              (None, 1, 10)             130       \n",
      "_________________________________________________________________\n",
      "dense_3 (Dense)              (None, 1, 6)              66        \n",
      "_________________________________________________________________\n",
      "dense_4 (Dense)              (None, 1, 6)              42        \n",
      "=================================================================\n",
      "Total params: 406\n",
      "Trainable params: 406\n",
      "Non-trainable params: 0\n",
      "_________________________________________________________________\n"
     ]
    }
   ],
   "source": [
    "# Creat Simple Model\n",
    "model_input = Input(shape=(1,train_set.shape[1]))\n",
    "fc1 = Dense(12, activation=\"relu\")(model_input)\n",
    "fc2 = Dense(10, activation=\"relu\")(fc1)\n",
    "fc3 = Dense(8, activation=\"relu\")(fc2)\n",
    "fc4 = Dense(6, activation=\"relu\")(fc2)\n",
    "n=onehot_encoded_train_classes.shape[1]\n",
    "out = Dense(n, activation=\"softmax\")(fc4)\n",
    "model_d = Model(inputs=[model_input], outputs=[out])\n",
    "model_d.summary()"
   ]
  },
  {
   "cell_type": "code",
   "execution_count": 22,
   "metadata": {},
   "outputs": [
    {
     "data": {
      "image/png": "[encoded data removed]",
      "text/plain": [
       "<IPython.core.display.Image object>"
      ]
     },
     "execution_count": 22,
     "metadata": {},
     "output_type": "execute_result"
    }
   ],
   "source": [
    "plot_model(model_d, to_file='model_d.png', show_shapes=True)\n",
    "Image('model_d.png')"
   ]
  },
  {
   "cell_type": "markdown",
   "metadata": {},
   "source": [
    "## Compile a Model"
   ]
  },
  {
   "cell_type": "code",
   "execution_count": 23,
   "metadata": {},
   "outputs": [],
   "source": [
    "# Compile Model\n",
    "model_d.compile(loss      = 'categorical_crossentropy',\n",
    "              optimizer = SGD(lr=0.05),\n",
    "              metrics   =['accuracy'])"
   ]
  },
  {
   "cell_type": "markdown",
   "metadata": {},
   "source": [
    "## Train a Model"
   ]
  },
  {
   "cell_type": "code",
   "execution_count": 26,
   "metadata": {},
   "outputs": [
    {
     "name": "stdout",
     "output_type": "stream",
     "text": [
      "Epoch 1/200\n",
      "90/90 [==============================] - 0s 1ms/step - loss: 1.7171e-04 - accuracy: 1.0000 - val_loss: 0.3493 - val_accuracy: 0.9267\n",
      "Epoch 2/200\n",
      "90/90 [==============================] - 0s 1ms/step - loss: 1.7092e-04 - accuracy: 1.0000 - val_loss: 0.3495 - val_accuracy: 0.9267\n",
      "Epoch 3/200\n",
      "90/90 [==============================] - 0s 1ms/step - loss: 1.6946e-04 - accuracy: 1.0000 - val_loss: 0.3496 - val_accuracy: 0.9267\n",
      "Epoch 4/200\n",
      "90/90 [==============================] - 0s 995us/step - loss: 1.6852e-04 - accuracy: 1.0000 - val_loss: 0.3498 - val_accuracy: 0.9267\n",
      "Epoch 5/200\n",
      "90/90 [==============================] - 0s 1ms/step - loss: 1.6721e-04 - accuracy: 1.0000 - val_loss: 0.3497 - val_accuracy: 0.9267\n",
      "Epoch 6/200\n",
      "90/90 [==============================] - 0s 1ms/step - loss: 1.6556e-04 - accuracy: 1.0000 - val_loss: 0.3497 - val_accuracy: 0.9267\n",
      "Epoch 7/200\n",
      "90/90 [==============================] - 0s 1ms/step - loss: 1.6558e-04 - accuracy: 1.0000 - val_loss: 0.3498 - val_accuracy: 0.9267\n",
      "Epoch 8/200\n",
      "90/90 [==============================] - 0s 1ms/step - loss: 1.6388e-04 - accuracy: 1.0000 - val_loss: 0.3500 - val_accuracy: 0.9267\n",
      "Epoch 9/200\n",
      "90/90 [==============================] - 0s 1ms/step - loss: 1.6286e-04 - accuracy: 1.0000 - val_loss: 0.3503 - val_accuracy: 0.9267\n",
      "Epoch 10/200\n",
      "90/90 [==============================] - 0s 1ms/step - loss: 1.6109e-04 - accuracy: 1.0000 - val_loss: 0.3504 - val_accuracy: 0.9267\n",
      "Epoch 11/200\n",
      "90/90 [==============================] - 0s 1ms/step - loss: 1.6054e-04 - accuracy: 1.0000 - val_loss: 0.3503 - val_accuracy: 0.9267\n",
      "Epoch 12/200\n",
      "90/90 [==============================] - 0s 1ms/step - loss: 1.5923e-04 - accuracy: 1.0000 - val_loss: 0.3504 - val_accuracy: 0.9267\n",
      "Epoch 13/200\n",
      "90/90 [==============================] - 0s 1ms/step - loss: 1.5850e-04 - accuracy: 1.0000 - val_loss: 0.3505 - val_accuracy: 0.9267\n",
      "Epoch 14/200\n",
      "90/90 [==============================] - 0s 1ms/step - loss: 1.5672e-04 - accuracy: 1.0000 - val_loss: 0.3506 - val_accuracy: 0.9267\n",
      "Epoch 15/200\n",
      "90/90 [==============================] - 0s 1ms/step - loss: 1.5633e-04 - accuracy: 1.0000 - val_loss: 0.3509 - val_accuracy: 0.9267\n",
      "Epoch 16/200\n",
      "90/90 [==============================] - 0s 1ms/step - loss: 1.5564e-04 - accuracy: 1.0000 - val_loss: 0.3508 - val_accuracy: 0.9267\n",
      "Epoch 17/200\n",
      "90/90 [==============================] - 0s 1ms/step - loss: 1.5466e-04 - accuracy: 1.0000 - val_loss: 0.3511 - val_accuracy: 0.9267\n",
      "Epoch 18/200\n",
      "90/90 [==============================] - 0s 1ms/step - loss: 1.5333e-04 - accuracy: 1.0000 - val_loss: 0.3510 - val_accuracy: 0.9267\n",
      "Epoch 19/200\n",
      "90/90 [==============================] - 0s 1ms/step - loss: 1.5219e-04 - accuracy: 1.0000 - val_loss: 0.3511 - val_accuracy: 0.9267\n",
      "Epoch 20/200\n",
      "90/90 [==============================] - 0s 1ms/step - loss: 1.5153e-04 - accuracy: 1.0000 - val_loss: 0.3514 - val_accuracy: 0.9267\n",
      "Epoch 21/200\n",
      "90/90 [==============================] - 0s 1ms/step - loss: 1.5041e-04 - accuracy: 1.0000 - val_loss: 0.3513 - val_accuracy: 0.9267\n",
      "Epoch 22/200\n",
      "90/90 [==============================] - 0s 1ms/step - loss: 1.4971e-04 - accuracy: 1.0000 - val_loss: 0.3514 - val_accuracy: 0.9267\n",
      "Epoch 23/200\n",
      "90/90 [==============================] - 0s 1ms/step - loss: 1.4861e-04 - accuracy: 1.0000 - val_loss: 0.3515 - val_accuracy: 0.9267\n",
      "Epoch 24/200\n",
      "90/90 [==============================] - 0s 1ms/step - loss: 1.4787e-04 - accuracy: 1.0000 - val_loss: 0.3517 - val_accuracy: 0.9267\n",
      "Epoch 25/200\n",
      "90/90 [==============================] - 0s 1ms/step - loss: 1.4664e-04 - accuracy: 1.0000 - val_loss: 0.3517 - val_accuracy: 0.9267\n",
      "Epoch 26/200\n",
      "90/90 [==============================] - 0s 1ms/step - loss: 1.4601e-04 - accuracy: 1.0000 - val_loss: 0.3519 - val_accuracy: 0.9267\n",
      "Epoch 27/200\n",
      "90/90 [==============================] - 0s 1ms/step - loss: 1.4500e-04 - accuracy: 1.0000 - val_loss: 0.3520 - val_accuracy: 0.9267\n",
      "Epoch 28/200\n",
      "90/90 [==============================] - 0s 1ms/step - loss: 1.4392e-04 - accuracy: 1.0000 - val_loss: 0.3522 - val_accuracy: 0.9267\n",
      "Epoch 29/200\n",
      "90/90 [==============================] - 0s 1ms/step - loss: 1.4354e-04 - accuracy: 1.0000 - val_loss: 0.3523 - val_accuracy: 0.9267\n",
      "Epoch 30/200\n",
      "90/90 [==============================] - 0s 1ms/step - loss: 1.4250e-04 - accuracy: 1.0000 - val_loss: 0.3524 - val_accuracy: 0.9267\n",
      "Epoch 31/200\n",
      "90/90 [==============================] - 0s 1ms/step - loss: 1.4160e-04 - accuracy: 1.0000 - val_loss: 0.3526 - val_accuracy: 0.9267\n",
      "Epoch 32/200\n",
      "90/90 [==============================] - 0s 1ms/step - loss: 1.4045e-04 - accuracy: 1.0000 - val_loss: 0.3528 - val_accuracy: 0.9267\n",
      "Epoch 33/200\n",
      "90/90 [==============================] - 0s 1ms/step - loss: 1.4013e-04 - accuracy: 1.0000 - val_loss: 0.3527 - val_accuracy: 0.9267\n",
      "Epoch 34/200\n",
      "90/90 [==============================] - 0s 1ms/step - loss: 1.3888e-04 - accuracy: 1.0000 - val_loss: 0.3527 - val_accuracy: 0.9267\n",
      "Epoch 35/200\n",
      "90/90 [==============================] - 0s 1ms/step - loss: 1.3797e-04 - accuracy: 1.0000 - val_loss: 0.3530 - val_accuracy: 0.9267\n",
      "Epoch 36/200\n",
      "90/90 [==============================] - 0s 1ms/step - loss: 1.3751e-04 - accuracy: 1.0000 - val_loss: 0.3529 - val_accuracy: 0.9267\n",
      "Epoch 37/200\n",
      "90/90 [==============================] - 0s 1ms/step - loss: 1.3667e-04 - accuracy: 1.0000 - val_loss: 0.3529 - val_accuracy: 0.9267\n",
      "Epoch 38/200\n",
      "90/90 [==============================] - 0s 1ms/step - loss: 1.3575e-04 - accuracy: 1.0000 - val_loss: 0.3532 - val_accuracy: 0.9267\n",
      "Epoch 39/200\n",
      "90/90 [==============================] - 0s 1ms/step - loss: 1.3529e-04 - accuracy: 1.0000 - val_loss: 0.3532 - val_accuracy: 0.9267\n",
      "Epoch 40/200\n",
      "90/90 [==============================] - 0s 1ms/step - loss: 1.3432e-04 - accuracy: 1.0000 - val_loss: 0.3531 - val_accuracy: 0.9267\n",
      "Epoch 41/200\n",
      "90/90 [==============================] - 0s 1ms/step - loss: 1.3342e-04 - accuracy: 1.0000 - val_loss: 0.3532 - val_accuracy: 0.9267\n",
      "Epoch 42/200\n",
      "90/90 [==============================] - 0s 1ms/step - loss: 1.3304e-04 - accuracy: 1.0000 - val_loss: 0.3532 - val_accuracy: 0.9267\n",
      "Epoch 43/200\n",
      "90/90 [==============================] - 0s 1ms/step - loss: 1.3198e-04 - accuracy: 1.0000 - val_loss: 0.3533 - val_accuracy: 0.9267\n",
      "Epoch 44/200\n",
      "90/90 [==============================] - 0s 1ms/step - loss: 1.3142e-04 - accuracy: 1.0000 - val_loss: 0.3534 - val_accuracy: 0.9267\n",
      "Epoch 45/200\n",
      "90/90 [==============================] - 0s 1ms/step - loss: 1.3068e-04 - accuracy: 1.0000 - val_loss: 0.3536 - val_accuracy: 0.9267\n",
      "Epoch 46/200\n",
      "90/90 [==============================] - 0s 1ms/step - loss: 1.2997e-04 - accuracy: 1.0000 - val_loss: 0.3537 - val_accuracy: 0.9267\n",
      "Epoch 47/200\n",
      "90/90 [==============================] - 0s 1ms/step - loss: 1.2910e-04 - accuracy: 1.0000 - val_loss: 0.3539 - val_accuracy: 0.9267\n",
      "Epoch 48/200\n",
      "90/90 [==============================] - 0s 1ms/step - loss: 1.2857e-04 - accuracy: 1.0000 - val_loss: 0.3541 - val_accuracy: 0.9267\n",
      "Epoch 49/200\n",
      "90/90 [==============================] - 0s 1ms/step - loss: 1.2777e-04 - accuracy: 1.0000 - val_loss: 0.3542 - val_accuracy: 0.9267\n",
      "Epoch 50/200\n",
      "90/90 [==============================] - 0s 1ms/step - loss: 1.2712e-04 - accuracy: 1.0000 - val_loss: 0.3544 - val_accuracy: 0.9267\n",
      "Epoch 51/200\n",
      "90/90 [==============================] - 0s 1ms/step - loss: 1.2626e-04 - accuracy: 1.0000 - val_loss: 0.3545 - val_accuracy: 0.9267\n",
      "Epoch 52/200\n",
      "90/90 [==============================] - 0s 1ms/step - loss: 1.2560e-04 - accuracy: 1.0000 - val_loss: 0.3545 - val_accuracy: 0.9267\n",
      "Epoch 53/200\n",
      "90/90 [==============================] - 0s 1ms/step - loss: 1.2505e-04 - accuracy: 1.0000 - val_loss: 0.3547 - val_accuracy: 0.9267\n",
      "Epoch 54/200\n",
      "90/90 [==============================] - 0s 1ms/step - loss: 1.2436e-04 - accuracy: 1.0000 - val_loss: 0.3547 - val_accuracy: 0.9267\n",
      "Epoch 55/200\n",
      "90/90 [==============================] - 0s 1ms/step - loss: 1.2380e-04 - accuracy: 1.0000 - val_loss: 0.3547 - val_accuracy: 0.9267\n",
      "Epoch 56/200\n",
      "90/90 [==============================] - 0s 1ms/step - loss: 1.2320e-04 - accuracy: 1.0000 - val_loss: 0.3549 - val_accuracy: 0.9267\n",
      "Epoch 57/200\n"
     ]
    },
    {
     "name": "stdout",
     "output_type": "stream",
     "text": [
      "90/90 [==============================] - 0s 1ms/step - loss: 1.2252e-04 - accuracy: 1.0000 - val_loss: 0.3550 - val_accuracy: 0.9267\n",
      "Epoch 58/200\n",
      "90/90 [==============================] - 0s 1ms/step - loss: 1.2175e-04 - accuracy: 1.0000 - val_loss: 0.3549 - val_accuracy: 0.9267\n",
      "Epoch 59/200\n",
      "90/90 [==============================] - 0s 1ms/step - loss: 1.2128e-04 - accuracy: 1.0000 - val_loss: 0.3550 - val_accuracy: 0.9267\n",
      "Epoch 60/200\n",
      "90/90 [==============================] - 0s 1ms/step - loss: 1.2042e-04 - accuracy: 1.0000 - val_loss: 0.3551 - val_accuracy: 0.9267\n",
      "Epoch 61/200\n",
      "90/90 [==============================] - 0s 1ms/step - loss: 1.2020e-04 - accuracy: 1.0000 - val_loss: 0.3552 - val_accuracy: 0.9267\n",
      "Epoch 62/200\n",
      "90/90 [==============================] - 0s 1ms/step - loss: 1.1925e-04 - accuracy: 1.0000 - val_loss: 0.3553 - val_accuracy: 0.9267\n",
      "Epoch 63/200\n",
      "90/90 [==============================] - 0s 1ms/step - loss: 1.1887e-04 - accuracy: 1.0000 - val_loss: 0.3554 - val_accuracy: 0.9267\n",
      "Epoch 64/200\n",
      "90/90 [==============================] - 0s 1ms/step - loss: 1.1802e-04 - accuracy: 1.0000 - val_loss: 0.3554 - val_accuracy: 0.9267\n",
      "Epoch 65/200\n",
      "90/90 [==============================] - 0s 1ms/step - loss: 1.1751e-04 - accuracy: 1.0000 - val_loss: 0.3556 - val_accuracy: 0.9267\n",
      "Epoch 66/200\n",
      "90/90 [==============================] - 0s 1ms/step - loss: 1.1688e-04 - accuracy: 1.0000 - val_loss: 0.3557 - val_accuracy: 0.9267\n",
      "Epoch 67/200\n",
      "90/90 [==============================] - 0s 1ms/step - loss: 1.1635e-04 - accuracy: 1.0000 - val_loss: 0.3558 - val_accuracy: 0.9267\n",
      "Epoch 68/200\n",
      "90/90 [==============================] - 0s 1ms/step - loss: 1.1583e-04 - accuracy: 1.0000 - val_loss: 0.3558 - val_accuracy: 0.9267\n",
      "Epoch 69/200\n",
      "90/90 [==============================] - 0s 2ms/step - loss: 1.1506e-04 - accuracy: 1.0000 - val_loss: 0.3559 - val_accuracy: 0.9267\n",
      "Epoch 70/200\n",
      "90/90 [==============================] - 0s 1ms/step - loss: 1.1471e-04 - accuracy: 1.0000 - val_loss: 0.3560 - val_accuracy: 0.9267\n",
      "Epoch 71/200\n",
      "90/90 [==============================] - 0s 1ms/step - loss: 1.1405e-04 - accuracy: 1.0000 - val_loss: 0.3561 - val_accuracy: 0.9267\n",
      "Epoch 72/200\n",
      "90/90 [==============================] - 0s 1ms/step - loss: 1.1350e-04 - accuracy: 1.0000 - val_loss: 0.3562 - val_accuracy: 0.9267\n",
      "Epoch 73/200\n",
      "90/90 [==============================] - 0s 947us/step - loss: 1.1315e-04 - accuracy: 1.0000 - val_loss: 0.3563 - val_accuracy: 0.9267\n",
      "Epoch 74/200\n",
      "90/90 [==============================] - 0s 1ms/step - loss: 1.1236e-04 - accuracy: 1.0000 - val_loss: 0.3564 - val_accuracy: 0.9267\n",
      "Epoch 75/200\n",
      "90/90 [==============================] - 0s 1ms/step - loss: 1.1189e-04 - accuracy: 1.0000 - val_loss: 0.3565 - val_accuracy: 0.9267\n",
      "Epoch 76/200\n",
      "90/90 [==============================] - 0s 1ms/step - loss: 1.1122e-04 - accuracy: 1.0000 - val_loss: 0.3566 - val_accuracy: 0.9267\n",
      "Epoch 77/200\n",
      "90/90 [==============================] - 0s 1ms/step - loss: 1.1076e-04 - accuracy: 1.0000 - val_loss: 0.3566 - val_accuracy: 0.9267\n",
      "Epoch 78/200\n",
      "90/90 [==============================] - 0s 1ms/step - loss: 1.1015e-04 - accuracy: 1.0000 - val_loss: 0.3567 - val_accuracy: 0.9267\n",
      "Epoch 79/200\n",
      "90/90 [==============================] - 0s 1ms/step - loss: 1.0980e-04 - accuracy: 1.0000 - val_loss: 0.3567 - val_accuracy: 0.9267\n",
      "Epoch 80/200\n",
      "90/90 [==============================] - 0s 1ms/step - loss: 1.0871e-04 - accuracy: 1.0000 - val_loss: 0.3568 - val_accuracy: 0.9267\n",
      "Epoch 81/200\n",
      "90/90 [==============================] - 0s 1ms/step - loss: 1.0860e-04 - accuracy: 1.0000 - val_loss: 0.3570 - val_accuracy: 0.9267\n",
      "Epoch 82/200\n",
      "90/90 [==============================] - 0s 1ms/step - loss: 1.0814e-04 - accuracy: 1.0000 - val_loss: 0.3570 - val_accuracy: 0.9267\n",
      "Epoch 83/200\n",
      "90/90 [==============================] - 0s 1ms/step - loss: 1.0762e-04 - accuracy: 1.0000 - val_loss: 0.3572 - val_accuracy: 0.9267\n",
      "Epoch 84/200\n",
      "90/90 [==============================] - 0s 1ms/step - loss: 1.0722e-04 - accuracy: 1.0000 - val_loss: 0.3572 - val_accuracy: 0.9267\n",
      "Epoch 85/200\n",
      "90/90 [==============================] - 0s 1ms/step - loss: 1.0674e-04 - accuracy: 1.0000 - val_loss: 0.3573 - val_accuracy: 0.9267\n",
      "Epoch 86/200\n",
      "90/90 [==============================] - 0s 1ms/step - loss: 1.0597e-04 - accuracy: 1.0000 - val_loss: 0.3575 - val_accuracy: 0.9267\n",
      "Epoch 87/200\n",
      "90/90 [==============================] - 0s 1ms/step - loss: 1.0564e-04 - accuracy: 1.0000 - val_loss: 0.3575 - val_accuracy: 0.9267\n",
      "Epoch 88/200\n",
      "90/90 [==============================] - 0s 1ms/step - loss: 1.0509e-04 - accuracy: 1.0000 - val_loss: 0.3575 - val_accuracy: 0.9267\n",
      "Epoch 89/200\n",
      "90/90 [==============================] - 0s 1ms/step - loss: 1.0469e-04 - accuracy: 1.0000 - val_loss: 0.3575 - val_accuracy: 0.9267\n",
      "Epoch 90/200\n",
      "90/90 [==============================] - 0s 1ms/step - loss: 1.0428e-04 - accuracy: 1.0000 - val_loss: 0.3576 - val_accuracy: 0.9267\n",
      "Epoch 91/200\n",
      "90/90 [==============================] - 0s 1ms/step - loss: 1.0376e-04 - accuracy: 1.0000 - val_loss: 0.3577 - val_accuracy: 0.9267\n",
      "Epoch 92/200\n",
      "90/90 [==============================] - 0s 1ms/step - loss: 1.0327e-04 - accuracy: 1.0000 - val_loss: 0.3578 - val_accuracy: 0.9267\n",
      "Epoch 93/200\n",
      "90/90 [==============================] - 0s 1ms/step - loss: 1.0269e-04 - accuracy: 1.0000 - val_loss: 0.3577 - val_accuracy: 0.9267\n",
      "Epoch 94/200\n",
      "90/90 [==============================] - 0s 1ms/step - loss: 1.0238e-04 - accuracy: 1.0000 - val_loss: 0.3578 - val_accuracy: 0.9267\n",
      "Epoch 95/200\n",
      "90/90 [==============================] - 0s 1ms/step - loss: 1.0193e-04 - accuracy: 1.0000 - val_loss: 0.3579 - val_accuracy: 0.9267\n",
      "Epoch 96/200\n",
      "90/90 [==============================] - 0s 1ms/step - loss: 1.0133e-04 - accuracy: 1.0000 - val_loss: 0.3581 - val_accuracy: 0.9267\n",
      "Epoch 97/200\n",
      "90/90 [==============================] - 0s 1ms/step - loss: 1.0084e-04 - accuracy: 1.0000 - val_loss: 0.3582 - val_accuracy: 0.9267\n",
      "Epoch 98/200\n",
      "90/90 [==============================] - 0s 1ms/step - loss: 1.0058e-04 - accuracy: 1.0000 - val_loss: 0.3583 - val_accuracy: 0.9267\n",
      "Epoch 99/200\n",
      "90/90 [==============================] - 0s 1ms/step - loss: 1.0002e-04 - accuracy: 1.0000 - val_loss: 0.3584 - val_accuracy: 0.9267\n",
      "Epoch 100/200\n",
      "90/90 [==============================] - 0s 1ms/step - loss: 9.9692e-05 - accuracy: 1.0000 - val_loss: 0.3585 - val_accuracy: 0.9267\n",
      "Epoch 101/200\n",
      "90/90 [==============================] - 0s 1ms/step - loss: 9.9102e-05 - accuracy: 1.0000 - val_loss: 0.3586 - val_accuracy: 0.9267\n",
      "Epoch 102/200\n",
      "90/90 [==============================] - 0s 1ms/step - loss: 9.8807e-05 - accuracy: 1.0000 - val_loss: 0.3587 - val_accuracy: 0.9267\n",
      "Epoch 103/200\n",
      "90/90 [==============================] - 0s 1ms/step - loss: 9.8368e-05 - accuracy: 1.0000 - val_loss: 0.3588 - val_accuracy: 0.9267\n",
      "Epoch 104/200\n",
      "90/90 [==============================] - 0s 1ms/step - loss: 9.7961e-05 - accuracy: 1.0000 - val_loss: 0.3589 - val_accuracy: 0.9267\n",
      "Epoch 105/200\n",
      "90/90 [==============================] - 0s 1ms/step - loss: 9.7618e-05 - accuracy: 1.0000 - val_loss: 0.3590 - val_accuracy: 0.9267\n",
      "Epoch 106/200\n",
      "90/90 [==============================] - 0s 1ms/step - loss: 9.7164e-05 - accuracy: 1.0000 - val_loss: 0.3591 - val_accuracy: 0.9267\n",
      "Epoch 107/200\n",
      "90/90 [==============================] - 0s 1ms/step - loss: 9.6628e-05 - accuracy: 1.0000 - val_loss: 0.3592 - val_accuracy: 0.9267\n",
      "Epoch 108/200\n",
      "90/90 [==============================] - 0s 1ms/step - loss: 9.6265e-05 - accuracy: 1.0000 - val_loss: 0.3592 - val_accuracy: 0.9267\n",
      "Epoch 109/200\n",
      "90/90 [==============================] - 0s 1ms/step - loss: 9.5797e-05 - accuracy: 1.0000 - val_loss: 0.3592 - val_accuracy: 0.9267\n",
      "Epoch 110/200\n",
      "90/90 [==============================] - 0s 969us/step - loss: 9.5405e-05 - accuracy: 1.0000 - val_loss: 0.3594 - val_accuracy: 0.9267\n",
      "Epoch 111/200\n",
      "90/90 [==============================] - 0s 961us/step - loss: 9.5120e-05 - accuracy: 1.0000 - val_loss: 0.3595 - val_accuracy: 0.9267\n",
      "Epoch 112/200\n",
      "90/90 [==============================] - 0s 1ms/step - loss: 9.4687e-05 - accuracy: 1.0000 - val_loss: 0.3597 - val_accuracy: 0.9267\n",
      "Epoch 113/200\n"
     ]
    },
    {
     "name": "stdout",
     "output_type": "stream",
     "text": [
      "90/90 [==============================] - 0s 1ms/step - loss: 9.4215e-05 - accuracy: 1.0000 - val_loss: 0.3597 - val_accuracy: 0.9267\n",
      "Epoch 114/200\n",
      "90/90 [==============================] - 0s 955us/step - loss: 9.3492e-05 - accuracy: 1.0000 - val_loss: 0.3598 - val_accuracy: 0.9267\n",
      "Epoch 115/200\n",
      "90/90 [==============================] - 0s 1ms/step - loss: 9.3323e-05 - accuracy: 1.0000 - val_loss: 0.3598 - val_accuracy: 0.9267\n",
      "Epoch 116/200\n",
      "90/90 [==============================] - 0s 1ms/step - loss: 9.3038e-05 - accuracy: 1.0000 - val_loss: 0.3599 - val_accuracy: 0.9267\n",
      "Epoch 117/200\n",
      "90/90 [==============================] - 0s 992us/step - loss: 9.2702e-05 - accuracy: 1.0000 - val_loss: 0.3599 - val_accuracy: 0.9267\n",
      "Epoch 118/200\n",
      "90/90 [==============================] - 0s 1ms/step - loss: 9.2184e-05 - accuracy: 1.0000 - val_loss: 0.3600 - val_accuracy: 0.9267\n",
      "Epoch 119/200\n",
      "90/90 [==============================] - 0s 1ms/step - loss: 9.2035e-05 - accuracy: 1.0000 - val_loss: 0.3600 - val_accuracy: 0.9267\n",
      "Epoch 120/200\n",
      "90/90 [==============================] - 0s 1ms/step - loss: 9.1625e-05 - accuracy: 1.0000 - val_loss: 0.3601 - val_accuracy: 0.9267\n",
      "Epoch 121/200\n",
      "90/90 [==============================] - 0s 1ms/step - loss: 9.1229e-05 - accuracy: 1.0000 - val_loss: 0.3602 - val_accuracy: 0.9267\n",
      "Epoch 122/200\n",
      "90/90 [==============================] - 0s 1ms/step - loss: 9.0612e-05 - accuracy: 1.0000 - val_loss: 0.3603 - val_accuracy: 0.9267\n",
      "Epoch 123/200\n",
      "90/90 [==============================] - 0s 1ms/step - loss: 9.0300e-05 - accuracy: 1.0000 - val_loss: 0.3603 - val_accuracy: 0.9267\n",
      "Epoch 124/200\n",
      "90/90 [==============================] - 0s 974us/step - loss: 8.9986e-05 - accuracy: 1.0000 - val_loss: 0.3604 - val_accuracy: 0.9267\n",
      "Epoch 125/200\n",
      "90/90 [==============================] - 0s 1ms/step - loss: 8.9736e-05 - accuracy: 1.0000 - val_loss: 0.3605 - val_accuracy: 0.9267\n",
      "Epoch 126/200\n",
      "90/90 [==============================] - 0s 1ms/step - loss: 8.9425e-05 - accuracy: 1.0000 - val_loss: 0.3606 - val_accuracy: 0.9267\n",
      "Epoch 127/200\n",
      "90/90 [==============================] - 0s 994us/step - loss: 8.8926e-05 - accuracy: 1.0000 - val_loss: 0.3606 - val_accuracy: 0.9267\n",
      "Epoch 128/200\n",
      "90/90 [==============================] - 0s 1ms/step - loss: 8.8882e-05 - accuracy: 1.0000 - val_loss: 0.3606 - val_accuracy: 0.9267\n",
      "Epoch 129/200\n",
      "90/90 [==============================] - 0s 1ms/step - loss: 8.8432e-05 - accuracy: 1.0000 - val_loss: 0.3607 - val_accuracy: 0.9267\n",
      "Epoch 130/200\n",
      "90/90 [==============================] - 0s 1ms/step - loss: 8.7975e-05 - accuracy: 1.0000 - val_loss: 0.3608 - val_accuracy: 0.9267\n",
      "Epoch 131/200\n",
      "90/90 [==============================] - 0s 1ms/step - loss: 8.7592e-05 - accuracy: 1.0000 - val_loss: 0.3609 - val_accuracy: 0.9267\n",
      "Epoch 132/200\n",
      "90/90 [==============================] - 0s 1ms/step - loss: 8.7239e-05 - accuracy: 1.0000 - val_loss: 0.3609 - val_accuracy: 0.9267\n",
      "Epoch 133/200\n",
      "90/90 [==============================] - 0s 1ms/step - loss: 8.7005e-05 - accuracy: 1.0000 - val_loss: 0.3611 - val_accuracy: 0.9267\n",
      "Epoch 134/200\n",
      "90/90 [==============================] - 0s 1ms/step - loss: 8.6584e-05 - accuracy: 1.0000 - val_loss: 0.3612 - val_accuracy: 0.9267\n",
      "Epoch 135/200\n",
      "90/90 [==============================] - 0s 1ms/step - loss: 8.6268e-05 - accuracy: 1.0000 - val_loss: 0.3612 - val_accuracy: 0.9267\n",
      "Epoch 136/200\n",
      "90/90 [==============================] - 0s 1ms/step - loss: 8.5830e-05 - accuracy: 1.0000 - val_loss: 0.3613 - val_accuracy: 0.9267\n",
      "Epoch 137/200\n",
      "90/90 [==============================] - 0s 1ms/step - loss: 8.5525e-05 - accuracy: 1.0000 - val_loss: 0.3614 - val_accuracy: 0.9267\n",
      "Epoch 138/200\n",
      "90/90 [==============================] - 0s 1ms/step - loss: 8.5144e-05 - accuracy: 1.0000 - val_loss: 0.3614 - val_accuracy: 0.9267\n",
      "Epoch 139/200\n",
      "90/90 [==============================] - 0s 1ms/step - loss: 8.5016e-05 - accuracy: 1.0000 - val_loss: 0.3615 - val_accuracy: 0.9267\n",
      "Epoch 140/200\n",
      "90/90 [==============================] - 0s 1ms/step - loss: 8.4661e-05 - accuracy: 1.0000 - val_loss: 0.3615 - val_accuracy: 0.9267\n",
      "Epoch 141/200\n",
      "90/90 [==============================] - 0s 1ms/step - loss: 8.4254e-05 - accuracy: 1.0000 - val_loss: 0.3616 - val_accuracy: 0.9267\n",
      "Epoch 142/200\n",
      "90/90 [==============================] - 0s 1ms/step - loss: 8.3927e-05 - accuracy: 1.0000 - val_loss: 0.3617 - val_accuracy: 0.9267\n",
      "Epoch 143/200\n",
      "90/90 [==============================] - 0s 999us/step - loss: 8.3640e-05 - accuracy: 1.0000 - val_loss: 0.3618 - val_accuracy: 0.9267\n",
      "Epoch 144/200\n",
      "90/90 [==============================] - 0s 943us/step - loss: 8.3248e-05 - accuracy: 1.0000 - val_loss: 0.3619 - val_accuracy: 0.9267\n",
      "Epoch 145/200\n",
      "90/90 [==============================] - 0s 986us/step - loss: 8.2959e-05 - accuracy: 1.0000 - val_loss: 0.3620 - val_accuracy: 0.9267\n",
      "Epoch 146/200\n",
      "90/90 [==============================] - 0s 941us/step - loss: 8.2581e-05 - accuracy: 1.0000 - val_loss: 0.3621 - val_accuracy: 0.9267\n",
      "Epoch 147/200\n",
      "90/90 [==============================] - 0s 932us/step - loss: 8.2453e-05 - accuracy: 1.0000 - val_loss: 0.3622 - val_accuracy: 0.9267\n",
      "Epoch 148/200\n",
      "90/90 [==============================] - 0s 1ms/step - loss: 8.2016e-05 - accuracy: 1.0000 - val_loss: 0.3623 - val_accuracy: 0.9267\n",
      "Epoch 149/200\n",
      "90/90 [==============================] - 0s 1ms/step - loss: 8.1815e-05 - accuracy: 1.0000 - val_loss: 0.3623 - val_accuracy: 0.9267\n",
      "Epoch 150/200\n",
      "90/90 [==============================] - 0s 991us/step - loss: 8.1492e-05 - accuracy: 1.0000 - val_loss: 0.3624 - val_accuracy: 0.9267\n",
      "Epoch 151/200\n",
      "90/90 [==============================] - 0s 971us/step - loss: 8.1119e-05 - accuracy: 1.0000 - val_loss: 0.3625 - val_accuracy: 0.9267\n",
      "Epoch 152/200\n",
      "90/90 [==============================] - 0s 1ms/step - loss: 8.0861e-05 - accuracy: 1.0000 - val_loss: 0.3625 - val_accuracy: 0.9267\n",
      "Epoch 153/200\n",
      "90/90 [==============================] - 0s 1ms/step - loss: 8.0613e-05 - accuracy: 1.0000 - val_loss: 0.3626 - val_accuracy: 0.9267\n",
      "Epoch 154/200\n",
      "90/90 [==============================] - 0s 932us/step - loss: 8.0224e-05 - accuracy: 1.0000 - val_loss: 0.3627 - val_accuracy: 0.9267\n",
      "Epoch 155/200\n",
      "90/90 [==============================] - 0s 1ms/step - loss: 7.9826e-05 - accuracy: 1.0000 - val_loss: 0.3627 - val_accuracy: 0.9267\n",
      "Epoch 156/200\n",
      "90/90 [==============================] - 0s 945us/step - loss: 7.9737e-05 - accuracy: 1.0000 - val_loss: 0.3628 - val_accuracy: 0.9267\n",
      "Epoch 157/200\n",
      "90/90 [==============================] - 0s 927us/step - loss: 7.9355e-05 - accuracy: 1.0000 - val_loss: 0.3629 - val_accuracy: 0.9267\n",
      "Epoch 158/200\n",
      "90/90 [==============================] - 0s 930us/step - loss: 7.9066e-05 - accuracy: 1.0000 - val_loss: 0.3630 - val_accuracy: 0.9267\n",
      "Epoch 159/200\n",
      "90/90 [==============================] - 0s 934us/step - loss: 7.8785e-05 - accuracy: 1.0000 - val_loss: 0.3631 - val_accuracy: 0.9267\n",
      "Epoch 160/200\n",
      "90/90 [==============================] - 0s 1ms/step - loss: 7.8533e-05 - accuracy: 1.0000 - val_loss: 0.3631 - val_accuracy: 0.9267\n",
      "Epoch 161/200\n",
      "90/90 [==============================] - 0s 955us/step - loss: 7.8287e-05 - accuracy: 1.0000 - val_loss: 0.3632 - val_accuracy: 0.9267\n",
      "Epoch 162/200\n",
      "90/90 [==============================] - 0s 963us/step - loss: 7.7956e-05 - accuracy: 1.0000 - val_loss: 0.3633 - val_accuracy: 0.9267\n",
      "Epoch 163/200\n",
      "90/90 [==============================] - 0s 934us/step - loss: 7.7713e-05 - accuracy: 1.0000 - val_loss: 0.3633 - val_accuracy: 0.9267\n",
      "Epoch 164/200\n",
      "90/90 [==============================] - 0s 947us/step - loss: 7.7524e-05 - accuracy: 1.0000 - val_loss: 0.3634 - val_accuracy: 0.9267\n",
      "Epoch 165/200\n",
      "90/90 [==============================] - 0s 1ms/step - loss: 7.6999e-05 - accuracy: 1.0000 - val_loss: 0.3634 - val_accuracy: 0.9267\n",
      "Epoch 166/200\n",
      "90/90 [==============================] - 0s 967us/step - loss: 7.6956e-05 - accuracy: 1.0000 - val_loss: 0.3635 - val_accuracy: 0.9267\n",
      "Epoch 167/200\n",
      "90/90 [==============================] - 0s 933us/step - loss: 7.6703e-05 - accuracy: 1.0000 - val_loss: 0.3636 - val_accuracy: 0.9267\n",
      "Epoch 168/200\n"
     ]
    },
    {
     "name": "stdout",
     "output_type": "stream",
     "text": [
      "90/90 [==============================] - 0s 924us/step - loss: 7.6226e-05 - accuracy: 1.0000 - val_loss: 0.3637 - val_accuracy: 0.9267\n",
      "Epoch 169/200\n",
      "90/90 [==============================] - 0s 900us/step - loss: 7.6029e-05 - accuracy: 1.0000 - val_loss: 0.3638 - val_accuracy: 0.9267\n",
      "Epoch 170/200\n",
      "90/90 [==============================] - 0s 945us/step - loss: 7.5790e-05 - accuracy: 1.0000 - val_loss: 0.3638 - val_accuracy: 0.9267\n",
      "Epoch 171/200\n",
      "90/90 [==============================] - 0s 959us/step - loss: 7.5569e-05 - accuracy: 1.0000 - val_loss: 0.3639 - val_accuracy: 0.9267\n",
      "Epoch 172/200\n",
      "90/90 [==============================] - 0s 926us/step - loss: 7.5313e-05 - accuracy: 1.0000 - val_loss: 0.3640 - val_accuracy: 0.9267\n",
      "Epoch 173/200\n",
      "90/90 [==============================] - 0s 947us/step - loss: 7.5042e-05 - accuracy: 1.0000 - val_loss: 0.3641 - val_accuracy: 0.9267\n",
      "Epoch 174/200\n",
      "90/90 [==============================] - 0s 1ms/step - loss: 7.4765e-05 - accuracy: 1.0000 - val_loss: 0.3642 - val_accuracy: 0.9267\n",
      "Epoch 175/200\n",
      "90/90 [==============================] - 0s 939us/step - loss: 7.4482e-05 - accuracy: 1.0000 - val_loss: 0.3642 - val_accuracy: 0.9267\n",
      "Epoch 176/200\n",
      "90/90 [==============================] - 0s 962us/step - loss: 7.4293e-05 - accuracy: 1.0000 - val_loss: 0.3643 - val_accuracy: 0.9267\n",
      "Epoch 177/200\n",
      "90/90 [==============================] - 0s 933us/step - loss: 7.4023e-05 - accuracy: 1.0000 - val_loss: 0.3644 - val_accuracy: 0.9267\n",
      "Epoch 178/200\n",
      "90/90 [==============================] - 0s 939us/step - loss: 7.3660e-05 - accuracy: 1.0000 - val_loss: 0.3644 - val_accuracy: 0.9267\n",
      "Epoch 179/200\n",
      "90/90 [==============================] - 0s 943us/step - loss: 7.3532e-05 - accuracy: 1.0000 - val_loss: 0.3645 - val_accuracy: 0.9267\n",
      "Epoch 180/200\n",
      "90/90 [==============================] - 0s 967us/step - loss: 7.3315e-05 - accuracy: 1.0000 - val_loss: 0.3646 - val_accuracy: 0.9267\n",
      "Epoch 181/200\n",
      "90/90 [==============================] - 0s 943us/step - loss: 7.2988e-05 - accuracy: 1.0000 - val_loss: 0.3646 - val_accuracy: 0.9267\n",
      "Epoch 182/200\n",
      "90/90 [==============================] - 0s 910us/step - loss: 7.2820e-05 - accuracy: 1.0000 - val_loss: 0.3647 - val_accuracy: 0.9267\n",
      "Epoch 183/200\n",
      "90/90 [==============================] - 0s 1ms/step - loss: 7.2536e-05 - accuracy: 1.0000 - val_loss: 0.3647 - val_accuracy: 0.9267\n",
      "Epoch 184/200\n",
      "90/90 [==============================] - 0s 1ms/step - loss: 7.2219e-05 - accuracy: 1.0000 - val_loss: 0.3648 - val_accuracy: 0.9267\n",
      "Epoch 185/200\n",
      "90/90 [==============================] - 0s 980us/step - loss: 7.2072e-05 - accuracy: 1.0000 - val_loss: 0.3648 - val_accuracy: 0.9267\n",
      "Epoch 186/200\n",
      "90/90 [==============================] - 0s 1ms/step - loss: 7.1789e-05 - accuracy: 1.0000 - val_loss: 0.3649 - val_accuracy: 0.9267\n",
      "Epoch 187/200\n",
      "90/90 [==============================] - 0s 944us/step - loss: 7.1620e-05 - accuracy: 1.0000 - val_loss: 0.3650 - val_accuracy: 0.9267\n",
      "Epoch 188/200\n",
      "90/90 [==============================] - 0s 1ms/step - loss: 7.1290e-05 - accuracy: 1.0000 - val_loss: 0.3651 - val_accuracy: 0.9267\n",
      "Epoch 189/200\n",
      "90/90 [==============================] - 0s 1ms/step - loss: 7.1085e-05 - accuracy: 1.0000 - val_loss: 0.3651 - val_accuracy: 0.9267\n",
      "Epoch 190/200\n",
      "90/90 [==============================] - 0s 950us/step - loss: 7.0855e-05 - accuracy: 1.0000 - val_loss: 0.3652 - val_accuracy: 0.9267\n",
      "Epoch 191/200\n",
      "90/90 [==============================] - 0s 979us/step - loss: 7.0728e-05 - accuracy: 1.0000 - val_loss: 0.3653 - val_accuracy: 0.9267\n",
      "Epoch 192/200\n",
      "90/90 [==============================] - 0s 1ms/step - loss: 7.0379e-05 - accuracy: 1.0000 - val_loss: 0.3653 - val_accuracy: 0.9267\n",
      "Epoch 193/200\n",
      "90/90 [==============================] - 0s 1ms/step - loss: 7.0077e-05 - accuracy: 1.0000 - val_loss: 0.3654 - val_accuracy: 0.9267\n",
      "Epoch 194/200\n",
      "90/90 [==============================] - 0s 998us/step - loss: 6.9984e-05 - accuracy: 1.0000 - val_loss: 0.3654 - val_accuracy: 0.9267\n",
      "Epoch 195/200\n",
      "90/90 [==============================] - 0s 934us/step - loss: 6.9743e-05 - accuracy: 1.0000 - val_loss: 0.3655 - val_accuracy: 0.9267\n",
      "Epoch 196/200\n",
      "90/90 [==============================] - 0s 985us/step - loss: 6.9522e-05 - accuracy: 1.0000 - val_loss: 0.3656 - val_accuracy: 0.9267\n",
      "Epoch 197/200\n",
      "90/90 [==============================] - 0s 947us/step - loss: 6.9192e-05 - accuracy: 1.0000 - val_loss: 0.3657 - val_accuracy: 0.9267\n",
      "Epoch 198/200\n",
      "90/90 [==============================] - 0s 1ms/step - loss: 6.9094e-05 - accuracy: 1.0000 - val_loss: 0.3658 - val_accuracy: 0.9267\n",
      "Epoch 199/200\n",
      "90/90 [==============================] - 0s 935us/step - loss: 6.8892e-05 - accuracy: 1.0000 - val_loss: 0.3658 - val_accuracy: 0.9267\n",
      "Epoch 200/200\n",
      "90/90 [==============================] - 0s 919us/step - loss: 6.8609e-05 - accuracy: 1.0000 - val_loss: 0.3659 - val_accuracy: 0.9267\n"
     ]
    }
   ],
   "source": [
    "# Deep Learning Parameters\n",
    "batch_size = 5 # Number of samples per gradient update.\n",
    "epochs = 200    # An epoch is an iteration over the entire x and y data provided.\n",
    "\n",
    "# Train Model\n",
    "hist = model_d.fit(train_set_d, train_classes_d_hot, verbose=1, \n",
    "                    batch_size=batch_size, epochs=epochs, validation_data=(test_set_d,test_classes_d_hot))"
   ]
  },
  {
   "cell_type": "code",
   "execution_count": 30,
   "metadata": {},
   "outputs": [
    {
     "data": {
      "image/png": "[encoded data removed]",
      "text/plain": [
       "<Figure size 576x288 with 2 Axes>"
      ]
     },
     "metadata": {
      "needs_background": "light"
     },
     "output_type": "display_data"
    }
   ],
   "source": [
    "# Plot Training Loss and Training Accuracy\n",
    "plt.figure(figsize=(8,4))\n",
    "plt.subplot(1, 2, 1)\n",
    "plt.title(\"Training loss\")\n",
    "plt.plot(range(epochs),hist.history[\"loss\"])\n",
    "\n",
    "plt.subplot(1, 2, 2)\n",
    "plt.title(\"Training Accuracy\")\n",
    "plt.plot(range(epochs),hist.history[\"accuracy\"])\n",
    "\n",
    "plt.tight_layout()"
   ]
  },
  {
   "cell_type": "markdown",
   "metadata": {},
   "source": [
    "## Make Predictions"
   ]
  },
  {
   "cell_type": "code",
   "execution_count": 31,
   "metadata": {},
   "outputs": [],
   "source": [
    "# Predict\n",
    "predictions = model_d.predict(test_set_d)\n",
    "predictions_round=predictions.round().astype('int')\n",
    "predictions_int=np.argmax(predictions_round,axis=2)\n",
    "predictions_labels=labelencoder.inverse_transform(np.ravel(predictions_int))"
   ]
  },
  {
   "cell_type": "markdown",
   "metadata": {},
   "source": [
    "## Evaluation"
   ]
  },
  {
   "cell_type": "code",
   "execution_count": 32,
   "metadata": {},
   "outputs": [
    {
     "name": "stdout",
     "output_type": "stream",
     "text": [
      "Recall:  [0.96 1.   0.96 0.96 0.84 0.84]\n",
      "Precision:  [0.92307692 0.96153846 1.         0.92307692 0.91304348 0.84      ]\n",
      "F1-Score:  [0.94117647 0.98039216 0.97959184 0.94117647 0.875      0.84      ]\n",
      "Accuracy:  139\n",
      "Number of samples: 150\n"
     ]
    }
   ],
   "source": [
    "# Recall - the ability of the classifier to find all the positive samples\n",
    "print(\"Recall: \", recall_score(test_classes, predictions_int,average=None))\n",
    "\n",
    "# Precision - The precision is intuitively the ability of the classifier not to label as positive a sample that is negatives\n",
    "print(\"Precision: \", precision_score(test_classes, predictions_int,average=None))\n",
    "\n",
    "# F1-Score - The F1 score can be interpreted as a weighted average of the precision and recall,\n",
    "print(\"F1-Score: \", f1_score(test_classes, predictions_int, average=None))\n",
    "\n",
    "# Accuracy - the number of correctly classified samples\n",
    "print(\"Accuracy: \", accuracy_score(test_classes, predictions_int,normalize=False))\n",
    "print(\"Number of samples:\",test_classes.shape[0])"
   ]
  },
  {
   "cell_type": "code",
   "execution_count": 33,
   "metadata": {},
   "outputs": [],
   "source": [
    "# Compute confusion matrix\n",
    "cnf_matrix = confusion_matrix(test_classes, predictions_int)\n",
    "np.set_printoptions(precision=2)"
   ]
  },
  {
   "cell_type": "code",
   "execution_count": 34,
   "metadata": {},
   "outputs": [],
   "source": [
    "# Function to Plot Confusion Matrix\n",
    "# http://scikit-learn.org/stable/auto_examples/model_selection/plot_confusion_matrix.html\n",
    "def plot_confusion_matrix(cm, classes,\n",
    "                          normalize=False,\n",
    "                          title='Confusion matrix',\n",
    "                          cmap=plt.cm.Blues):\n",
    "    \"\"\"\n",
    "    This function prints and plots the confusion matrix.\n",
    "    Normalization can be applied by setting `normalize=True`.\n",
    "    \n",
    "    if normalize:\n",
    "        cm = cm.astype('float') / cm.sum(axis=1)[:, np.newaxis]\n",
    "        print(\"Normalized confusion matrix\")\n",
    "    else:\n",
    "        print('Confusion matrix, without normalization')\n",
    "    \"\"\"\n",
    "    #print(cm)\n",
    "\n",
    "    plt.imshow(cm, interpolation='nearest', cmap=cmap)\n",
    "    plt.title(title)\n",
    "    plt.colorbar()\n",
    "    tick_marks = np.arange(len(classes))\n",
    "    plt.xticks(tick_marks, classes, rotation=45)\n",
    "    plt.yticks(tick_marks, classes)\n",
    "\n",
    "    fmt = '.2f' if normalize else 'd'\n",
    "    thresh = cm.max() / 2.\n",
    "    for i, j in itertools.product(range(cm.shape[0]), range(cm.shape[1])):\n",
    "        plt.text(j, i, format(cm[i, j], fmt),\n",
    "                 horizontalalignment=\"center\",\n",
    "                 color=\"white\" if cm[i, j] > thresh else \"black\")\n",
    "\n",
    "    plt.tight_layout()\n",
    "    plt.ylabel('True label')\n",
    "    plt.xlabel('Predicted label')"
   ]
  },
  {
   "cell_type": "code",
   "execution_count": 35,
   "metadata": {},
   "outputs": [
    {
     "data": {
      "image/png": "[encoded data removed]",
      "text/plain": [
       "<Figure size 1152x864 with 2 Axes>"
      ]
     },
     "metadata": {
      "needs_background": "light"
     },
     "output_type": "display_data"
    }
   ],
   "source": [
    "# Plot non-normalized confusion matrix\n",
    "plt.figure(figsize=(16,12))\n",
    "plot_confusion_matrix(cnf_matrix, classes=labelencoder.classes_,\n",
    "                      title='Confusion matrix, without normalization')"
   ]
  },
  {
   "cell_type": "code",
   "execution_count": 36,
   "metadata": {},
   "outputs": [],
   "source": [
    "# Find wrong predicted samples indexes\n",
    "wrong_predictions = [i for i, (e1, e2) in enumerate(zip(test_classes, predictions_int)) if e1 != e2]"
   ]
  },
  {
   "cell_type": "code",
   "execution_count": 37,
   "metadata": {},
   "outputs": [
    {
     "name": "stdout",
     "output_type": "stream",
     "text": [
      "['viola' 'oboe' 'cello' 'viola' 'viola' 'viola' 'trumpet' 'sax' 'trumpet'\n",
      " 'trumpet' 'trumpet']\n",
      "['trumpet' 'sax' 'viola' 'trumpet' 'cello' 'cello' 'viola' 'flute' 'viola'\n",
      " 'sax' 'viola']\n",
      "['./audio/london_phill_dataset_multi/oboe/oboe_A5_025_forte_normal.mp3'\n",
      " './audio/london_phill_dataset_multi/cello/cello_Gs4_05_pianissimo_arco-normal.mp3'\n",
      " './audio/london_phill_dataset_multi/viola/viola_Gs6_05_forte_arco-normal.mp3'\n",
      " './audio/london_phill_dataset_multi/oboe/oboe_A5_05_forte_normal.mp3'\n",
      " './audio/london_phill_dataset_multi/oboe/oboe_As3_05_fortissimo_normal.mp3'\n",
      " './audio/london_phill_dataset_multi/oboe/oboe_A5_1_mezzo-forte_normal.mp3'\n",
      " './audio/london_phill_dataset_multi/trumpet/trumpet_As3_025_forte_normal.mp3'\n",
      " './audio/london_phill_dataset_multi/sax/saxophone_Gs3_05_forte_normal.mp3'\n",
      " './audio/london_phill_dataset_multi/trumpet/trumpet_F3_05_forte_normal.mp3'\n",
      " './audio/london_phill_dataset_multi/trumpet/trumpet_As5_05_mezzo-forte_normal.mp3'\n",
      " './audio/london_phill_dataset_multi/trumpet/trumpet_G3_05_pianissimo_normal.mp3']\n"
     ]
    }
   ],
   "source": [
    "# Find wrong predicted audio files\n",
    "print(np.array(labels)[test_index[wrong_predictions]])\n",
    "print(predictions_labels[wrong_predictions].T)\n",
    "print(np.array(files)[test_index[wrong_predictions]])"
   ]
  },
  {
   "cell_type": "code",
   "execution_count": 38,
   "metadata": {},
   "outputs": [],
   "source": [
    "def plot_history(history):\n",
    "    loss_list = [s for s in history.history.keys() if 'loss' in s and 'val' not in s]\n",
    "    val_loss_list = [s for s in history.history.keys() if 'loss' in s and 'val' in s]\n",
    "    acc_list = [s for s in history.history.keys() if 'acc' in s and 'val' not in s]\n",
    "    val_acc_list = [s for s in history.history.keys() if 'acc' in s and 'val' in s]\n",
    "    \n",
    "    if len(loss_list) == 0:\n",
    "        print('Loss is missing in history')\n",
    "        return \n",
    "    \n",
    "    ## As loss always exists\n",
    "    epochs = range(1,len(history.history[loss_list[0]]) + 1)\n",
    "    \n",
    "    ## Loss\n",
    "    plt.figure(1)\n",
    "    for l in loss_list:\n",
    "        plt.plot(epochs, history.history[l], 'b', label='Training loss (' + str(str(format(history.history[l][-1],'.5f'))+')'))\n",
    "    for l in val_loss_list:\n",
    "        plt.plot(epochs, history.history[l], 'g', label='Validation loss (' + str(str(format(history.history[l][-1],'.5f'))+')'))\n",
    "    \n",
    "    plt.title('Loss')\n",
    "    plt.xlabel('Epochs')\n",
    "    plt.ylabel('Loss')\n",
    "    plt.legend()\n",
    "    \n",
    "    ## Accuracy\n",
    "    plt.figure(2)\n",
    "    for l in acc_list:\n",
    "        plt.plot(epochs, history.history[l], 'b', label='Training accuracy (' + str(format(history.history[l][-1],'.5f'))+')')\n",
    "    for l in val_acc_list:    \n",
    "        plt.plot(epochs, history.history[l], 'g', label='Validation accuracy (' + str(format(history.history[l][-1],'.5f'))+')')\n",
    "\n",
    "    plt.title('Accuracy')\n",
    "    plt.xlabel('Epochs')\n",
    "    plt.ylabel('Accuracy')\n",
    "    plt.legend()\n",
    "    plt.show()"
   ]
  },
  {
   "cell_type": "code",
   "execution_count": 39,
   "metadata": {},
   "outputs": [
    {
     "data": {
      "image/png": "[encoded data removed]",
      "text/plain": [
       "<Figure size 432x288 with 1 Axes>"
      ]
     },
     "metadata": {
      "needs_background": "light"
     },
     "output_type": "display_data"
    },
    {
     "data": {
      "image/png": "[encoded data removed]",
      "text/plain": [
       "<Figure size 432x288 with 1 Axes>"
      ]
     },
     "metadata": {
      "needs_background": "light"
     },
     "output_type": "display_data"
    }
   ],
   "source": [
    "plot_history(hist)"
   ]
  },
  {
   "cell_type": "code",
   "execution_count": null,
   "metadata": {},
   "outputs": [],
   "source": []
  },
  {
   "cell_type": "code",
   "execution_count": null,
   "metadata": {},
   "outputs": [],
   "source": []
  },
  {
   "cell_type": "code",
   "execution_count": null,
   "metadata": {},
   "outputs": [],
   "source": []
  }
 ],
 "metadata": {
  "kernelspec": {
   "display_name": "Python 3",
   "language": "python",
   "name": "python3"
  },
  "language_info": {
   "codemirror_mode": {
    "name": "ipython",
    "version": 3
   },
   "file_extension": ".py",
   "mimetype": "text/x-python",
   "name": "python",
   "nbconvert_exporter": "python",
   "pygments_lexer": "ipython3",
   "version": "3.7.6"
  }
 },
 "nbformat": 4,
 "nbformat_minor": 2
}
